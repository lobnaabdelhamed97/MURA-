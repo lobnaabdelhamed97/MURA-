{
  "nbformat": 4,
  "nbformat_minor": 0,
  "metadata": {
    "colab": {
      "name": "Copy of patternfinalproject.ipynb",
      "provenance": [],
      "collapsed_sections": [],
      "machine_shape": "hm",
      "include_colab_link": true
    },
    "kernelspec": {
      "name": "python3",
      "display_name": "Python 3"
    },
    "accelerator": "GPU"
  },
  "cells": [
    {
      "cell_type": "markdown",
      "metadata": {
        "id": "view-in-github",
        "colab_type": "text"
      },
      "source": [
        "<a href=\"https://colab.research.google.com/github/lobnaabdelhamed97/MURA-/blob/master/Copy_of_patternfinalproject.ipynb\" target=\"_parent\"><img src=\"https://colab.research.google.com/assets/colab-badge.svg\" alt=\"Open In Colab\"/></a>"
      ]
    },
    {
      "cell_type": "markdown",
      "metadata": {
        "id": "MhjPwLOwOJsJ",
        "colab_type": "text"
      },
      "source": [
        "***MURA classification***"
      ]
    },
    {
      "cell_type": "markdown",
      "metadata": {
        "colab_type": "text",
        "id": "xNr8VSF3-U0J"
      },
      "source": [
        "# Download and understand dataset"
      ]
    },
    {
      "cell_type": "code",
      "metadata": {
        "colab_type": "code",
        "outputId": "61b92335-f3d5-4d95-8c6e-c3c5e3154cdd",
        "id": "immH9WW8-U0F",
        "colab": {
          "resources": {
            "http://localhost:8080/nbextensions/google.colab/files.js": {
              "data": "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",
              "ok": true,
              "headers": [
                [
                  "content-type",
                  "application/javascript"
                ]
              ],
              "status": 200,
              "status_text": ""
            }
          },
          "base_uri": "https://localhost:8080/",
          "height": 91
        }
      },
      "source": [
        "# Run this cell and select the kaggle.json file downloaded\n",
        "# from the Kaggle account settings page.\n",
        "from google.colab import files\n",
        "files.upload()\n"
      ],
      "execution_count": 0,
      "outputs": [
        {
          "output_type": "display_data",
          "data": {
            "text/html": [
              "\n",
              "     <input type=\"file\" id=\"files-e3452392-8a01-43f8-bd7a-52f052798cfe\" name=\"files[]\" multiple disabled />\n",
              "     <output id=\"result-e3452392-8a01-43f8-bd7a-52f052798cfe\">\n",
              "      Upload widget is only available when the cell has been executed in the\n",
              "      current browser session. Please rerun this cell to enable.\n",
              "      </output>\n",
              "      <script src=\"/nbextensions/google.colab/files.js\"></script> "
            ],
            "text/plain": [
              "<IPython.core.display.HTML object>"
            ]
          },
          "metadata": {
            "tags": []
          }
        },
        {
          "output_type": "stream",
          "text": [
            "Saving kaggle.json to kaggle (1).json\n"
          ],
          "name": "stdout"
        },
        {
          "output_type": "execute_result",
          "data": {
            "text/plain": [
              "{'kaggle.json': b'{\"username\":\"lobnaabdelhamed\",\"key\":\"1c9bcaa0517f9be89a195f8ad7139a97\"}'}"
            ]
          },
          "metadata": {
            "tags": []
          },
          "execution_count": 2
        }
      ]
    },
    {
      "cell_type": "code",
      "metadata": {
        "colab_type": "code",
        "outputId": "1b5684c2-4c8d-4ddf-a84d-28f20d319d48",
        "id": "B9-Qvxth-U0D",
        "colab": {
          "base_uri": "https://localhost:8080/",
          "height": 34
        }
      },
      "source": [
        "# Let's make sure the kaggle.json file is present.\n",
        "!ls -lha kaggle.json\n",
        "# The Kaggle API client expects this file to be in ~/.kaggle,\n",
        "# so move it there.\n",
        "!mkdir -p ~/.kaggle\n",
        "!cp kaggle.json ~/.kaggle/\n",
        "\n",
        "# This permissions change avoids a warning on Kaggle tool startup.\n",
        "!chmod 600 ~/.kaggle/kaggle.json\n"
      ],
      "execution_count": 0,
      "outputs": [
        {
          "output_type": "stream",
          "text": [
            "-rw-r--r-- 1 root root 71 Jan 21 19:19 kaggle.json\n"
          ],
          "name": "stdout"
        }
      ]
    },
    {
      "cell_type": "code",
      "metadata": {
        "colab_type": "code",
        "outputId": "00aaff63-fdd1-47ba-c591-0d5382f1d82b",
        "id": "1fr40jxB-U0A",
        "colab": {
          "base_uri": "https://localhost:8080/",
          "height": 34
        }
      },
      "source": [
        "\n",
        "!kaggle datasets download -d cjinny/mura-v11"
      ],
      "execution_count": 0,
      "outputs": [
        {
          "output_type": "stream",
          "text": [
            "mura-v11.zip: Skipping, found more recently modified local copy (use --force to force download)\n"
          ],
          "name": "stdout"
        }
      ]
    },
    {
      "cell_type": "markdown",
      "metadata": {
        "colab_type": "text",
        "id": "NamS_1OD-Uz_"
      },
      "source": [
        "# Unzipping data "
      ]
    },
    {
      "cell_type": "code",
      "metadata": {
        "colab_type": "code",
        "outputId": "a18392ba-1ef9-44dc-f996-ca41aa2287a2",
        "id": "hTx7tcIN-Uz7",
        "colab": {
          "base_uri": "https://localhost:8080/",
          "height": 34
        }
      },
      "source": [
        "from zipfile import ZipFile \n",
        "file_name = \"mura-v11.zip\" \n",
        "with ZipFile(file_name,'r') as zip: \n",
        "  zip.extractall() \n",
        "  print('Done')"
      ],
      "execution_count": 0,
      "outputs": [
        {
          "output_type": "stream",
          "text": [
            "Done\n"
          ],
          "name": "stdout"
        }
      ]
    },
    {
      "cell_type": "markdown",
      "metadata": {
        "colab_type": "text",
        "id": "vyh_MGor-Uz6"
      },
      "source": [
        "# Read csv files"
      ]
    },
    {
      "cell_type": "code",
      "metadata": {
        "colab_type": "code",
        "outputId": "fe1eef5b-a1b1-4445-d07c-4371494a0ee9",
        "id": "_nNiPjw4-Uz4",
        "colab": {
          "base_uri": "https://localhost:8080/",
          "height": 221
        }
      },
      "source": [
        "import pandas as pd\n",
        "columns = ['data','label']    \n",
        "trainLabelDF = pd.read_csv('/content/MURA-v1.1/train_labeled_studies.csv',names=columns,encoding='latin1') \n",
        "testLabelDF = pd.read_csv('/content/MURA-v1.1/valid_labeled_studies.csv',names=columns,encoding='latin1') \n",
        "print(\"original data format\")\n",
        "trainLabelDF.head()"
      ],
      "execution_count": 0,
      "outputs": [
        {
          "output_type": "stream",
          "text": [
            "original data format\n"
          ],
          "name": "stdout"
        },
        {
          "output_type": "execute_result",
          "data": {
            "text/html": [
              "<div>\n",
              "<style scoped>\n",
              "    .dataframe tbody tr th:only-of-type {\n",
              "        vertical-align: middle;\n",
              "    }\n",
              "\n",
              "    .dataframe tbody tr th {\n",
              "        vertical-align: top;\n",
              "    }\n",
              "\n",
              "    .dataframe thead th {\n",
              "        text-align: right;\n",
              "    }\n",
              "</style>\n",
              "<table border=\"1\" class=\"dataframe\">\n",
              "  <thead>\n",
              "    <tr style=\"text-align: right;\">\n",
              "      <th></th>\n",
              "      <th>data</th>\n",
              "      <th>label</th>\n",
              "    </tr>\n",
              "  </thead>\n",
              "  <tbody>\n",
              "    <tr>\n",
              "      <th>0</th>\n",
              "      <td>MURA-v1.1/train/XR_SHOULDER/patient00001/study...</td>\n",
              "      <td>1</td>\n",
              "    </tr>\n",
              "    <tr>\n",
              "      <th>1</th>\n",
              "      <td>MURA-v1.1/train/XR_SHOULDER/patient00002/study...</td>\n",
              "      <td>1</td>\n",
              "    </tr>\n",
              "    <tr>\n",
              "      <th>2</th>\n",
              "      <td>MURA-v1.1/train/XR_SHOULDER/patient00003/study...</td>\n",
              "      <td>1</td>\n",
              "    </tr>\n",
              "    <tr>\n",
              "      <th>3</th>\n",
              "      <td>MURA-v1.1/train/XR_SHOULDER/patient00004/study...</td>\n",
              "      <td>1</td>\n",
              "    </tr>\n",
              "    <tr>\n",
              "      <th>4</th>\n",
              "      <td>MURA-v1.1/train/XR_SHOULDER/patient00005/study...</td>\n",
              "      <td>1</td>\n",
              "    </tr>\n",
              "  </tbody>\n",
              "</table>\n",
              "</div>"
            ],
            "text/plain": [
              "                                                data  label\n",
              "0  MURA-v1.1/train/XR_SHOULDER/patient00001/study...      1\n",
              "1  MURA-v1.1/train/XR_SHOULDER/patient00002/study...      1\n",
              "2  MURA-v1.1/train/XR_SHOULDER/patient00003/study...      1\n",
              "3  MURA-v1.1/train/XR_SHOULDER/patient00004/study...      1\n",
              "4  MURA-v1.1/train/XR_SHOULDER/patient00005/study...      1"
            ]
          },
          "metadata": {
            "tags": []
          },
          "execution_count": 6
        }
      ]
    },
    {
      "cell_type": "code",
      "metadata": {
        "colab_type": "code",
        "id": "y01RJ-wO-Uz1",
        "colab": {}
      },
      "source": [
        "G_test = testLabelDF[[\"label\"]]"
      ],
      "execution_count": 0,
      "outputs": []
    },
    {
      "cell_type": "code",
      "metadata": {
        "colab_type": "code",
        "outputId": "b46abdc5-3899-4d93-e505-34da47469f9e",
        "id": "miDV_e9B-Uzz",
        "colab": {
          "base_uri": "https://localhost:8080/",
          "height": 136
        }
      },
      "source": [
        "print(\"training colums:\")\n",
        "for column in trainLabelDF:\n",
        "  print(column)\n",
        "print(\"\\ntesting colums:\")\n",
        "for column in testLabelDF:\n",
        "  print(column)"
      ],
      "execution_count": 0,
      "outputs": [
        {
          "output_type": "stream",
          "text": [
            "training colums:\n",
            "data\n",
            "label\n",
            "\n",
            "testing colums:\n",
            "data\n",
            "label\n"
          ],
          "name": "stdout"
        }
      ]
    },
    {
      "cell_type": "code",
      "metadata": {
        "colab_type": "code",
        "outputId": "02466890-e3c7-41a0-9da3-689e580359e6",
        "id": "KmXbuqCh-Uzx",
        "colab": {
          "base_uri": "https://localhost:8080/",
          "height": 419
        }
      },
      "source": [
        "# new data frame with split value columns \n",
        "new = trainLabelDF[\"data\"].str.split(\"/\", n = 5, expand = True)  \n",
        "# making separate last name column from new data frame \n",
        "trainLabelDF[\"Bone\"]= new[2]\n",
        "trainLabelDF[\"Patient\"]= new[3]\n",
        "trainLabelDF[\"Study\"]  = new[4]\n",
        "# Dropping old Name columns \n",
        "trainLabelDF.drop(columns =[\"data\"], inplace = True) \n",
        "# df display \n",
        "trainLabelDF "
      ],
      "execution_count": 0,
      "outputs": [
        {
          "output_type": "execute_result",
          "data": {
            "text/html": [
              "<div>\n",
              "<style scoped>\n",
              "    .dataframe tbody tr th:only-of-type {\n",
              "        vertical-align: middle;\n",
              "    }\n",
              "\n",
              "    .dataframe tbody tr th {\n",
              "        vertical-align: top;\n",
              "    }\n",
              "\n",
              "    .dataframe thead th {\n",
              "        text-align: right;\n",
              "    }\n",
              "</style>\n",
              "<table border=\"1\" class=\"dataframe\">\n",
              "  <thead>\n",
              "    <tr style=\"text-align: right;\">\n",
              "      <th></th>\n",
              "      <th>label</th>\n",
              "      <th>Bone</th>\n",
              "      <th>Patient</th>\n",
              "      <th>Study</th>\n",
              "    </tr>\n",
              "  </thead>\n",
              "  <tbody>\n",
              "    <tr>\n",
              "      <th>0</th>\n",
              "      <td>1</td>\n",
              "      <td>XR_SHOULDER</td>\n",
              "      <td>patient00001</td>\n",
              "      <td>study1_positive</td>\n",
              "    </tr>\n",
              "    <tr>\n",
              "      <th>1</th>\n",
              "      <td>1</td>\n",
              "      <td>XR_SHOULDER</td>\n",
              "      <td>patient00002</td>\n",
              "      <td>study1_positive</td>\n",
              "    </tr>\n",
              "    <tr>\n",
              "      <th>2</th>\n",
              "      <td>1</td>\n",
              "      <td>XR_SHOULDER</td>\n",
              "      <td>patient00003</td>\n",
              "      <td>study1_positive</td>\n",
              "    </tr>\n",
              "    <tr>\n",
              "      <th>3</th>\n",
              "      <td>1</td>\n",
              "      <td>XR_SHOULDER</td>\n",
              "      <td>patient00004</td>\n",
              "      <td>study1_positive</td>\n",
              "    </tr>\n",
              "    <tr>\n",
              "      <th>4</th>\n",
              "      <td>1</td>\n",
              "      <td>XR_SHOULDER</td>\n",
              "      <td>patient00005</td>\n",
              "      <td>study1_positive</td>\n",
              "    </tr>\n",
              "    <tr>\n",
              "      <th>...</th>\n",
              "      <td>...</td>\n",
              "      <td>...</td>\n",
              "      <td>...</td>\n",
              "      <td>...</td>\n",
              "    </tr>\n",
              "    <tr>\n",
              "      <th>13452</th>\n",
              "      <td>0</td>\n",
              "      <td>XR_HAND</td>\n",
              "      <td>patient11180</td>\n",
              "      <td>study1_negative</td>\n",
              "    </tr>\n",
              "    <tr>\n",
              "      <th>13453</th>\n",
              "      <td>0</td>\n",
              "      <td>XR_HAND</td>\n",
              "      <td>patient11181</td>\n",
              "      <td>study1_negative</td>\n",
              "    </tr>\n",
              "    <tr>\n",
              "      <th>13454</th>\n",
              "      <td>0</td>\n",
              "      <td>XR_HAND</td>\n",
              "      <td>patient11182</td>\n",
              "      <td>study1_negative</td>\n",
              "    </tr>\n",
              "    <tr>\n",
              "      <th>13455</th>\n",
              "      <td>0</td>\n",
              "      <td>XR_HAND</td>\n",
              "      <td>patient11183</td>\n",
              "      <td>study1_negative</td>\n",
              "    </tr>\n",
              "    <tr>\n",
              "      <th>13456</th>\n",
              "      <td>0</td>\n",
              "      <td>XR_HAND</td>\n",
              "      <td>patient11184</td>\n",
              "      <td>study1_negative</td>\n",
              "    </tr>\n",
              "  </tbody>\n",
              "</table>\n",
              "<p>13457 rows × 4 columns</p>\n",
              "</div>"
            ],
            "text/plain": [
              "       label         Bone       Patient            Study\n",
              "0          1  XR_SHOULDER  patient00001  study1_positive\n",
              "1          1  XR_SHOULDER  patient00002  study1_positive\n",
              "2          1  XR_SHOULDER  patient00003  study1_positive\n",
              "3          1  XR_SHOULDER  patient00004  study1_positive\n",
              "4          1  XR_SHOULDER  patient00005  study1_positive\n",
              "...      ...          ...           ...              ...\n",
              "13452      0      XR_HAND  patient11180  study1_negative\n",
              "13453      0      XR_HAND  patient11181  study1_negative\n",
              "13454      0      XR_HAND  patient11182  study1_negative\n",
              "13455      0      XR_HAND  patient11183  study1_negative\n",
              "13456      0      XR_HAND  patient11184  study1_negative\n",
              "\n",
              "[13457 rows x 4 columns]"
            ]
          },
          "metadata": {
            "tags": []
          },
          "execution_count": 9
        }
      ]
    },
    {
      "cell_type": "code",
      "metadata": {
        "colab_type": "code",
        "outputId": "18808c15-3d26-434a-d461-20a4257e5f2e",
        "id": "_kmRIQoR-Uzu",
        "colab": {
          "base_uri": "https://localhost:8080/",
          "height": 419
        }
      },
      "source": [
        "# new data frame with split value columns \n",
        "new = testLabelDF[\"data\"].str.split(\"/\", n = 5, expand = True)  \n",
        "# making separate last name column from new data frame \n",
        "testLabelDF[\"Bone\"]= new[2]\n",
        "testLabelDF[\"Patient\"]= new[3]\n",
        "testLabelDF[\"Study\"]  = new[4] \n",
        "# Dropping old Name columns \n",
        "testLabelDF.drop(columns =[\"data\"], inplace = True) \n",
        "# df display \n",
        "testLabelDF "
      ],
      "execution_count": 0,
      "outputs": [
        {
          "output_type": "execute_result",
          "data": {
            "text/html": [
              "<div>\n",
              "<style scoped>\n",
              "    .dataframe tbody tr th:only-of-type {\n",
              "        vertical-align: middle;\n",
              "    }\n",
              "\n",
              "    .dataframe tbody tr th {\n",
              "        vertical-align: top;\n",
              "    }\n",
              "\n",
              "    .dataframe thead th {\n",
              "        text-align: right;\n",
              "    }\n",
              "</style>\n",
              "<table border=\"1\" class=\"dataframe\">\n",
              "  <thead>\n",
              "    <tr style=\"text-align: right;\">\n",
              "      <th></th>\n",
              "      <th>label</th>\n",
              "      <th>Bone</th>\n",
              "      <th>Patient</th>\n",
              "      <th>Study</th>\n",
              "    </tr>\n",
              "  </thead>\n",
              "  <tbody>\n",
              "    <tr>\n",
              "      <th>0</th>\n",
              "      <td>1</td>\n",
              "      <td>XR_WRIST</td>\n",
              "      <td>patient11185</td>\n",
              "      <td>study1_positive</td>\n",
              "    </tr>\n",
              "    <tr>\n",
              "      <th>1</th>\n",
              "      <td>1</td>\n",
              "      <td>XR_WRIST</td>\n",
              "      <td>patient11186</td>\n",
              "      <td>study1_positive</td>\n",
              "    </tr>\n",
              "    <tr>\n",
              "      <th>2</th>\n",
              "      <td>1</td>\n",
              "      <td>XR_WRIST</td>\n",
              "      <td>patient11186</td>\n",
              "      <td>study2_positive</td>\n",
              "    </tr>\n",
              "    <tr>\n",
              "      <th>3</th>\n",
              "      <td>1</td>\n",
              "      <td>XR_WRIST</td>\n",
              "      <td>patient11186</td>\n",
              "      <td>study3_positive</td>\n",
              "    </tr>\n",
              "    <tr>\n",
              "      <th>4</th>\n",
              "      <td>1</td>\n",
              "      <td>XR_WRIST</td>\n",
              "      <td>patient11187</td>\n",
              "      <td>study1_positive</td>\n",
              "    </tr>\n",
              "    <tr>\n",
              "      <th>...</th>\n",
              "      <td>...</td>\n",
              "      <td>...</td>\n",
              "      <td>...</td>\n",
              "      <td>...</td>\n",
              "    </tr>\n",
              "    <tr>\n",
              "      <th>1194</th>\n",
              "      <td>0</td>\n",
              "      <td>XR_FINGER</td>\n",
              "      <td>patient11965</td>\n",
              "      <td>study1_negative</td>\n",
              "    </tr>\n",
              "    <tr>\n",
              "      <th>1195</th>\n",
              "      <td>0</td>\n",
              "      <td>XR_FINGER</td>\n",
              "      <td>patient11855</td>\n",
              "      <td>study1_negative</td>\n",
              "    </tr>\n",
              "    <tr>\n",
              "      <th>1196</th>\n",
              "      <td>0</td>\n",
              "      <td>XR_FINGER</td>\n",
              "      <td>patient11966</td>\n",
              "      <td>study1_negative</td>\n",
              "    </tr>\n",
              "    <tr>\n",
              "      <th>1197</th>\n",
              "      <td>0</td>\n",
              "      <td>XR_FINGER</td>\n",
              "      <td>patient11967</td>\n",
              "      <td>study1_negative</td>\n",
              "    </tr>\n",
              "    <tr>\n",
              "      <th>1198</th>\n",
              "      <td>0</td>\n",
              "      <td>XR_FINGER</td>\n",
              "      <td>patient11738</td>\n",
              "      <td>study1_negative</td>\n",
              "    </tr>\n",
              "  </tbody>\n",
              "</table>\n",
              "<p>1199 rows × 4 columns</p>\n",
              "</div>"
            ],
            "text/plain": [
              "      label       Bone       Patient            Study\n",
              "0         1   XR_WRIST  patient11185  study1_positive\n",
              "1         1   XR_WRIST  patient11186  study1_positive\n",
              "2         1   XR_WRIST  patient11186  study2_positive\n",
              "3         1   XR_WRIST  patient11186  study3_positive\n",
              "4         1   XR_WRIST  patient11187  study1_positive\n",
              "...     ...        ...           ...              ...\n",
              "1194      0  XR_FINGER  patient11965  study1_negative\n",
              "1195      0  XR_FINGER  patient11855  study1_negative\n",
              "1196      0  XR_FINGER  patient11966  study1_negative\n",
              "1197      0  XR_FINGER  patient11967  study1_negative\n",
              "1198      0  XR_FINGER  patient11738  study1_negative\n",
              "\n",
              "[1199 rows x 4 columns]"
            ]
          },
          "metadata": {
            "tags": []
          },
          "execution_count": 10
        }
      ]
    },
    {
      "cell_type": "code",
      "metadata": {
        "colab_type": "code",
        "id": "16wLc8O9-Uzs",
        "colab": {}
      },
      "source": [
        "P_test = testLabelDF[[\"Patient\"]].values\n",
        "S_test = testLabelDF[[\"Study\"]].values\n",
        "B_test = testLabelDF[[\"Bone\"]].values"
      ],
      "execution_count": 0,
      "outputs": []
    },
    {
      "cell_type": "code",
      "metadata": {
        "colab_type": "code",
        "id": "FjmOI6dG-Uzp",
        "colab": {}
      },
      "source": [
        "import numpy as np\n",
        "frequencyTrain=trainLabelDF[\"Bone\"].value_counts()\n",
        "frequencyTest=testLabelDF[\"Bone\"].value_counts()\n",
        "frequencyTrainPositive = trainLabelDF.loc[trainLabelDF['label'] == 1]\n",
        "frequencyTestPositive = testLabelDF.loc[testLabelDF['label'] == 1]\n",
        "frequencyTrainNeg = trainLabelDF.loc[trainLabelDF['label'] == 0]\n",
        "frequencyTestNeg = testLabelDF.loc[testLabelDF['label'] == 0]\n",
        "frequencyTrainPositive=frequencyTrainPositive[\"Bone\"].value_counts()\n",
        "frequencyTestPositive=frequencyTestPositive[\"Bone\"].value_counts()\n",
        "frequencyTrainNeg=frequencyTrainNeg[\"Bone\"].value_counts()\n",
        "frequencyTestNeg=frequencyTestNeg[\"Bone\"].value_counts()"
      ],
      "execution_count": 0,
      "outputs": []
    },
    {
      "cell_type": "code",
      "metadata": {
        "colab_type": "code",
        "outputId": "565c0dde-9869-47c8-e206-d065419c0e16",
        "id": "aWnOUlUe-Uzn",
        "colab": {
          "base_uri": "https://localhost:8080/",
          "height": 935
        }
      },
      "source": [
        "frequencyTrain = frequencyTrain.to_frame(name=None)\n",
        "print(\"frequency of train:\")\n",
        "print(frequencyTrain)\n",
        "frequencyTest = frequencyTest.to_frame(name=None)\n",
        "print(\"frequency of test:\")\n",
        "print(frequencyTest)\n",
        "frequencyTrainPositive = frequencyTrainPositive.to_frame(name=None)\n",
        "print(\"frequency of positive train:\")\n",
        "print(frequencyTrainPositive)\n",
        "frequencyTestPositive = frequencyTestPositive.to_frame(name=None)\n",
        "print(\"frequency of positive test:\")\n",
        "print(frequencyTestPositive)\n",
        "frequencyTrainNeg = frequencyTrainNeg.to_frame(name=None)\n",
        "print(\"frequency of negative train:\")\n",
        "print(frequencyTrainNeg)\n",
        "frequencyTestNeg = frequencyTestNeg.to_frame(name=None)\n",
        "print(\"frequency of negative test:\")\n",
        "print(frequencyTestNeg)\n"
      ],
      "execution_count": 0,
      "outputs": [
        {
          "output_type": "stream",
          "text": [
            "frequency of train:\n",
            "             Bone\n",
            "XR_WRIST     3460\n",
            "XR_SHOULDER  2821\n",
            "XR_HAND      2018\n",
            "XR_FINGER    1935\n",
            "XR_ELBOW     1754\n",
            "XR_FOREARM    877\n",
            "XR_HUMERUS    592\n",
            "frequency of test:\n",
            "             Bone\n",
            "XR_WRIST      237\n",
            "XR_SHOULDER   194\n",
            "XR_FINGER     175\n",
            "XR_HAND       167\n",
            "XR_ELBOW      158\n",
            "XR_HUMERUS    135\n",
            "XR_FOREARM    133\n",
            "frequency of positive train:\n",
            "             Bone\n",
            "XR_SHOULDER  1457\n",
            "XR_WRIST     1326\n",
            "XR_ELBOW      660\n",
            "XR_FINGER     655\n",
            "XR_HAND       521\n",
            "XR_FOREARM    287\n",
            "XR_HUMERUS    271\n",
            "frequency of positive test:\n",
            "             Bone\n",
            "XR_WRIST       97\n",
            "XR_SHOULDER    95\n",
            "XR_FINGER      83\n",
            "XR_HUMERUS     67\n",
            "XR_HAND        66\n",
            "XR_ELBOW       66\n",
            "XR_FOREARM     64\n",
            "frequency of negative train:\n",
            "             Bone\n",
            "XR_WRIST     2134\n",
            "XR_HAND      1497\n",
            "XR_SHOULDER  1364\n",
            "XR_FINGER    1280\n",
            "XR_ELBOW     1094\n",
            "XR_FOREARM    590\n",
            "XR_HUMERUS    321\n",
            "frequency of negative test:\n",
            "             Bone\n",
            "XR_WRIST      140\n",
            "XR_HAND       101\n",
            "XR_SHOULDER    99\n",
            "XR_FINGER      92\n",
            "XR_ELBOW       92\n",
            "XR_FOREARM     69\n",
            "XR_HUMERUS     68\n"
          ],
          "name": "stdout"
        }
      ]
    },
    {
      "cell_type": "code",
      "metadata": {
        "colab_type": "code",
        "outputId": "593967cf-835a-4676-ae1b-2371ffc2ff46",
        "id": "3pjCiqlz-Uzk",
        "colab": {
          "base_uri": "https://localhost:8080/",
          "height": 675
        }
      },
      "source": [
        "import matplotlib.pyplot as plt\n",
        "print(\"training data freq\")\n",
        "frequencyTrain.plot(kind='bar',y='Bone',label='frequencyTrain')\n",
        "plt.show()\n",
        "print(\"testing data freq\")\n",
        "frequencyTest.plot(kind='bar',y='Bone',label='frequencyTest')\n",
        "plt.show()\n"
      ],
      "execution_count": 0,
      "outputs": [
        {
          "output_type": "stream",
          "text": [
            "training data freq\n"
          ],
          "name": "stdout"
        },
        {
          "output_type": "display_data",
          "data": {
            "image/png": "[encoded data removed]",
            "text/plain": [
              "<Figure size 432x288 with 1 Axes>"
            ]
          },
          "metadata": {
            "tags": []
          }
        },
        {
          "output_type": "stream",
          "text": [
            "testing data freq\n"
          ],
          "name": "stdout"
        },
        {
          "output_type": "display_data",
          "data": {
            "image/png": "[encoded data removed]",
            "text/plain": [
              "<Figure size 432x288 with 1 Axes>"
            ]
          },
          "metadata": {
            "tags": []
          }
        }
      ]
    },
    {
      "cell_type": "code",
      "metadata": {
        "colab_type": "code",
        "outputId": "cc9824e5-a1d0-4d00-a807-1d1a657e4fb3",
        "id": "gUEaJXQb-Uzi",
        "colab": {
          "base_uri": "https://localhost:8080/",
          "height": 641
        }
      },
      "source": [
        "ax = plt.gca()\n",
        "frequencyTrain.plot(kind='bar',y='Bone', color='purple' ,ax=ax,label='frequency Train')\n",
        "frequencyTrainNeg.plot(kind='bar',y='Bone', color='red', ax=ax,label='frequency negative Train')\n",
        "frequencyTrainPositive.plot(kind='bar',y='Bone', color='green', ax=ax,label='frequency positive Train')\n",
        "plt.show()\n",
        "ax = plt.gca()\n",
        "frequencyTest.plot(kind='bar',y='Bone', color='purple', ax=ax,label='frequency test')\n",
        "frequencyTestNeg.plot(kind='bar',y='Bone', color='red', ax=ax,label='frequency negative test')\n",
        "frequencyTestPositive.plot(kind='bar',y='Bone', color='green', ax=ax,label='frequency positive Test')\n",
        "plt.show()"
      ],
      "execution_count": 0,
      "outputs": [
        {
          "output_type": "display_data",
          "data": {
            "image/png": "[encoded data removed]",
            "text/plain": [
              "<Figure size 432x288 with 1 Axes>"
            ]
          },
          "metadata": {
            "tags": []
          }
        },
        {
          "output_type": "display_data",
          "data": {
            "image/png": "[encoded data removed]",
            "text/plain": [
              "<Figure size 432x288 with 1 Axes>"
            ]
          },
          "metadata": {
            "tags": []
          }
        }
      ]
    },
    {
      "cell_type": "code",
      "metadata": {
        "colab_type": "code",
        "outputId": "5c316442-1761-4486-b150-05430cacaba7",
        "id": "FJjxnzGo-Uzf",
        "colab": {
          "base_uri": "https://localhost:8080/",
          "height": 255
        }
      },
      "source": [
        "import pandas as pd \n",
        "from matplotlib import pyplot as plt\n",
        "column= ['path']    \n",
        "\n",
        "trainPathDF = pd.read_csv('/content/MURA-v1.1/train_image_paths.csv',names=column,encoding='latin1') \n",
        "testPathDF = pd.read_csv('/content/MURA-v1.1/valid_image_paths.csv',names=column,encoding='latin1') \n",
        "\n",
        "print(trainPathDF)"
      ],
      "execution_count": 0,
      "outputs": [
        {
          "output_type": "stream",
          "text": [
            "                                                    path\n",
            "0      MURA-v1.1/train/XR_SHOULDER/patient00001/study...\n",
            "1      MURA-v1.1/train/XR_SHOULDER/patient00001/study...\n",
            "2      MURA-v1.1/train/XR_SHOULDER/patient00001/study...\n",
            "3      MURA-v1.1/train/XR_SHOULDER/patient00002/study...\n",
            "4      MURA-v1.1/train/XR_SHOULDER/patient00002/study...\n",
            "...                                                  ...\n",
            "36803  MURA-v1.1/train/XR_HAND/patient11183/study1_ne...\n",
            "36804  MURA-v1.1/train/XR_HAND/patient11183/study1_ne...\n",
            "36805  MURA-v1.1/train/XR_HAND/patient11184/study1_ne...\n",
            "36806  MURA-v1.1/train/XR_HAND/patient11184/study1_ne...\n",
            "36807  MURA-v1.1/train/XR_HAND/patient11184/study1_ne...\n",
            "\n",
            "[36808 rows x 1 columns]\n"
          ],
          "name": "stdout"
        }
      ]
    },
    {
      "cell_type": "code",
      "metadata": {
        "colab_type": "code",
        "outputId": "3913367b-c2f7-4850-bb6b-3ec721736416",
        "id": "W9Yu8l7T-Uzd",
        "colab": {
          "base_uri": "https://localhost:8080/",
          "height": 255
        }
      },
      "source": [
        "print(testPathDF)"
      ],
      "execution_count": 0,
      "outputs": [
        {
          "output_type": "stream",
          "text": [
            "                                                   path\n",
            "0     MURA-v1.1/valid/XR_WRIST/patient11185/study1_p...\n",
            "1     MURA-v1.1/valid/XR_WRIST/patient11185/study1_p...\n",
            "2     MURA-v1.1/valid/XR_WRIST/patient11185/study1_p...\n",
            "3     MURA-v1.1/valid/XR_WRIST/patient11185/study1_p...\n",
            "4     MURA-v1.1/valid/XR_WRIST/patient11186/study1_p...\n",
            "...                                                 ...\n",
            "3192  MURA-v1.1/valid/XR_FINGER/patient11967/study1_...\n",
            "3193  MURA-v1.1/valid/XR_FINGER/patient11967/study1_...\n",
            "3194  MURA-v1.1/valid/XR_FINGER/patient11738/study1_...\n",
            "3195  MURA-v1.1/valid/XR_FINGER/patient11738/study1_...\n",
            "3196  MURA-v1.1/valid/XR_FINGER/patient11738/study1_...\n",
            "\n",
            "[3197 rows x 1 columns]\n"
          ],
          "name": "stdout"
        }
      ]
    },
    {
      "cell_type": "code",
      "metadata": {
        "colab_type": "code",
        "outputId": "75b65afe-877e-47a8-bb12-a6d34d84cbe7",
        "id": "SiNQhbbg-Uza",
        "colab": {
          "base_uri": "https://localhost:8080/",
          "height": 102
        }
      },
      "source": [
        "print(\"training colums:\")\n",
        "for column in trainPathDF:\n",
        "  print(column)\n",
        "print(\"\\ntesting colums:\")\n",
        "for column in testPathDF:\n",
        "  print(column)"
      ],
      "execution_count": 0,
      "outputs": [
        {
          "output_type": "stream",
          "text": [
            "training colums:\n",
            "path\n",
            "\n",
            "testing colums:\n",
            "path\n"
          ],
          "name": "stdout"
        }
      ]
    },
    {
      "cell_type": "code",
      "metadata": {
        "colab_type": "code",
        "outputId": "40622108-b6dd-4f4c-d03e-ede9e89731cc",
        "id": "STwAVRUN-UzX",
        "colab": {
          "base_uri": "https://localhost:8080/",
          "height": 419
        }
      },
      "source": [
        "# new data frame with split value columns \n",
        "new = trainPathDF['path'].str.split(\"/\", n = 5, expand = True)  \n",
        "# making separate last name column from new data frame \n",
        "trainPathDF[\"Label\"]= new[4]\n",
        "trainPathDF[\"Patient\"]= new[3]\n",
        "trainPathDF[\"Bone\"]= new[2]\n",
        "# df display \n",
        "trainPathDF "
      ],
      "execution_count": 0,
      "outputs": [
        {
          "output_type": "execute_result",
          "data": {
            "text/html": [
              "<div>\n",
              "<style scoped>\n",
              "    .dataframe tbody tr th:only-of-type {\n",
              "        vertical-align: middle;\n",
              "    }\n",
              "\n",
              "    .dataframe tbody tr th {\n",
              "        vertical-align: top;\n",
              "    }\n",
              "\n",
              "    .dataframe thead th {\n",
              "        text-align: right;\n",
              "    }\n",
              "</style>\n",
              "<table border=\"1\" class=\"dataframe\">\n",
              "  <thead>\n",
              "    <tr style=\"text-align: right;\">\n",
              "      <th></th>\n",
              "      <th>path</th>\n",
              "      <th>Label</th>\n",
              "      <th>Patient</th>\n",
              "      <th>Bone</th>\n",
              "    </tr>\n",
              "  </thead>\n",
              "  <tbody>\n",
              "    <tr>\n",
              "      <th>0</th>\n",
              "      <td>MURA-v1.1/train/XR_SHOULDER/patient00001/study...</td>\n",
              "      <td>study1_positive</td>\n",
              "      <td>patient00001</td>\n",
              "      <td>XR_SHOULDER</td>\n",
              "    </tr>\n",
              "    <tr>\n",
              "      <th>1</th>\n",
              "      <td>MURA-v1.1/train/XR_SHOULDER/patient00001/study...</td>\n",
              "      <td>study1_positive</td>\n",
              "      <td>patient00001</td>\n",
              "      <td>XR_SHOULDER</td>\n",
              "    </tr>\n",
              "    <tr>\n",
              "      <th>2</th>\n",
              "      <td>MURA-v1.1/train/XR_SHOULDER/patient00001/study...</td>\n",
              "      <td>study1_positive</td>\n",
              "      <td>patient00001</td>\n",
              "      <td>XR_SHOULDER</td>\n",
              "    </tr>\n",
              "    <tr>\n",
              "      <th>3</th>\n",
              "      <td>MURA-v1.1/train/XR_SHOULDER/patient00002/study...</td>\n",
              "      <td>study1_positive</td>\n",
              "      <td>patient00002</td>\n",
              "      <td>XR_SHOULDER</td>\n",
              "    </tr>\n",
              "    <tr>\n",
              "      <th>4</th>\n",
              "      <td>MURA-v1.1/train/XR_SHOULDER/patient00002/study...</td>\n",
              "      <td>study1_positive</td>\n",
              "      <td>patient00002</td>\n",
              "      <td>XR_SHOULDER</td>\n",
              "    </tr>\n",
              "    <tr>\n",
              "      <th>...</th>\n",
              "      <td>...</td>\n",
              "      <td>...</td>\n",
              "      <td>...</td>\n",
              "      <td>...</td>\n",
              "    </tr>\n",
              "    <tr>\n",
              "      <th>36803</th>\n",
              "      <td>MURA-v1.1/train/XR_HAND/patient11183/study1_ne...</td>\n",
              "      <td>study1_negative</td>\n",
              "      <td>patient11183</td>\n",
              "      <td>XR_HAND</td>\n",
              "    </tr>\n",
              "    <tr>\n",
              "      <th>36804</th>\n",
              "      <td>MURA-v1.1/train/XR_HAND/patient11183/study1_ne...</td>\n",
              "      <td>study1_negative</td>\n",
              "      <td>patient11183</td>\n",
              "      <td>XR_HAND</td>\n",
              "    </tr>\n",
              "    <tr>\n",
              "      <th>36805</th>\n",
              "      <td>MURA-v1.1/train/XR_HAND/patient11184/study1_ne...</td>\n",
              "      <td>study1_negative</td>\n",
              "      <td>patient11184</td>\n",
              "      <td>XR_HAND</td>\n",
              "    </tr>\n",
              "    <tr>\n",
              "      <th>36806</th>\n",
              "      <td>MURA-v1.1/train/XR_HAND/patient11184/study1_ne...</td>\n",
              "      <td>study1_negative</td>\n",
              "      <td>patient11184</td>\n",
              "      <td>XR_HAND</td>\n",
              "    </tr>\n",
              "    <tr>\n",
              "      <th>36807</th>\n",
              "      <td>MURA-v1.1/train/XR_HAND/patient11184/study1_ne...</td>\n",
              "      <td>study1_negative</td>\n",
              "      <td>patient11184</td>\n",
              "      <td>XR_HAND</td>\n",
              "    </tr>\n",
              "  </tbody>\n",
              "</table>\n",
              "<p>36808 rows × 4 columns</p>\n",
              "</div>"
            ],
            "text/plain": [
              "                                                    path  ...         Bone\n",
              "0      MURA-v1.1/train/XR_SHOULDER/patient00001/study...  ...  XR_SHOULDER\n",
              "1      MURA-v1.1/train/XR_SHOULDER/patient00001/study...  ...  XR_SHOULDER\n",
              "2      MURA-v1.1/train/XR_SHOULDER/patient00001/study...  ...  XR_SHOULDER\n",
              "3      MURA-v1.1/train/XR_SHOULDER/patient00002/study...  ...  XR_SHOULDER\n",
              "4      MURA-v1.1/train/XR_SHOULDER/patient00002/study...  ...  XR_SHOULDER\n",
              "...                                                  ...  ...          ...\n",
              "36803  MURA-v1.1/train/XR_HAND/patient11183/study1_ne...  ...      XR_HAND\n",
              "36804  MURA-v1.1/train/XR_HAND/patient11183/study1_ne...  ...      XR_HAND\n",
              "36805  MURA-v1.1/train/XR_HAND/patient11184/study1_ne...  ...      XR_HAND\n",
              "36806  MURA-v1.1/train/XR_HAND/patient11184/study1_ne...  ...      XR_HAND\n",
              "36807  MURA-v1.1/train/XR_HAND/patient11184/study1_ne...  ...      XR_HAND\n",
              "\n",
              "[36808 rows x 4 columns]"
            ]
          },
          "metadata": {
            "tags": []
          },
          "execution_count": 19
        }
      ]
    },
    {
      "cell_type": "code",
      "metadata": {
        "colab_type": "code",
        "outputId": "7c68be94-04a7-423d-85cd-ab046ae64153",
        "id": "5P0EuOkd-UzT",
        "colab": {
          "base_uri": "https://localhost:8080/",
          "height": 419
        }
      },
      "source": [
        "# new data frame with split value columns \n",
        "new = testPathDF[\"path\"].str.split(\"/\", n = 6, expand = True)  \n",
        "# making separate last name column from new data frame \n",
        "testPathDF[\"Label\"]= new[4]\n",
        "testPathDF[\"Bone\"]= new[2]\n",
        "testPathDF[\"Patient\"]= new[3]\n",
        "# df display \n",
        "testPathDF"
      ],
      "execution_count": 0,
      "outputs": [
        {
          "output_type": "execute_result",
          "data": {
            "text/html": [
              "<div>\n",
              "<style scoped>\n",
              "    .dataframe tbody tr th:only-of-type {\n",
              "        vertical-align: middle;\n",
              "    }\n",
              "\n",
              "    .dataframe tbody tr th {\n",
              "        vertical-align: top;\n",
              "    }\n",
              "\n",
              "    .dataframe thead th {\n",
              "        text-align: right;\n",
              "    }\n",
              "</style>\n",
              "<table border=\"1\" class=\"dataframe\">\n",
              "  <thead>\n",
              "    <tr style=\"text-align: right;\">\n",
              "      <th></th>\n",
              "      <th>path</th>\n",
              "      <th>Label</th>\n",
              "      <th>Bone</th>\n",
              "      <th>Patient</th>\n",
              "    </tr>\n",
              "  </thead>\n",
              "  <tbody>\n",
              "    <tr>\n",
              "      <th>0</th>\n",
              "      <td>MURA-v1.1/valid/XR_WRIST/patient11185/study1_p...</td>\n",
              "      <td>study1_positive</td>\n",
              "      <td>XR_WRIST</td>\n",
              "      <td>patient11185</td>\n",
              "    </tr>\n",
              "    <tr>\n",
              "      <th>1</th>\n",
              "      <td>MURA-v1.1/valid/XR_WRIST/patient11185/study1_p...</td>\n",
              "      <td>study1_positive</td>\n",
              "      <td>XR_WRIST</td>\n",
              "      <td>patient11185</td>\n",
              "    </tr>\n",
              "    <tr>\n",
              "      <th>2</th>\n",
              "      <td>MURA-v1.1/valid/XR_WRIST/patient11185/study1_p...</td>\n",
              "      <td>study1_positive</td>\n",
              "      <td>XR_WRIST</td>\n",
              "      <td>patient11185</td>\n",
              "    </tr>\n",
              "    <tr>\n",
              "      <th>3</th>\n",
              "      <td>MURA-v1.1/valid/XR_WRIST/patient11185/study1_p...</td>\n",
              "      <td>study1_positive</td>\n",
              "      <td>XR_WRIST</td>\n",
              "      <td>patient11185</td>\n",
              "    </tr>\n",
              "    <tr>\n",
              "      <th>4</th>\n",
              "      <td>MURA-v1.1/valid/XR_WRIST/patient11186/study1_p...</td>\n",
              "      <td>study1_positive</td>\n",
              "      <td>XR_WRIST</td>\n",
              "      <td>patient11186</td>\n",
              "    </tr>\n",
              "    <tr>\n",
              "      <th>...</th>\n",
              "      <td>...</td>\n",
              "      <td>...</td>\n",
              "      <td>...</td>\n",
              "      <td>...</td>\n",
              "    </tr>\n",
              "    <tr>\n",
              "      <th>3192</th>\n",
              "      <td>MURA-v1.1/valid/XR_FINGER/patient11967/study1_...</td>\n",
              "      <td>study1_negative</td>\n",
              "      <td>XR_FINGER</td>\n",
              "      <td>patient11967</td>\n",
              "    </tr>\n",
              "    <tr>\n",
              "      <th>3193</th>\n",
              "      <td>MURA-v1.1/valid/XR_FINGER/patient11967/study1_...</td>\n",
              "      <td>study1_negative</td>\n",
              "      <td>XR_FINGER</td>\n",
              "      <td>patient11967</td>\n",
              "    </tr>\n",
              "    <tr>\n",
              "      <th>3194</th>\n",
              "      <td>MURA-v1.1/valid/XR_FINGER/patient11738/study1_...</td>\n",
              "      <td>study1_negative</td>\n",
              "      <td>XR_FINGER</td>\n",
              "      <td>patient11738</td>\n",
              "    </tr>\n",
              "    <tr>\n",
              "      <th>3195</th>\n",
              "      <td>MURA-v1.1/valid/XR_FINGER/patient11738/study1_...</td>\n",
              "      <td>study1_negative</td>\n",
              "      <td>XR_FINGER</td>\n",
              "      <td>patient11738</td>\n",
              "    </tr>\n",
              "    <tr>\n",
              "      <th>3196</th>\n",
              "      <td>MURA-v1.1/valid/XR_FINGER/patient11738/study1_...</td>\n",
              "      <td>study1_negative</td>\n",
              "      <td>XR_FINGER</td>\n",
              "      <td>patient11738</td>\n",
              "    </tr>\n",
              "  </tbody>\n",
              "</table>\n",
              "<p>3197 rows × 4 columns</p>\n",
              "</div>"
            ],
            "text/plain": [
              "                                                   path  ...       Patient\n",
              "0     MURA-v1.1/valid/XR_WRIST/patient11185/study1_p...  ...  patient11185\n",
              "1     MURA-v1.1/valid/XR_WRIST/patient11185/study1_p...  ...  patient11185\n",
              "2     MURA-v1.1/valid/XR_WRIST/patient11185/study1_p...  ...  patient11185\n",
              "3     MURA-v1.1/valid/XR_WRIST/patient11185/study1_p...  ...  patient11185\n",
              "4     MURA-v1.1/valid/XR_WRIST/patient11186/study1_p...  ...  patient11186\n",
              "...                                                 ...  ...           ...\n",
              "3192  MURA-v1.1/valid/XR_FINGER/patient11967/study1_...  ...  patient11967\n",
              "3193  MURA-v1.1/valid/XR_FINGER/patient11967/study1_...  ...  patient11967\n",
              "3194  MURA-v1.1/valid/XR_FINGER/patient11738/study1_...  ...  patient11738\n",
              "3195  MURA-v1.1/valid/XR_FINGER/patient11738/study1_...  ...  patient11738\n",
              "3196  MURA-v1.1/valid/XR_FINGER/patient11738/study1_...  ...  patient11738\n",
              "\n",
              "[3197 rows x 4 columns]"
            ]
          },
          "metadata": {
            "tags": []
          },
          "execution_count": 20
        }
      ]
    },
    {
      "cell_type": "code",
      "metadata": {
        "colab_type": "code",
        "id": "FgIC5tQl-UzR",
        "colab": {}
      },
      "source": [
        "P_testImage = testPathDF[[\"Patient\"]].values\n",
        "S_testImage = testPathDF[[\"Label\"]].values\n",
        "B_testImage = testPathDF[[\"Bone\"]].values\n"
      ],
      "execution_count": 0,
      "outputs": []
    },
    {
      "cell_type": "code",
      "metadata": {
        "colab_type": "code",
        "id": "sjnrNQb3-UzO",
        "colab": {}
      },
      "source": [
        "temp = trainPathDF[[\"Label\"]].values\n",
        "temp=np.unique(temp)\n",
        "tempLabel = {\n",
        "\t\ttemp[0]: 0,\n",
        "\t\ttemp[1] : 1,\n",
        "\t\ttemp[2]: 0,\n",
        "\t\ttemp[3] : 1,\n",
        "\t\ttemp[4]: 0,\n",
        "\t\ttemp[5] : 1,\n",
        "\t\ttemp[6]: 0,\n",
        "\t\ttemp[7] : 1,\n",
        "\t}\n",
        "trainPathDF = trainPathDF.replace({\"Label\":tempLabel})\n",
        "testPathDF = testPathDF.replace({\"Label\":tempLabel})\n"
      ],
      "execution_count": 0,
      "outputs": []
    },
    {
      "cell_type": "code",
      "metadata": {
        "colab_type": "code",
        "id": "FGOYfnFx-UzM",
        "colab": {}
      },
      "source": [
        "temp = trainPathDF[[\"Bone\"]].values\n",
        "temp=np.unique(temp)\n",
        "tempLabel = {\n",
        "\t\ttemp[0]: 0,\n",
        "\t\ttemp[1] : 1,\n",
        "    temp[2]: 2,\n",
        "\t\ttemp[3] : 3,\n",
        "    temp[4]: 4,\n",
        "\t\ttemp[5] : 5,\n",
        "    temp[6]: 6,\n",
        "\t\t\n",
        "\t}\n",
        "\n",
        "trainPathDF['BoneLabel']=trainPathDF['Bone']\n",
        "trainPathDF=trainPathDF.replace({\"BoneLabel\":tempLabel})"
      ],
      "execution_count": 0,
      "outputs": []
    },
    {
      "cell_type": "code",
      "metadata": {
        "id": "PC4bWQttV-pl",
        "colab_type": "code",
        "colab": {}
      },
      "source": [
        "boneList = temp"
      ],
      "execution_count": 0,
      "outputs": []
    },
    {
      "cell_type": "code",
      "metadata": {
        "colab_type": "code",
        "outputId": "8ade46da-f7f0-4cc5-95bd-c2d801c4ca5d",
        "id": "v16q0iBB-UzJ",
        "colab": {
          "base_uri": "https://localhost:8080/",
          "height": 255
        }
      },
      "source": [
        "print(trainPathDF)  \n"
      ],
      "execution_count": 0,
      "outputs": [
        {
          "output_type": "stream",
          "text": [
            "                                                    path  ...  BoneLabel\n",
            "0      MURA-v1.1/train/XR_SHOULDER/patient00001/study...  ...          5\n",
            "1      MURA-v1.1/train/XR_SHOULDER/patient00001/study...  ...          5\n",
            "2      MURA-v1.1/train/XR_SHOULDER/patient00001/study...  ...          5\n",
            "3      MURA-v1.1/train/XR_SHOULDER/patient00002/study...  ...          5\n",
            "4      MURA-v1.1/train/XR_SHOULDER/patient00002/study...  ...          5\n",
            "...                                                  ...  ...        ...\n",
            "36803  MURA-v1.1/train/XR_HAND/patient11183/study1_ne...  ...          3\n",
            "36804  MURA-v1.1/train/XR_HAND/patient11183/study1_ne...  ...          3\n",
            "36805  MURA-v1.1/train/XR_HAND/patient11184/study1_ne...  ...          3\n",
            "36806  MURA-v1.1/train/XR_HAND/patient11184/study1_ne...  ...          3\n",
            "36807  MURA-v1.1/train/XR_HAND/patient11184/study1_ne...  ...          3\n",
            "\n",
            "[36808 rows x 5 columns]\n"
          ],
          "name": "stdout"
        }
      ]
    },
    {
      "cell_type": "code",
      "metadata": {
        "colab_type": "code",
        "outputId": "c47dc771-494d-4fc9-a4be-af47400e4b51",
        "id": "0SVEaQ4q-UzG",
        "colab": {
          "base_uri": "https://localhost:8080/",
          "height": 34
        }
      },
      "source": [
        "import matplotlib.pyplot as plt\n",
        "import matplotlib.image as mpimg\n",
        "import numpy as np\n",
        "import cv2\n",
        "import PIL\n",
        "train = list()\n",
        "trainDirList = trainPathDF['path']\n",
        "for i in range(len(trainDirList)):\n",
        "  temp = str(trainDirList[i])\n",
        "  image = cv2.imread(temp)\n",
        "  imageFromArray = PIL.Image.fromarray(image,\"RGB\")\n",
        "  img = imageFromArray.resize((224,224))\n",
        "  train.append(np.array(img))\n",
        "\n",
        "print(np.shape(train))"
      ],
      "execution_count": 0,
      "outputs": [
        {
          "output_type": "stream",
          "text": [
            "(36808, 224, 224, 3)\n"
          ],
          "name": "stdout"
        }
      ]
    },
    {
      "cell_type": "code",
      "metadata": {
        "colab_type": "code",
        "outputId": "000c6a12-4980-4be5-8853-2d829bfc0492",
        "id": "cmjToWNG-UzE",
        "colab": {
          "base_uri": "https://localhost:8080/",
          "height": 34
        }
      },
      "source": [
        "test = list()\n",
        "testDirList = testPathDF['path']\n",
        "for i in range(len(testDirList)):\n",
        "  temp = str(testDirList[i])\n",
        "  image = cv2.imread(temp)\n",
        "  imageFromArray = PIL.Image.fromarray(image,\"RGB\")\n",
        "  img = imageFromArray.resize((224,224))\n",
        "  test.append(np.array(img))\n",
        "\n",
        "print(np.shape(test))\n",
        "X_test = np.array(test)"
      ],
      "execution_count": 0,
      "outputs": [
        {
          "output_type": "stream",
          "text": [
            "(3197, 224, 224, 3)\n"
          ],
          "name": "stdout"
        }
      ]
    },
    {
      "cell_type": "code",
      "metadata": {
        "colab_type": "code",
        "id": "9DaWFtb4-UzB",
        "colab": {}
      },
      "source": [
        "y_test = testPathDF['Label'].values"
      ],
      "execution_count": 0,
      "outputs": []
    },
    {
      "cell_type": "code",
      "metadata": {
        "colab_type": "code",
        "id": "CcXuJzAr-Uy-",
        "colab": {}
      },
      "source": [
        "Cells=np.array(train)\n",
        "labels=np.array(trainPathDF[[\"Label\"]].values)\n",
        "bonelabels=np.array(trainPathDF[[\"BoneLabel\"]].values)"
      ],
      "execution_count": 0,
      "outputs": []
    },
    {
      "cell_type": "code",
      "metadata": {
        "colab_type": "code",
        "id": "z1gmGm9H-Uy8",
        "colab": {}
      },
      "source": [
        "#from sklearn.utils import shuffle\n",
        "#Cells, labels = shuffle(Cells,labels, random_state=0)"
      ],
      "execution_count": 0,
      "outputs": []
    },
    {
      "cell_type": "code",
      "metadata": {
        "colab_type": "code",
        "id": "bP9dwTSs-Uy6",
        "colab": {}
      },
      "source": [
        "from sklearn.utils import shuffle\n",
        "temp=0\n",
        "idx = list(range(36808))\n",
        "bones=list(range(7))\n",
        "while (temp == 0):\n",
        "  np.random.shuffle(idx)\n",
        "  Cells = Cells[idx]\n",
        "  labels = labels[idx]\n",
        "  bonelabels=bonelabels[idx]\n",
        "  (X_train,X_valid)=Cells[(int)(0.1*len(labels)):],Cells[:(int)(0.1*len(labels))]\n",
        "  #X_train = X_train.astype('float64')/255 \n",
        "  #X_valid = X_valid.astype('float64')/255\n",
        "  (y_train,y_valid)=labels[(int)(0.1*len(labels)):],labels[:(int)(0.1*len(labels))]\n",
        "  (bone_train,bone_valid)=bonelabels[(int)(0.1*len(bonelabels)):],bonelabels[:(int)(0.1*len(bonelabels))]\n",
        " \n",
        "  temp = 1\n",
        "       \n",
        "  if(all(elem in bone_train for elem in bones) and all(elem in bone_valid for elem in bones)):\n",
        "    temp=1\n",
        "  else:\n",
        "    temp=0"
      ],
      "execution_count": 0,
      "outputs": []
    },
    {
      "cell_type": "code",
      "metadata": {
        "colab_type": "code",
        "id": "8IuSgxby-Uy3",
        "colab": {}
      },
      "source": [
        "def plotScatterMatrix(df, plotSize, textSize):\n",
        "    df = df.select_dtypes(include =[np.number]) # keep only numerical columns\n",
        "    # Remove rows and columns that would lead to df being singular\n",
        "    df = df.dropna('columns')\n",
        "    df = df[[col for col in df if df[col].nunique() > 1]] # keep columns where there are more than 1 unique values\n",
        "    columnNames = list(df)\n",
        "    if len(columnNames) > 10: # reduce the number of columns for matrix inversion of kernel density plots\n",
        "        columnNames = columnNames[:10]\n",
        "    df = df[columnNames]\n",
        "    ax = pd.plotting.scatter_matrix(df, alpha=0.75, figsize=[plotSize, plotSize], diagonal='kde')\n",
        "    corrs = df.corr().values\n",
        "    for i, j in zip(*plt.np.triu_indices_from(ax, k = 1)):\n",
        "        ax[i, j].annotate('Corr. coef = %.3f' % corrs[i, j], (0.8, 0.2), xycoords='axes fraction', ha='center', va='center', size=textSize)\n",
        "    plt.suptitle('Scatter and Density Plot')\n",
        "    plt.show()"
      ],
      "execution_count": 0,
      "outputs": []
    },
    {
      "cell_type": "code",
      "metadata": {
        "colab_type": "code",
        "id": "sVG5fGqe-Uy1",
        "colab": {}
      },
      "source": [
        "import keras\n",
        "from keras.models import Model\n",
        "from keras.layers import  Input\n",
        "from keras.models import Sequential\n",
        "from keras.layers import Dense, Flatten\n",
        "from keras.layers import Dropout # new!\n",
        "from keras.layers.normalization import BatchNormalization # new!\n",
        "from keras import regularizers # new! \n",
        "from keras.optimizers import SGD\n",
        "from keras.layers import Flatten, Conv2D, MaxPooling2D # new!\n",
        "from keras.callbacks import ModelCheckpoint\n",
        "from sklearn.metrics import cohen_kappa_score\n",
        "from sklearn.metrics import accuracy_score"
      ],
      "execution_count": 0,
      "outputs": []
    },
    {
      "cell_type": "code",
      "metadata": {
        "colab_type": "code",
        "id": "SNxMEoJ9-Uyy",
        "colab": {}
      },
      "source": [
        "y_train = keras.utils.to_categorical(y_train, 2)\n",
        "y_test = keras.utils.to_categorical(y_test, 2)\n",
        "y_valid = keras.utils.to_categorical(y_valid, 2)\n"
      ],
      "execution_count": 0,
      "outputs": []
    },
    {
      "cell_type": "code",
      "metadata": {
        "id": "6nEFXxz4vRO4",
        "colab_type": "code",
        "colab": {}
      },
      "source": [
        ""
      ],
      "execution_count": 0,
      "outputs": []
    },
    {
      "cell_type": "code",
      "metadata": {
        "id": "OmsbAem375Gn",
        "colab_type": "code",
        "colab": {}
      },
      "source": [
        "import numpy as np\n",
        "import keras\n",
        "from keras import backend as K\n",
        "from keras.layers.core import Dense\n",
        "from keras.optimizers import Adam\n",
        "from keras.metrics import categorical_crossentropy\n",
        "from keras.preprocessing.image import ImageDataGenerator\n",
        "from keras.preprocessing import image\n",
        "from keras.models import Model\n",
        "from keras.applications import imagenet_utils\n",
        "from sklearn.metrics import confusion_matrix\n",
        "from keras.layers import  Input\n",
        "from keras.layers import  GlobalAveragePooling2D\n",
        "import itertools\n",
        "import matplotlib.pyplot as plt\n",
        "%matplotlib inline\n"
      ],
      "execution_count": 0,
      "outputs": []
    },
    {
      "cell_type": "code",
      "metadata": {
        "id": "4rwNlN_xg5ed",
        "colab_type": "code",
        "colab": {}
      },
      "source": [
        ""
      ],
      "execution_count": 0,
      "outputs": []
    },
    {
      "cell_type": "code",
      "metadata": {
        "colab_type": "code",
        "id": "kWEoIvnzAXmR",
        "colab": {}
      },
      "source": [
        "#copy of single pre-trained mobilenet model with weights that were saved from being trained on imagenet images\n",
        "mobile2=keras.applications.mobilenet.MobileNet()\n"
      ],
      "execution_count": 0,
      "outputs": []
    },
    {
      "cell_type": "code",
      "metadata": {
        "colab_type": "code",
        "outputId": "16225b13-3e1d-459e-b1c8-3906c308259a",
        "id": "brXkhTM9AXnn",
        "colab": {
          "base_uri": "https://localhost:8080/",
          "height": 1000
        }
      },
      "source": [
        "mobile2.summary()"
      ],
      "execution_count": 0,
      "outputs": [
        {
          "output_type": "stream",
          "text": [
            "Model: \"mobilenet_1.00_224\"\n",
            "_________________________________________________________________\n",
            "Layer (type)                 Output Shape              Param #   \n",
            "=================================================================\n",
            "input_8 (InputLayer)         (None, 224, 224, 3)       0         \n",
            "_________________________________________________________________\n",
            "conv1_pad (ZeroPadding2D)    (None, 225, 225, 3)       0         \n",
            "_________________________________________________________________\n",
            "conv1 (Conv2D)               (None, 112, 112, 32)      864       \n",
            "_________________________________________________________________\n",
            "conv1_bn (BatchNormalization (None, 112, 112, 32)      128       \n",
            "_________________________________________________________________\n",
            "conv1_relu (ReLU)            (None, 112, 112, 32)      0         \n",
            "_________________________________________________________________\n",
            "conv_dw_1 (DepthwiseConv2D)  (None, 112, 112, 32)      288       \n",
            "_________________________________________________________________\n",
            "conv_dw_1_bn (BatchNormaliza (None, 112, 112, 32)      128       \n",
            "_________________________________________________________________\n",
            "conv_dw_1_relu (ReLU)        (None, 112, 112, 32)      0         \n",
            "_________________________________________________________________\n",
            "conv_pw_1 (Conv2D)           (None, 112, 112, 64)      2048      \n",
            "_________________________________________________________________\n",
            "conv_pw_1_bn (BatchNormaliza (None, 112, 112, 64)      256       \n",
            "_________________________________________________________________\n",
            "conv_pw_1_relu (ReLU)        (None, 112, 112, 64)      0         \n",
            "_________________________________________________________________\n",
            "conv_pad_2 (ZeroPadding2D)   (None, 113, 113, 64)      0         \n",
            "_________________________________________________________________\n",
            "conv_dw_2 (DepthwiseConv2D)  (None, 56, 56, 64)        576       \n",
            "_________________________________________________________________\n",
            "conv_dw_2_bn (BatchNormaliza (None, 56, 56, 64)        256       \n",
            "_________________________________________________________________\n",
            "conv_dw_2_relu (ReLU)        (None, 56, 56, 64)        0         \n",
            "_________________________________________________________________\n",
            "conv_pw_2 (Conv2D)           (None, 56, 56, 128)       8192      \n",
            "_________________________________________________________________\n",
            "conv_pw_2_bn (BatchNormaliza (None, 56, 56, 128)       512       \n",
            "_________________________________________________________________\n",
            "conv_pw_2_relu (ReLU)        (None, 56, 56, 128)       0         \n",
            "_________________________________________________________________\n",
            "conv_dw_3 (DepthwiseConv2D)  (None, 56, 56, 128)       1152      \n",
            "_________________________________________________________________\n",
            "conv_dw_3_bn (BatchNormaliza (None, 56, 56, 128)       512       \n",
            "_________________________________________________________________\n",
            "conv_dw_3_relu (ReLU)        (None, 56, 56, 128)       0         \n",
            "_________________________________________________________________\n",
            "conv_pw_3 (Conv2D)           (None, 56, 56, 128)       16384     \n",
            "_________________________________________________________________\n",
            "conv_pw_3_bn (BatchNormaliza (None, 56, 56, 128)       512       \n",
            "_________________________________________________________________\n",
            "conv_pw_3_relu (ReLU)        (None, 56, 56, 128)       0         \n",
            "_________________________________________________________________\n",
            "conv_pad_4 (ZeroPadding2D)   (None, 57, 57, 128)       0         \n",
            "_________________________________________________________________\n",
            "conv_dw_4 (DepthwiseConv2D)  (None, 28, 28, 128)       1152      \n",
            "_________________________________________________________________\n",
            "conv_dw_4_bn (BatchNormaliza (None, 28, 28, 128)       512       \n",
            "_________________________________________________________________\n",
            "conv_dw_4_relu (ReLU)        (None, 28, 28, 128)       0         \n",
            "_________________________________________________________________\n",
            "conv_pw_4 (Conv2D)           (None, 28, 28, 256)       32768     \n",
            "_________________________________________________________________\n",
            "conv_pw_4_bn (BatchNormaliza (None, 28, 28, 256)       1024      \n",
            "_________________________________________________________________\n",
            "conv_pw_4_relu (ReLU)        (None, 28, 28, 256)       0         \n",
            "_________________________________________________________________\n",
            "conv_dw_5 (DepthwiseConv2D)  (None, 28, 28, 256)       2304      \n",
            "_________________________________________________________________\n",
            "conv_dw_5_bn (BatchNormaliza (None, 28, 28, 256)       1024      \n",
            "_________________________________________________________________\n",
            "conv_dw_5_relu (ReLU)        (None, 28, 28, 256)       0         \n",
            "_________________________________________________________________\n",
            "conv_pw_5 (Conv2D)           (None, 28, 28, 256)       65536     \n",
            "_________________________________________________________________\n",
            "conv_pw_5_bn (BatchNormaliza (None, 28, 28, 256)       1024      \n",
            "_________________________________________________________________\n",
            "conv_pw_5_relu (ReLU)        (None, 28, 28, 256)       0         \n",
            "_________________________________________________________________\n",
            "conv_pad_6 (ZeroPadding2D)   (None, 29, 29, 256)       0         \n",
            "_________________________________________________________________\n",
            "conv_dw_6 (DepthwiseConv2D)  (None, 14, 14, 256)       2304      \n",
            "_________________________________________________________________\n",
            "conv_dw_6_bn (BatchNormaliza (None, 14, 14, 256)       1024      \n",
            "_________________________________________________________________\n",
            "conv_dw_6_relu (ReLU)        (None, 14, 14, 256)       0         \n",
            "_________________________________________________________________\n",
            "conv_pw_6 (Conv2D)           (None, 14, 14, 512)       131072    \n",
            "_________________________________________________________________\n",
            "conv_pw_6_bn (BatchNormaliza (None, 14, 14, 512)       2048      \n",
            "_________________________________________________________________\n",
            "conv_pw_6_relu (ReLU)        (None, 14, 14, 512)       0         \n",
            "_________________________________________________________________\n",
            "conv_dw_7 (DepthwiseConv2D)  (None, 14, 14, 512)       4608      \n",
            "_________________________________________________________________\n",
            "conv_dw_7_bn (BatchNormaliza (None, 14, 14, 512)       2048      \n",
            "_________________________________________________________________\n",
            "conv_dw_7_relu (ReLU)        (None, 14, 14, 512)       0         \n",
            "_________________________________________________________________\n",
            "conv_pw_7 (Conv2D)           (None, 14, 14, 512)       262144    \n",
            "_________________________________________________________________\n",
            "conv_pw_7_bn (BatchNormaliza (None, 14, 14, 512)       2048      \n",
            "_________________________________________________________________\n",
            "conv_pw_7_relu (ReLU)        (None, 14, 14, 512)       0         \n",
            "_________________________________________________________________\n",
            "conv_dw_8 (DepthwiseConv2D)  (None, 14, 14, 512)       4608      \n",
            "_________________________________________________________________\n",
            "conv_dw_8_bn (BatchNormaliza (None, 14, 14, 512)       2048      \n",
            "_________________________________________________________________\n",
            "conv_dw_8_relu (ReLU)        (None, 14, 14, 512)       0         \n",
            "_________________________________________________________________\n",
            "conv_pw_8 (Conv2D)           (None, 14, 14, 512)       262144    \n",
            "_________________________________________________________________\n",
            "conv_pw_8_bn (BatchNormaliza (None, 14, 14, 512)       2048      \n",
            "_________________________________________________________________\n",
            "conv_pw_8_relu (ReLU)        (None, 14, 14, 512)       0         \n",
            "_________________________________________________________________\n",
            "conv_dw_9 (DepthwiseConv2D)  (None, 14, 14, 512)       4608      \n",
            "_________________________________________________________________\n",
            "conv_dw_9_bn (BatchNormaliza (None, 14, 14, 512)       2048      \n",
            "_________________________________________________________________\n",
            "conv_dw_9_relu (ReLU)        (None, 14, 14, 512)       0         \n",
            "_________________________________________________________________\n",
            "conv_pw_9 (Conv2D)           (None, 14, 14, 512)       262144    \n",
            "_________________________________________________________________\n",
            "conv_pw_9_bn (BatchNormaliza (None, 14, 14, 512)       2048      \n",
            "_________________________________________________________________\n",
            "conv_pw_9_relu (ReLU)        (None, 14, 14, 512)       0         \n",
            "_________________________________________________________________\n",
            "conv_dw_10 (DepthwiseConv2D) (None, 14, 14, 512)       4608      \n",
            "_________________________________________________________________\n",
            "conv_dw_10_bn (BatchNormaliz (None, 14, 14, 512)       2048      \n",
            "_________________________________________________________________\n",
            "conv_dw_10_relu (ReLU)       (None, 14, 14, 512)       0         \n",
            "_________________________________________________________________\n",
            "conv_pw_10 (Conv2D)          (None, 14, 14, 512)       262144    \n",
            "_________________________________________________________________\n",
            "conv_pw_10_bn (BatchNormaliz (None, 14, 14, 512)       2048      \n",
            "_________________________________________________________________\n",
            "conv_pw_10_relu (ReLU)       (None, 14, 14, 512)       0         \n",
            "_________________________________________________________________\n",
            "conv_dw_11 (DepthwiseConv2D) (None, 14, 14, 512)       4608      \n",
            "_________________________________________________________________\n",
            "conv_dw_11_bn (BatchNormaliz (None, 14, 14, 512)       2048      \n",
            "_________________________________________________________________\n",
            "conv_dw_11_relu (ReLU)       (None, 14, 14, 512)       0         \n",
            "_________________________________________________________________\n",
            "conv_pw_11 (Conv2D)          (None, 14, 14, 512)       262144    \n",
            "_________________________________________________________________\n",
            "conv_pw_11_bn (BatchNormaliz (None, 14, 14, 512)       2048      \n",
            "_________________________________________________________________\n",
            "conv_pw_11_relu (ReLU)       (None, 14, 14, 512)       0         \n",
            "_________________________________________________________________\n",
            "conv_pad_12 (ZeroPadding2D)  (None, 15, 15, 512)       0         \n",
            "_________________________________________________________________\n",
            "conv_dw_12 (DepthwiseConv2D) (None, 7, 7, 512)         4608      \n",
            "_________________________________________________________________\n",
            "conv_dw_12_bn (BatchNormaliz (None, 7, 7, 512)         2048      \n",
            "_________________________________________________________________\n",
            "conv_dw_12_relu (ReLU)       (None, 7, 7, 512)         0         \n",
            "_________________________________________________________________\n",
            "conv_pw_12 (Conv2D)          (None, 7, 7, 1024)        524288    \n",
            "_________________________________________________________________\n",
            "conv_pw_12_bn (BatchNormaliz (None, 7, 7, 1024)        4096      \n",
            "_________________________________________________________________\n",
            "conv_pw_12_relu (ReLU)       (None, 7, 7, 1024)        0         \n",
            "_________________________________________________________________\n",
            "conv_dw_13 (DepthwiseConv2D) (None, 7, 7, 1024)        9216      \n",
            "_________________________________________________________________\n",
            "conv_dw_13_bn (BatchNormaliz (None, 7, 7, 1024)        4096      \n",
            "_________________________________________________________________\n",
            "conv_dw_13_relu (ReLU)       (None, 7, 7, 1024)        0         \n",
            "_________________________________________________________________\n",
            "conv_pw_13 (Conv2D)          (None, 7, 7, 1024)        1048576   \n",
            "_________________________________________________________________\n",
            "conv_pw_13_bn (BatchNormaliz (None, 7, 7, 1024)        4096      \n",
            "_________________________________________________________________\n",
            "conv_pw_13_relu (ReLU)       (None, 7, 7, 1024)        0         \n",
            "_________________________________________________________________\n",
            "global_average_pooling2d_16  (None, 1024)              0         \n",
            "_________________________________________________________________\n",
            "reshape_1 (Reshape)          (None, 1, 1, 1024)        0         \n",
            "_________________________________________________________________\n",
            "dropout (Dropout)            (None, 1, 1, 1024)        0         \n",
            "_________________________________________________________________\n",
            "conv_preds (Conv2D)          (None, 1, 1, 1000)        1025000   \n",
            "_________________________________________________________________\n",
            "reshape_2 (Reshape)          (None, 1000)              0         \n",
            "_________________________________________________________________\n",
            "act_softmax (Activation)     (None, 1000)              0         \n",
            "=================================================================\n",
            "Total params: 4,253,864\n",
            "Trainable params: 4,231,976\n",
            "Non-trainable params: 21,888\n",
            "_________________________________________________________________\n"
          ],
          "name": "stdout"
        }
      ]
    },
    {
      "cell_type": "code",
      "metadata": {
        "colab_type": "code",
        "id": "vFQi_cufAXnt",
        "colab": {}
      },
      "source": [
        "x=mobile2.output\n",
        "\n",
        "predictions=Dense(2,activation='sigmoid')(x)\n",
        "\n",
        "model2=Model(inputs=mobile2.input,outputs=predictions)\n",
        "\n"
      ],
      "execution_count": 0,
      "outputs": []
    },
    {
      "cell_type": "code",
      "metadata": {
        "colab_type": "code",
        "outputId": "c49a2fa6-c961-4a34-de47-d7d1b4da4ded",
        "id": "ZVEZNRQwAXnx",
        "colab": {
          "base_uri": "https://localhost:8080/",
          "height": 1000
        }
      },
      "source": [
        "model2.summary()"
      ],
      "execution_count": 0,
      "outputs": [
        {
          "output_type": "stream",
          "text": [
            "Model: \"model_3\"\n",
            "_________________________________________________________________\n",
            "Layer (type)                 Output Shape              Param #   \n",
            "=================================================================\n",
            "input_8 (InputLayer)         (None, 224, 224, 3)       0         \n",
            "_________________________________________________________________\n",
            "conv1_pad (ZeroPadding2D)    (None, 225, 225, 3)       0         \n",
            "_________________________________________________________________\n",
            "conv1 (Conv2D)               (None, 112, 112, 32)      864       \n",
            "_________________________________________________________________\n",
            "conv1_bn (BatchNormalization (None, 112, 112, 32)      128       \n",
            "_________________________________________________________________\n",
            "conv1_relu (ReLU)            (None, 112, 112, 32)      0         \n",
            "_________________________________________________________________\n",
            "conv_dw_1 (DepthwiseConv2D)  (None, 112, 112, 32)      288       \n",
            "_________________________________________________________________\n",
            "conv_dw_1_bn (BatchNormaliza (None, 112, 112, 32)      128       \n",
            "_________________________________________________________________\n",
            "conv_dw_1_relu (ReLU)        (None, 112, 112, 32)      0         \n",
            "_________________________________________________________________\n",
            "conv_pw_1 (Conv2D)           (None, 112, 112, 64)      2048      \n",
            "_________________________________________________________________\n",
            "conv_pw_1_bn (BatchNormaliza (None, 112, 112, 64)      256       \n",
            "_________________________________________________________________\n",
            "conv_pw_1_relu (ReLU)        (None, 112, 112, 64)      0         \n",
            "_________________________________________________________________\n",
            "conv_pad_2 (ZeroPadding2D)   (None, 113, 113, 64)      0         \n",
            "_________________________________________________________________\n",
            "conv_dw_2 (DepthwiseConv2D)  (None, 56, 56, 64)        576       \n",
            "_________________________________________________________________\n",
            "conv_dw_2_bn (BatchNormaliza (None, 56, 56, 64)        256       \n",
            "_________________________________________________________________\n",
            "conv_dw_2_relu (ReLU)        (None, 56, 56, 64)        0         \n",
            "_________________________________________________________________\n",
            "conv_pw_2 (Conv2D)           (None, 56, 56, 128)       8192      \n",
            "_________________________________________________________________\n",
            "conv_pw_2_bn (BatchNormaliza (None, 56, 56, 128)       512       \n",
            "_________________________________________________________________\n",
            "conv_pw_2_relu (ReLU)        (None, 56, 56, 128)       0         \n",
            "_________________________________________________________________\n",
            "conv_dw_3 (DepthwiseConv2D)  (None, 56, 56, 128)       1152      \n",
            "_________________________________________________________________\n",
            "conv_dw_3_bn (BatchNormaliza (None, 56, 56, 128)       512       \n",
            "_________________________________________________________________\n",
            "conv_dw_3_relu (ReLU)        (None, 56, 56, 128)       0         \n",
            "_________________________________________________________________\n",
            "conv_pw_3 (Conv2D)           (None, 56, 56, 128)       16384     \n",
            "_________________________________________________________________\n",
            "conv_pw_3_bn (BatchNormaliza (None, 56, 56, 128)       512       \n",
            "_________________________________________________________________\n",
            "conv_pw_3_relu (ReLU)        (None, 56, 56, 128)       0         \n",
            "_________________________________________________________________\n",
            "conv_pad_4 (ZeroPadding2D)   (None, 57, 57, 128)       0         \n",
            "_________________________________________________________________\n",
            "conv_dw_4 (DepthwiseConv2D)  (None, 28, 28, 128)       1152      \n",
            "_________________________________________________________________\n",
            "conv_dw_4_bn (BatchNormaliza (None, 28, 28, 128)       512       \n",
            "_________________________________________________________________\n",
            "conv_dw_4_relu (ReLU)        (None, 28, 28, 128)       0         \n",
            "_________________________________________________________________\n",
            "conv_pw_4 (Conv2D)           (None, 28, 28, 256)       32768     \n",
            "_________________________________________________________________\n",
            "conv_pw_4_bn (BatchNormaliza (None, 28, 28, 256)       1024      \n",
            "_________________________________________________________________\n",
            "conv_pw_4_relu (ReLU)        (None, 28, 28, 256)       0         \n",
            "_________________________________________________________________\n",
            "conv_dw_5 (DepthwiseConv2D)  (None, 28, 28, 256)       2304      \n",
            "_________________________________________________________________\n",
            "conv_dw_5_bn (BatchNormaliza (None, 28, 28, 256)       1024      \n",
            "_________________________________________________________________\n",
            "conv_dw_5_relu (ReLU)        (None, 28, 28, 256)       0         \n",
            "_________________________________________________________________\n",
            "conv_pw_5 (Conv2D)           (None, 28, 28, 256)       65536     \n",
            "_________________________________________________________________\n",
            "conv_pw_5_bn (BatchNormaliza (None, 28, 28, 256)       1024      \n",
            "_________________________________________________________________\n",
            "conv_pw_5_relu (ReLU)        (None, 28, 28, 256)       0         \n",
            "_________________________________________________________________\n",
            "conv_pad_6 (ZeroPadding2D)   (None, 29, 29, 256)       0         \n",
            "_________________________________________________________________\n",
            "conv_dw_6 (DepthwiseConv2D)  (None, 14, 14, 256)       2304      \n",
            "_________________________________________________________________\n",
            "conv_dw_6_bn (BatchNormaliza (None, 14, 14, 256)       1024      \n",
            "_________________________________________________________________\n",
            "conv_dw_6_relu (ReLU)        (None, 14, 14, 256)       0         \n",
            "_________________________________________________________________\n",
            "conv_pw_6 (Conv2D)           (None, 14, 14, 512)       131072    \n",
            "_________________________________________________________________\n",
            "conv_pw_6_bn (BatchNormaliza (None, 14, 14, 512)       2048      \n",
            "_________________________________________________________________\n",
            "conv_pw_6_relu (ReLU)        (None, 14, 14, 512)       0         \n",
            "_________________________________________________________________\n",
            "conv_dw_7 (DepthwiseConv2D)  (None, 14, 14, 512)       4608      \n",
            "_________________________________________________________________\n",
            "conv_dw_7_bn (BatchNormaliza (None, 14, 14, 512)       2048      \n",
            "_________________________________________________________________\n",
            "conv_dw_7_relu (ReLU)        (None, 14, 14, 512)       0         \n",
            "_________________________________________________________________\n",
            "conv_pw_7 (Conv2D)           (None, 14, 14, 512)       262144    \n",
            "_________________________________________________________________\n",
            "conv_pw_7_bn (BatchNormaliza (None, 14, 14, 512)       2048      \n",
            "_________________________________________________________________\n",
            "conv_pw_7_relu (ReLU)        (None, 14, 14, 512)       0         \n",
            "_________________________________________________________________\n",
            "conv_dw_8 (DepthwiseConv2D)  (None, 14, 14, 512)       4608      \n",
            "_________________________________________________________________\n",
            "conv_dw_8_bn (BatchNormaliza (None, 14, 14, 512)       2048      \n",
            "_________________________________________________________________\n",
            "conv_dw_8_relu (ReLU)        (None, 14, 14, 512)       0         \n",
            "_________________________________________________________________\n",
            "conv_pw_8 (Conv2D)           (None, 14, 14, 512)       262144    \n",
            "_________________________________________________________________\n",
            "conv_pw_8_bn (BatchNormaliza (None, 14, 14, 512)       2048      \n",
            "_________________________________________________________________\n",
            "conv_pw_8_relu (ReLU)        (None, 14, 14, 512)       0         \n",
            "_________________________________________________________________\n",
            "conv_dw_9 (DepthwiseConv2D)  (None, 14, 14, 512)       4608      \n",
            "_________________________________________________________________\n",
            "conv_dw_9_bn (BatchNormaliza (None, 14, 14, 512)       2048      \n",
            "_________________________________________________________________\n",
            "conv_dw_9_relu (ReLU)        (None, 14, 14, 512)       0         \n",
            "_________________________________________________________________\n",
            "conv_pw_9 (Conv2D)           (None, 14, 14, 512)       262144    \n",
            "_________________________________________________________________\n",
            "conv_pw_9_bn (BatchNormaliza (None, 14, 14, 512)       2048      \n",
            "_________________________________________________________________\n",
            "conv_pw_9_relu (ReLU)        (None, 14, 14, 512)       0         \n",
            "_________________________________________________________________\n",
            "conv_dw_10 (DepthwiseConv2D) (None, 14, 14, 512)       4608      \n",
            "_________________________________________________________________\n",
            "conv_dw_10_bn (BatchNormaliz (None, 14, 14, 512)       2048      \n",
            "_________________________________________________________________\n",
            "conv_dw_10_relu (ReLU)       (None, 14, 14, 512)       0         \n",
            "_________________________________________________________________\n",
            "conv_pw_10 (Conv2D)          (None, 14, 14, 512)       262144    \n",
            "_________________________________________________________________\n",
            "conv_pw_10_bn (BatchNormaliz (None, 14, 14, 512)       2048      \n",
            "_________________________________________________________________\n",
            "conv_pw_10_relu (ReLU)       (None, 14, 14, 512)       0         \n",
            "_________________________________________________________________\n",
            "conv_dw_11 (DepthwiseConv2D) (None, 14, 14, 512)       4608      \n",
            "_________________________________________________________________\n",
            "conv_dw_11_bn (BatchNormaliz (None, 14, 14, 512)       2048      \n",
            "_________________________________________________________________\n",
            "conv_dw_11_relu (ReLU)       (None, 14, 14, 512)       0         \n",
            "_________________________________________________________________\n",
            "conv_pw_11 (Conv2D)          (None, 14, 14, 512)       262144    \n",
            "_________________________________________________________________\n",
            "conv_pw_11_bn (BatchNormaliz (None, 14, 14, 512)       2048      \n",
            "_________________________________________________________________\n",
            "conv_pw_11_relu (ReLU)       (None, 14, 14, 512)       0         \n",
            "_________________________________________________________________\n",
            "conv_pad_12 (ZeroPadding2D)  (None, 15, 15, 512)       0         \n",
            "_________________________________________________________________\n",
            "conv_dw_12 (DepthwiseConv2D) (None, 7, 7, 512)         4608      \n",
            "_________________________________________________________________\n",
            "conv_dw_12_bn (BatchNormaliz (None, 7, 7, 512)         2048      \n",
            "_________________________________________________________________\n",
            "conv_dw_12_relu (ReLU)       (None, 7, 7, 512)         0         \n",
            "_________________________________________________________________\n",
            "conv_pw_12 (Conv2D)          (None, 7, 7, 1024)        524288    \n",
            "_________________________________________________________________\n",
            "conv_pw_12_bn (BatchNormaliz (None, 7, 7, 1024)        4096      \n",
            "_________________________________________________________________\n",
            "conv_pw_12_relu (ReLU)       (None, 7, 7, 1024)        0         \n",
            "_________________________________________________________________\n",
            "conv_dw_13 (DepthwiseConv2D) (None, 7, 7, 1024)        9216      \n",
            "_________________________________________________________________\n",
            "conv_dw_13_bn (BatchNormaliz (None, 7, 7, 1024)        4096      \n",
            "_________________________________________________________________\n",
            "conv_dw_13_relu (ReLU)       (None, 7, 7, 1024)        0         \n",
            "_________________________________________________________________\n",
            "conv_pw_13 (Conv2D)          (None, 7, 7, 1024)        1048576   \n",
            "_________________________________________________________________\n",
            "conv_pw_13_bn (BatchNormaliz (None, 7, 7, 1024)        4096      \n",
            "_________________________________________________________________\n",
            "conv_pw_13_relu (ReLU)       (None, 7, 7, 1024)        0         \n",
            "_________________________________________________________________\n",
            "global_average_pooling2d_16  (None, 1024)              0         \n",
            "_________________________________________________________________\n",
            "reshape_1 (Reshape)          (None, 1, 1, 1024)        0         \n",
            "_________________________________________________________________\n",
            "dropout (Dropout)            (None, 1, 1, 1024)        0         \n",
            "_________________________________________________________________\n",
            "conv_preds (Conv2D)          (None, 1, 1, 1000)        1025000   \n",
            "_________________________________________________________________\n",
            "reshape_2 (Reshape)          (None, 1000)              0         \n",
            "_________________________________________________________________\n",
            "act_softmax (Activation)     (None, 1000)              0         \n",
            "_________________________________________________________________\n",
            "dense_22 (Dense)             (None, 2)                 2002      \n",
            "=================================================================\n",
            "Total params: 4,255,866\n",
            "Trainable params: 4,233,978\n",
            "Non-trainable params: 21,888\n",
            "_________________________________________________________________\n"
          ],
          "name": "stdout"
        }
      ]
    },
    {
      "cell_type": "code",
      "metadata": {
        "colab_type": "code",
        "id": "bcmO_rjOAXn0",
        "colab": {}
      },
      "source": [
        "\n",
        "for layer in model2.layers:\n",
        "\n",
        "  layer.trainable=True\n"
      ],
      "execution_count": 0,
      "outputs": []
    },
    {
      "cell_type": "code",
      "metadata": {
        "colab_type": "code",
        "outputId": "4fc71bf8-ce9e-4459-f420-5f9812298cfd",
        "id": "UYB-q-lvAXn8",
        "colab": {
          "base_uri": "https://localhost:8080/",
          "height": 1000
        }
      },
      "source": [
        "model2.summary()"
      ],
      "execution_count": 0,
      "outputs": [
        {
          "output_type": "stream",
          "text": [
            "Model: \"model_3\"\n",
            "_________________________________________________________________\n",
            "Layer (type)                 Output Shape              Param #   \n",
            "=================================================================\n",
            "input_8 (InputLayer)         (None, 224, 224, 3)       0         \n",
            "_________________________________________________________________\n",
            "conv1_pad (ZeroPadding2D)    (None, 225, 225, 3)       0         \n",
            "_________________________________________________________________\n",
            "conv1 (Conv2D)               (None, 112, 112, 32)      864       \n",
            "_________________________________________________________________\n",
            "conv1_bn (BatchNormalization (None, 112, 112, 32)      128       \n",
            "_________________________________________________________________\n",
            "conv1_relu (ReLU)            (None, 112, 112, 32)      0         \n",
            "_________________________________________________________________\n",
            "conv_dw_1 (DepthwiseConv2D)  (None, 112, 112, 32)      288       \n",
            "_________________________________________________________________\n",
            "conv_dw_1_bn (BatchNormaliza (None, 112, 112, 32)      128       \n",
            "_________________________________________________________________\n",
            "conv_dw_1_relu (ReLU)        (None, 112, 112, 32)      0         \n",
            "_________________________________________________________________\n",
            "conv_pw_1 (Conv2D)           (None, 112, 112, 64)      2048      \n",
            "_________________________________________________________________\n",
            "conv_pw_1_bn (BatchNormaliza (None, 112, 112, 64)      256       \n",
            "_________________________________________________________________\n",
            "conv_pw_1_relu (ReLU)        (None, 112, 112, 64)      0         \n",
            "_________________________________________________________________\n",
            "conv_pad_2 (ZeroPadding2D)   (None, 113, 113, 64)      0         \n",
            "_________________________________________________________________\n",
            "conv_dw_2 (DepthwiseConv2D)  (None, 56, 56, 64)        576       \n",
            "_________________________________________________________________\n",
            "conv_dw_2_bn (BatchNormaliza (None, 56, 56, 64)        256       \n",
            "_________________________________________________________________\n",
            "conv_dw_2_relu (ReLU)        (None, 56, 56, 64)        0         \n",
            "_________________________________________________________________\n",
            "conv_pw_2 (Conv2D)           (None, 56, 56, 128)       8192      \n",
            "_________________________________________________________________\n",
            "conv_pw_2_bn (BatchNormaliza (None, 56, 56, 128)       512       \n",
            "_________________________________________________________________\n",
            "conv_pw_2_relu (ReLU)        (None, 56, 56, 128)       0         \n",
            "_________________________________________________________________\n",
            "conv_dw_3 (DepthwiseConv2D)  (None, 56, 56, 128)       1152      \n",
            "_________________________________________________________________\n",
            "conv_dw_3_bn (BatchNormaliza (None, 56, 56, 128)       512       \n",
            "_________________________________________________________________\n",
            "conv_dw_3_relu (ReLU)        (None, 56, 56, 128)       0         \n",
            "_________________________________________________________________\n",
            "conv_pw_3 (Conv2D)           (None, 56, 56, 128)       16384     \n",
            "_________________________________________________________________\n",
            "conv_pw_3_bn (BatchNormaliza (None, 56, 56, 128)       512       \n",
            "_________________________________________________________________\n",
            "conv_pw_3_relu (ReLU)        (None, 56, 56, 128)       0         \n",
            "_________________________________________________________________\n",
            "conv_pad_4 (ZeroPadding2D)   (None, 57, 57, 128)       0         \n",
            "_________________________________________________________________\n",
            "conv_dw_4 (DepthwiseConv2D)  (None, 28, 28, 128)       1152      \n",
            "_________________________________________________________________\n",
            "conv_dw_4_bn (BatchNormaliza (None, 28, 28, 128)       512       \n",
            "_________________________________________________________________\n",
            "conv_dw_4_relu (ReLU)        (None, 28, 28, 128)       0         \n",
            "_________________________________________________________________\n",
            "conv_pw_4 (Conv2D)           (None, 28, 28, 256)       32768     \n",
            "_________________________________________________________________\n",
            "conv_pw_4_bn (BatchNormaliza (None, 28, 28, 256)       1024      \n",
            "_________________________________________________________________\n",
            "conv_pw_4_relu (ReLU)        (None, 28, 28, 256)       0         \n",
            "_________________________________________________________________\n",
            "conv_dw_5 (DepthwiseConv2D)  (None, 28, 28, 256)       2304      \n",
            "_________________________________________________________________\n",
            "conv_dw_5_bn (BatchNormaliza (None, 28, 28, 256)       1024      \n",
            "_________________________________________________________________\n",
            "conv_dw_5_relu (ReLU)        (None, 28, 28, 256)       0         \n",
            "_________________________________________________________________\n",
            "conv_pw_5 (Conv2D)           (None, 28, 28, 256)       65536     \n",
            "_________________________________________________________________\n",
            "conv_pw_5_bn (BatchNormaliza (None, 28, 28, 256)       1024      \n",
            "_________________________________________________________________\n",
            "conv_pw_5_relu (ReLU)        (None, 28, 28, 256)       0         \n",
            "_________________________________________________________________\n",
            "conv_pad_6 (ZeroPadding2D)   (None, 29, 29, 256)       0         \n",
            "_________________________________________________________________\n",
            "conv_dw_6 (DepthwiseConv2D)  (None, 14, 14, 256)       2304      \n",
            "_________________________________________________________________\n",
            "conv_dw_6_bn (BatchNormaliza (None, 14, 14, 256)       1024      \n",
            "_________________________________________________________________\n",
            "conv_dw_6_relu (ReLU)        (None, 14, 14, 256)       0         \n",
            "_________________________________________________________________\n",
            "conv_pw_6 (Conv2D)           (None, 14, 14, 512)       131072    \n",
            "_________________________________________________________________\n",
            "conv_pw_6_bn (BatchNormaliza (None, 14, 14, 512)       2048      \n",
            "_________________________________________________________________\n",
            "conv_pw_6_relu (ReLU)        (None, 14, 14, 512)       0         \n",
            "_________________________________________________________________\n",
            "conv_dw_7 (DepthwiseConv2D)  (None, 14, 14, 512)       4608      \n",
            "_________________________________________________________________\n",
            "conv_dw_7_bn (BatchNormaliza (None, 14, 14, 512)       2048      \n",
            "_________________________________________________________________\n",
            "conv_dw_7_relu (ReLU)        (None, 14, 14, 512)       0         \n",
            "_________________________________________________________________\n",
            "conv_pw_7 (Conv2D)           (None, 14, 14, 512)       262144    \n",
            "_________________________________________________________________\n",
            "conv_pw_7_bn (BatchNormaliza (None, 14, 14, 512)       2048      \n",
            "_________________________________________________________________\n",
            "conv_pw_7_relu (ReLU)        (None, 14, 14, 512)       0         \n",
            "_________________________________________________________________\n",
            "conv_dw_8 (DepthwiseConv2D)  (None, 14, 14, 512)       4608      \n",
            "_________________________________________________________________\n",
            "conv_dw_8_bn (BatchNormaliza (None, 14, 14, 512)       2048      \n",
            "_________________________________________________________________\n",
            "conv_dw_8_relu (ReLU)        (None, 14, 14, 512)       0         \n",
            "_________________________________________________________________\n",
            "conv_pw_8 (Conv2D)           (None, 14, 14, 512)       262144    \n",
            "_________________________________________________________________\n",
            "conv_pw_8_bn (BatchNormaliza (None, 14, 14, 512)       2048      \n",
            "_________________________________________________________________\n",
            "conv_pw_8_relu (ReLU)        (None, 14, 14, 512)       0         \n",
            "_________________________________________________________________\n",
            "conv_dw_9 (DepthwiseConv2D)  (None, 14, 14, 512)       4608      \n",
            "_________________________________________________________________\n",
            "conv_dw_9_bn (BatchNormaliza (None, 14, 14, 512)       2048      \n",
            "_________________________________________________________________\n",
            "conv_dw_9_relu (ReLU)        (None, 14, 14, 512)       0         \n",
            "_________________________________________________________________\n",
            "conv_pw_9 (Conv2D)           (None, 14, 14, 512)       262144    \n",
            "_________________________________________________________________\n",
            "conv_pw_9_bn (BatchNormaliza (None, 14, 14, 512)       2048      \n",
            "_________________________________________________________________\n",
            "conv_pw_9_relu (ReLU)        (None, 14, 14, 512)       0         \n",
            "_________________________________________________________________\n",
            "conv_dw_10 (DepthwiseConv2D) (None, 14, 14, 512)       4608      \n",
            "_________________________________________________________________\n",
            "conv_dw_10_bn (BatchNormaliz (None, 14, 14, 512)       2048      \n",
            "_________________________________________________________________\n",
            "conv_dw_10_relu (ReLU)       (None, 14, 14, 512)       0         \n",
            "_________________________________________________________________\n",
            "conv_pw_10 (Conv2D)          (None, 14, 14, 512)       262144    \n",
            "_________________________________________________________________\n",
            "conv_pw_10_bn (BatchNormaliz (None, 14, 14, 512)       2048      \n",
            "_________________________________________________________________\n",
            "conv_pw_10_relu (ReLU)       (None, 14, 14, 512)       0         \n",
            "_________________________________________________________________\n",
            "conv_dw_11 (DepthwiseConv2D) (None, 14, 14, 512)       4608      \n",
            "_________________________________________________________________\n",
            "conv_dw_11_bn (BatchNormaliz (None, 14, 14, 512)       2048      \n",
            "_________________________________________________________________\n",
            "conv_dw_11_relu (ReLU)       (None, 14, 14, 512)       0         \n",
            "_________________________________________________________________\n",
            "conv_pw_11 (Conv2D)          (None, 14, 14, 512)       262144    \n",
            "_________________________________________________________________\n",
            "conv_pw_11_bn (BatchNormaliz (None, 14, 14, 512)       2048      \n",
            "_________________________________________________________________\n",
            "conv_pw_11_relu (ReLU)       (None, 14, 14, 512)       0         \n",
            "_________________________________________________________________\n",
            "conv_pad_12 (ZeroPadding2D)  (None, 15, 15, 512)       0         \n",
            "_________________________________________________________________\n",
            "conv_dw_12 (DepthwiseConv2D) (None, 7, 7, 512)         4608      \n",
            "_________________________________________________________________\n",
            "conv_dw_12_bn (BatchNormaliz (None, 7, 7, 512)         2048      \n",
            "_________________________________________________________________\n",
            "conv_dw_12_relu (ReLU)       (None, 7, 7, 512)         0         \n",
            "_________________________________________________________________\n",
            "conv_pw_12 (Conv2D)          (None, 7, 7, 1024)        524288    \n",
            "_________________________________________________________________\n",
            "conv_pw_12_bn (BatchNormaliz (None, 7, 7, 1024)        4096      \n",
            "_________________________________________________________________\n",
            "conv_pw_12_relu (ReLU)       (None, 7, 7, 1024)        0         \n",
            "_________________________________________________________________\n",
            "conv_dw_13 (DepthwiseConv2D) (None, 7, 7, 1024)        9216      \n",
            "_________________________________________________________________\n",
            "conv_dw_13_bn (BatchNormaliz (None, 7, 7, 1024)        4096      \n",
            "_________________________________________________________________\n",
            "conv_dw_13_relu (ReLU)       (None, 7, 7, 1024)        0         \n",
            "_________________________________________________________________\n",
            "conv_pw_13 (Conv2D)          (None, 7, 7, 1024)        1048576   \n",
            "_________________________________________________________________\n",
            "conv_pw_13_bn (BatchNormaliz (None, 7, 7, 1024)        4096      \n",
            "_________________________________________________________________\n",
            "conv_pw_13_relu (ReLU)       (None, 7, 7, 1024)        0         \n",
            "_________________________________________________________________\n",
            "global_average_pooling2d_16  (None, 1024)              0         \n",
            "_________________________________________________________________\n",
            "reshape_1 (Reshape)          (None, 1, 1, 1024)        0         \n",
            "_________________________________________________________________\n",
            "dropout (Dropout)            (None, 1, 1, 1024)        0         \n",
            "_________________________________________________________________\n",
            "conv_preds (Conv2D)          (None, 1, 1, 1000)        1025000   \n",
            "_________________________________________________________________\n",
            "reshape_2 (Reshape)          (None, 1000)              0         \n",
            "_________________________________________________________________\n",
            "act_softmax (Activation)     (None, 1000)              0         \n",
            "_________________________________________________________________\n",
            "dense_22 (Dense)             (None, 2)                 2002      \n",
            "=================================================================\n",
            "Total params: 4,255,866\n",
            "Trainable params: 4,233,978\n",
            "Non-trainable params: 21,888\n",
            "_________________________________________________________________\n"
          ],
          "name": "stdout"
        }
      ]
    },
    {
      "cell_type": "code",
      "metadata": {
        "colab_type": "code",
        "id": "0ysWQuijAXn_",
        "colab": {}
      },
      "source": [
        "import tensorflow as tf\n",
        "model2.compile(optimizer=Adam(lr=1e-4),loss='categorical_crossentropy',metrics=['accuracy'])"
      ],
      "execution_count": 0,
      "outputs": []
    },
    {
      "cell_type": "code",
      "metadata": {
        "colab_type": "code",
        "outputId": "6bc037f4-f296-4049-f88d-72a03a8e0afc",
        "id": "OBlvCfpnAXoC",
        "colab": {
          "base_uri": "https://localhost:8080/",
          "height": 714
        }
      },
      "source": [
        "#model.fit_generator(X_train,y_train,epochs=30,verbose=1,validation_data=(X_valid, y_valid))\n",
        "hist = model2.fit(X_train, y_train, batch_size=32, epochs=20, verbose=1, validation_data=(X_valid, y_valid))"
      ],
      "execution_count": 0,
      "outputs": [
        {
          "output_type": "stream",
          "text": [
            "Train on 33128 samples, validate on 3680 samples\n",
            "Epoch 1/20\n",
            "33128/33128 [==============================] - 187s 6ms/step - loss: 0.6657 - acc: 0.7364 - val_loss: 0.6510 - val_acc: 0.7473\n",
            "Epoch 2/20\n",
            "33128/33128 [==============================] - 178s 5ms/step - loss: 0.6336 - acc: 0.7669 - val_loss: 0.6201 - val_acc: 0.7764\n",
            "Epoch 3/20\n",
            "33128/33128 [==============================] - 177s 5ms/step - loss: 0.6111 - acc: 0.7681 - val_loss: 0.6140 - val_acc: 0.7462\n",
            "Epoch 4/20\n",
            "33128/33128 [==============================] - 177s 5ms/step - loss: 0.5856 - acc: 0.7892 - val_loss: 0.5918 - val_acc: 0.7508\n",
            "Epoch 5/20\n",
            "33128/33128 [==============================] - 176s 5ms/step - loss: 0.5681 - acc: 0.7911 - val_loss: 0.5696 - val_acc: 0.7755\n",
            "Epoch 6/20\n",
            "33128/33128 [==============================] - 176s 5ms/step - loss: 0.5468 - acc: 0.8013 - val_loss: 0.5526 - val_acc: 0.7848\n",
            "Epoch 7/20\n",
            "33128/33128 [==============================] - 176s 5ms/step - loss: 0.5238 - acc: 0.8129 - val_loss: 0.5413 - val_acc: 0.7804\n",
            "Epoch 8/20\n",
            "33128/33128 [==============================] - 177s 5ms/step - loss: 0.4987 - acc: 0.8256 - val_loss: 0.5214 - val_acc: 0.7921\n",
            "Epoch 9/20\n",
            "33128/33128 [==============================] - 177s 5ms/step - loss: 0.4780 - acc: 0.8337 - val_loss: 0.5152 - val_acc: 0.7880\n",
            "Epoch 10/20\n",
            "33128/33128 [==============================] - 176s 5ms/step - loss: 0.4592 - acc: 0.8429 - val_loss: 0.4934 - val_acc: 0.8060\n",
            "Epoch 11/20\n",
            "33128/33128 [==============================] - 177s 5ms/step - loss: 0.4335 - acc: 0.8545 - val_loss: 0.4874 - val_acc: 0.8076\n",
            "Epoch 12/20\n",
            "33128/33128 [==============================] - 176s 5ms/step - loss: 0.4100 - acc: 0.8647 - val_loss: 0.4863 - val_acc: 0.7984\n",
            "Epoch 13/20\n",
            "33128/33128 [==============================] - 176s 5ms/step - loss: 0.3839 - acc: 0.8771 - val_loss: 0.4833 - val_acc: 0.8076\n",
            "Epoch 14/20\n",
            "33128/33128 [==============================] - 176s 5ms/step - loss: 0.3587 - acc: 0.8889 - val_loss: 0.4869 - val_acc: 0.7970\n",
            "Epoch 15/20\n",
            "33128/33128 [==============================] - 176s 5ms/step - loss: 0.3397 - acc: 0.8954 - val_loss: 0.4686 - val_acc: 0.8082\n",
            "Epoch 16/20\n",
            "33128/33128 [==============================] - 176s 5ms/step - loss: 0.3129 - acc: 0.9087 - val_loss: 0.5085 - val_acc: 0.7829\n",
            "Epoch 17/20\n",
            "33128/33128 [==============================] - 176s 5ms/step - loss: 0.2953 - acc: 0.9154 - val_loss: 0.4888 - val_acc: 0.8011\n",
            "Epoch 18/20\n",
            "33128/33128 [==============================] - 176s 5ms/step - loss: 0.2785 - acc: 0.9208 - val_loss: 0.5027 - val_acc: 0.7918\n",
            "Epoch 19/20\n",
            "33128/33128 [==============================] - 176s 5ms/step - loss: 0.2627 - acc: 0.9270 - val_loss: 0.4939 - val_acc: 0.8054\n",
            "Epoch 20/20\n",
            "33128/33128 [==============================] - 176s 5ms/step - loss: 0.2451 - acc: 0.9341 - val_loss: 0.5228 - val_acc: 0.7918\n"
          ],
          "name": "stdout"
        }
      ]
    },
    {
      "cell_type": "code",
      "metadata": {
        "colab_type": "code",
        "outputId": "46afcdc6-4b98-4f78-ad94-688634936e65",
        "id": "DhjyDlAzAXoF",
        "colab": {
          "base_uri": "https://localhost:8080/",
          "height": 102
        }
      },
      "source": [
        "(loss, accuracy) = model2.evaluate(X_test, y_test, batch_size=10, verbose=1)\n",
        "print(\"loss\")\n",
        "print(loss)\n",
        "print(\"accuracy\")\n",
        "print(accuracy)"
      ],
      "execution_count": 0,
      "outputs": [
        {
          "output_type": "stream",
          "text": [
            "3197/3197 [==============================] - 5s 1ms/step\n",
            "loss\n",
            "0.5212937284157282\n",
            "accuracy\n",
            "0.7882389724907146\n"
          ],
          "name": "stdout"
        }
      ]
    },
    {
      "cell_type": "code",
      "metadata": {
        "colab_type": "code",
        "id": "4JynbJ4IAXoJ",
        "colab": {}
      },
      "source": [
        "predictionList = model2.predict(X_test)\n"
      ],
      "execution_count": 0,
      "outputs": []
    },
    {
      "cell_type": "code",
      "metadata": {
        "colab_type": "code",
        "id": "6FUYFgT7AXoM",
        "colab": {}
      },
      "source": [
        "studyResult = list()\n",
        "temp0 = 0 \n",
        "temp1 = 0\n",
        "j = 0 \n",
        "for i in range(len(testLabelDF)):\n",
        "    while P_test[i] == P_testImage[j] and S_test[i] == S_testImage[j] and j < 3196:\n",
        "      temp0 = temp0 + predictionList[j,0]\n",
        "      temp1 = temp1 + predictionList[j,1]\n",
        "      j = j+1\n",
        "    if temp0 > temp1:\n",
        "      studyResult.append(0)\n",
        "    else:\n",
        "      studyResult.append(1)\n",
        "    temp0 = 0 \n",
        "    temp1 = 0\n"
      ],
      "execution_count": 0,
      "outputs": []
    },
    {
      "cell_type": "code",
      "metadata": {
        "colab_type": "code",
        "outputId": "0bc1638b-de5b-4cd9-d17d-7c3ec78ef584",
        "id": "fivcxa_GAXoQ",
        "colab": {
          "base_uri": "https://localhost:8080/",
          "height": 833
        }
      },
      "source": [
        "from sklearn.metrics import cohen_kappa_score\n",
        "from sklearn.metrics import accuracy_score\n",
        "print(\"overall\")\n",
        "print(\"accuracy\")\n",
        "print(accuracy_score(G_test, studyResult))\n",
        "print(\"kappa\")\n",
        "print(cohen_kappa_score(G_test, studyResult, labels=None, weights=None, sample_weight=None))\n",
        "print(\"----------------------------------------------------------------------------------------------------------------------------------------\")\n",
        "import pandas as pd \n",
        "df = pd.DataFrame(B_test, columns = ['Bone']) \n",
        "df[\"studyResult\"] = studyResult\n",
        "df[\"G_test\"] = G_test\n",
        "\n",
        "elbow = df.loc[df['Bone'] == 'XR_ELBOW'][['studyResult']]\n",
        "elbowG = df.loc[df['Bone'] == 'XR_ELBOW'][['G_test']]\n",
        "print(\"elbow\")\n",
        "print(\"accuracy\")\n",
        "print(accuracy_score(elbowG.values, elbow.values))\n",
        "print(\"kappa\")\n",
        "print(cohen_kappa_score(elbowG.values, elbow.values, labels=None, weights=None, sample_weight=None))\n",
        "print(\"----------------------------------------------------------------------------------------------------------------------------------------\")\n",
        "finger = df.loc[df['Bone'] == 'XR_FINGER'][['studyResult']]\n",
        "fingerG =  df.loc[df['Bone'] == 'XR_FINGER'][['G_test']]\n",
        "print(\"finger\")\n",
        "print(\"accuracy\")\n",
        "print(accuracy_score(fingerG.values, finger.values))\n",
        "print(\"kappa\")\n",
        "print(cohen_kappa_score(fingerG.values, finger.values, labels=None, weights=None, sample_weight=None))\n",
        "print(\"----------------------------------------------------------------------------------------------------------------------------------------\")\n",
        "forearm = df.loc[df['Bone'] == 'XR_FOREARM'][['studyResult']]\n",
        "forearmG = df.loc[df['Bone'] == 'XR_FOREARM'][['G_test']]\n",
        "print(\"forearm\")\n",
        "print(\"accuracy\")\n",
        "print(accuracy_score(forearmG.values, forearm.values))\n",
        "print(\"kappa\")\n",
        "print(cohen_kappa_score(forearmG.values, forearm.values, labels=None, weights=None, sample_weight=None))\n",
        "print(\"----------------------------------------------------------------------------------------------------------------------------------------\")\n",
        "hand = df.loc[df['Bone'] == 'XR_HAND'][['studyResult']]\n",
        "handG = df.loc[df['Bone'] == 'XR_HAND'][['G_test']]\n",
        "print(\"hand\")\n",
        "print(\"accuracy\")\n",
        "print(accuracy_score(handG.values, hand.values))\n",
        "print(\"kappa\")\n",
        "print(cohen_kappa_score(handG.values, hand.values, labels=None, weights=None, sample_weight=None))\n",
        "print(\"----------------------------------------------------------------------------------------------------------------------------------------\")\n",
        "humerus = df.loc[df['Bone'] == 'XR_HUMERUS'][['studyResult']]\n",
        "humerusG = df.loc[df['Bone'] == 'XR_HUMERUS'][['G_test']]\n",
        "print(\"humerus\")\n",
        "print(\"accuracy\")\n",
        "print(accuracy_score(humerusG.values, humerus.values))\n",
        "print(\"kappa\")\n",
        "print(cohen_kappa_score(humerusG.values, humerus.values, labels=None, weights=None, sample_weight=None))\n",
        "print(\"----------------------------------------------------------------------------------------------------------------------------------------\")\n",
        "shoulder = df.loc[df['Bone'] == 'XR_SHOULDER'][['studyResult']]\n",
        "shoulderG = df.loc[df['Bone'] == 'XR_SHOULDER'][['G_test']]\n",
        "print(\"shoulder\")\n",
        "print(\"accuracy\")\n",
        "print(accuracy_score(shoulderG.values, shoulder.values))\n",
        "print(\"kappa\")\n",
        "print(cohen_kappa_score(shoulderG.values, shoulder.values, labels=None, weights=None, sample_weight=None))\n",
        "print(\"----------------------------------------------------------------------------------------------------------------------------------------\")\n",
        "wrist = df.loc[df['Bone'] == 'XR_SHOULDER'][['studyResult']]\n",
        "wristG = df.loc[df['Bone'] == 'XR_SHOULDER'][['G_test']]\n",
        "print(\"wrist\")\n",
        "print(\"accuracy\")\n",
        "print(accuracy_score(wristG.values, wrist.values))\n",
        "print(\"kappa\")\n",
        "print(cohen_kappa_score(wristG.values, wrist.values, labels=None, weights=None, sample_weight=None))\n",
        "print(\"----------------------------------------------------------------------------------------------------------------------------------------\")"
      ],
      "execution_count": 0,
      "outputs": [
        {
          "output_type": "stream",
          "text": [
            "overall\n",
            "accuracy\n",
            "0.8115095913261051\n",
            "kappa\n",
            "0.6175546554133206\n",
            "----------------------------------------------------------------------------------------------------------------------------------------\n",
            "elbow\n",
            "accuracy\n",
            "0.8481012658227848\n",
            "kappa\n",
            "0.6877470355731226\n",
            "----------------------------------------------------------------------------------------------------------------------------------------\n",
            "finger\n",
            "accuracy\n",
            "0.8171428571428572\n",
            "kappa\n",
            "0.6324494618009977\n",
            "----------------------------------------------------------------------------------------------------------------------------------------\n",
            "forearm\n",
            "accuracy\n",
            "0.8345864661654135\n",
            "kappa\n",
            "0.666438668490652\n",
            "----------------------------------------------------------------------------------------------------------------------------------------\n",
            "hand\n",
            "accuracy\n",
            "0.7544910179640718\n",
            "kappa\n",
            "0.46243228389730706\n",
            "----------------------------------------------------------------------------------------------------------------------------------------\n",
            "humerus\n",
            "accuracy\n",
            "0.8296296296296296\n",
            "kappa\n",
            "0.6595768007893871\n",
            "----------------------------------------------------------------------------------------------------------------------------------------\n",
            "shoulder\n",
            "accuracy\n",
            "0.7783505154639175\n",
            "kappa\n",
            "0.5573596519155259\n",
            "----------------------------------------------------------------------------------------------------------------------------------------\n",
            "wrist\n",
            "accuracy\n",
            "0.7783505154639175\n",
            "kappa\n",
            "0.5573596519155259\n",
            "----------------------------------------------------------------------------------------------------------------------------------------\n"
          ],
          "name": "stdout"
        }
      ]
    },
    {
      "cell_type": "code",
      "metadata": {
        "id": "rLWMo-Iv-ceu",
        "colab_type": "code",
        "colab": {}
      },
      "source": [
        "\n",
        "mobile=keras.applications.mobilenet.MobileNet(include_top=False,input_shape=(224,224,3))\n"
      ],
      "execution_count": 0,
      "outputs": []
    },
    {
      "cell_type": "code",
      "metadata": {
        "id": "bZu3wjiG-8O8",
        "colab_type": "code",
        "outputId": "f6e76d19-5ee3-4075-e642-7d60ddcad0c3",
        "colab": {
          "base_uri": "https://localhost:8080/",
          "height": 1000
        }
      },
      "source": [
        "mobile.summary()"
      ],
      "execution_count": 0,
      "outputs": [
        {
          "output_type": "stream",
          "text": [
            "Model: \"mobilenet_1.00_224\"\n",
            "_________________________________________________________________\n",
            "Layer (type)                 Output Shape              Param #   \n",
            "=================================================================\n",
            "input_7 (InputLayer)         (None, 224, 224, 3)       0         \n",
            "_________________________________________________________________\n",
            "conv1_pad (ZeroPadding2D)    (None, 225, 225, 3)       0         \n",
            "_________________________________________________________________\n",
            "conv1 (Conv2D)               (None, 112, 112, 32)      864       \n",
            "_________________________________________________________________\n",
            "conv1_bn (BatchNormalization (None, 112, 112, 32)      128       \n",
            "_________________________________________________________________\n",
            "conv1_relu (ReLU)            (None, 112, 112, 32)      0         \n",
            "_________________________________________________________________\n",
            "conv_dw_1 (DepthwiseConv2D)  (None, 112, 112, 32)      288       \n",
            "_________________________________________________________________\n",
            "conv_dw_1_bn (BatchNormaliza (None, 112, 112, 32)      128       \n",
            "_________________________________________________________________\n",
            "conv_dw_1_relu (ReLU)        (None, 112, 112, 32)      0         \n",
            "_________________________________________________________________\n",
            "conv_pw_1 (Conv2D)           (None, 112, 112, 64)      2048      \n",
            "_________________________________________________________________\n",
            "conv_pw_1_bn (BatchNormaliza (None, 112, 112, 64)      256       \n",
            "_________________________________________________________________\n",
            "conv_pw_1_relu (ReLU)        (None, 112, 112, 64)      0         \n",
            "_________________________________________________________________\n",
            "conv_pad_2 (ZeroPadding2D)   (None, 113, 113, 64)      0         \n",
            "_________________________________________________________________\n",
            "conv_dw_2 (DepthwiseConv2D)  (None, 56, 56, 64)        576       \n",
            "_________________________________________________________________\n",
            "conv_dw_2_bn (BatchNormaliza (None, 56, 56, 64)        256       \n",
            "_________________________________________________________________\n",
            "conv_dw_2_relu (ReLU)        (None, 56, 56, 64)        0         \n",
            "_________________________________________________________________\n",
            "conv_pw_2 (Conv2D)           (None, 56, 56, 128)       8192      \n",
            "_________________________________________________________________\n",
            "conv_pw_2_bn (BatchNormaliza (None, 56, 56, 128)       512       \n",
            "_________________________________________________________________\n",
            "conv_pw_2_relu (ReLU)        (None, 56, 56, 128)       0         \n",
            "_________________________________________________________________\n",
            "conv_dw_3 (DepthwiseConv2D)  (None, 56, 56, 128)       1152      \n",
            "_________________________________________________________________\n",
            "conv_dw_3_bn (BatchNormaliza (None, 56, 56, 128)       512       \n",
            "_________________________________________________________________\n",
            "conv_dw_3_relu (ReLU)        (None, 56, 56, 128)       0         \n",
            "_________________________________________________________________\n",
            "conv_pw_3 (Conv2D)           (None, 56, 56, 128)       16384     \n",
            "_________________________________________________________________\n",
            "conv_pw_3_bn (BatchNormaliza (None, 56, 56, 128)       512       \n",
            "_________________________________________________________________\n",
            "conv_pw_3_relu (ReLU)        (None, 56, 56, 128)       0         \n",
            "_________________________________________________________________\n",
            "conv_pad_4 (ZeroPadding2D)   (None, 57, 57, 128)       0         \n",
            "_________________________________________________________________\n",
            "conv_dw_4 (DepthwiseConv2D)  (None, 28, 28, 128)       1152      \n",
            "_________________________________________________________________\n",
            "conv_dw_4_bn (BatchNormaliza (None, 28, 28, 128)       512       \n",
            "_________________________________________________________________\n",
            "conv_dw_4_relu (ReLU)        (None, 28, 28, 128)       0         \n",
            "_________________________________________________________________\n",
            "conv_pw_4 (Conv2D)           (None, 28, 28, 256)       32768     \n",
            "_________________________________________________________________\n",
            "conv_pw_4_bn (BatchNormaliza (None, 28, 28, 256)       1024      \n",
            "_________________________________________________________________\n",
            "conv_pw_4_relu (ReLU)        (None, 28, 28, 256)       0         \n",
            "_________________________________________________________________\n",
            "conv_dw_5 (DepthwiseConv2D)  (None, 28, 28, 256)       2304      \n",
            "_________________________________________________________________\n",
            "conv_dw_5_bn (BatchNormaliza (None, 28, 28, 256)       1024      \n",
            "_________________________________________________________________\n",
            "conv_dw_5_relu (ReLU)        (None, 28, 28, 256)       0         \n",
            "_________________________________________________________________\n",
            "conv_pw_5 (Conv2D)           (None, 28, 28, 256)       65536     \n",
            "_________________________________________________________________\n",
            "conv_pw_5_bn (BatchNormaliza (None, 28, 28, 256)       1024      \n",
            "_________________________________________________________________\n",
            "conv_pw_5_relu (ReLU)        (None, 28, 28, 256)       0         \n",
            "_________________________________________________________________\n",
            "conv_pad_6 (ZeroPadding2D)   (None, 29, 29, 256)       0         \n",
            "_________________________________________________________________\n",
            "conv_dw_6 (DepthwiseConv2D)  (None, 14, 14, 256)       2304      \n",
            "_________________________________________________________________\n",
            "conv_dw_6_bn (BatchNormaliza (None, 14, 14, 256)       1024      \n",
            "_________________________________________________________________\n",
            "conv_dw_6_relu (ReLU)        (None, 14, 14, 256)       0         \n",
            "_________________________________________________________________\n",
            "conv_pw_6 (Conv2D)           (None, 14, 14, 512)       131072    \n",
            "_________________________________________________________________\n",
            "conv_pw_6_bn (BatchNormaliza (None, 14, 14, 512)       2048      \n",
            "_________________________________________________________________\n",
            "conv_pw_6_relu (ReLU)        (None, 14, 14, 512)       0         \n",
            "_________________________________________________________________\n",
            "conv_dw_7 (DepthwiseConv2D)  (None, 14, 14, 512)       4608      \n",
            "_________________________________________________________________\n",
            "conv_dw_7_bn (BatchNormaliza (None, 14, 14, 512)       2048      \n",
            "_________________________________________________________________\n",
            "conv_dw_7_relu (ReLU)        (None, 14, 14, 512)       0         \n",
            "_________________________________________________________________\n",
            "conv_pw_7 (Conv2D)           (None, 14, 14, 512)       262144    \n",
            "_________________________________________________________________\n",
            "conv_pw_7_bn (BatchNormaliza (None, 14, 14, 512)       2048      \n",
            "_________________________________________________________________\n",
            "conv_pw_7_relu (ReLU)        (None, 14, 14, 512)       0         \n",
            "_________________________________________________________________\n",
            "conv_dw_8 (DepthwiseConv2D)  (None, 14, 14, 512)       4608      \n",
            "_________________________________________________________________\n",
            "conv_dw_8_bn (BatchNormaliza (None, 14, 14, 512)       2048      \n",
            "_________________________________________________________________\n",
            "conv_dw_8_relu (ReLU)        (None, 14, 14, 512)       0         \n",
            "_________________________________________________________________\n",
            "conv_pw_8 (Conv2D)           (None, 14, 14, 512)       262144    \n",
            "_________________________________________________________________\n",
            "conv_pw_8_bn (BatchNormaliza (None, 14, 14, 512)       2048      \n",
            "_________________________________________________________________\n",
            "conv_pw_8_relu (ReLU)        (None, 14, 14, 512)       0         \n",
            "_________________________________________________________________\n",
            "conv_dw_9 (DepthwiseConv2D)  (None, 14, 14, 512)       4608      \n",
            "_________________________________________________________________\n",
            "conv_dw_9_bn (BatchNormaliza (None, 14, 14, 512)       2048      \n",
            "_________________________________________________________________\n",
            "conv_dw_9_relu (ReLU)        (None, 14, 14, 512)       0         \n",
            "_________________________________________________________________\n",
            "conv_pw_9 (Conv2D)           (None, 14, 14, 512)       262144    \n",
            "_________________________________________________________________\n",
            "conv_pw_9_bn (BatchNormaliza (None, 14, 14, 512)       2048      \n",
            "_________________________________________________________________\n",
            "conv_pw_9_relu (ReLU)        (None, 14, 14, 512)       0         \n",
            "_________________________________________________________________\n",
            "conv_dw_10 (DepthwiseConv2D) (None, 14, 14, 512)       4608      \n",
            "_________________________________________________________________\n",
            "conv_dw_10_bn (BatchNormaliz (None, 14, 14, 512)       2048      \n",
            "_________________________________________________________________\n",
            "conv_dw_10_relu (ReLU)       (None, 14, 14, 512)       0         \n",
            "_________________________________________________________________\n",
            "conv_pw_10 (Conv2D)          (None, 14, 14, 512)       262144    \n",
            "_________________________________________________________________\n",
            "conv_pw_10_bn (BatchNormaliz (None, 14, 14, 512)       2048      \n",
            "_________________________________________________________________\n",
            "conv_pw_10_relu (ReLU)       (None, 14, 14, 512)       0         \n",
            "_________________________________________________________________\n",
            "conv_dw_11 (DepthwiseConv2D) (None, 14, 14, 512)       4608      \n",
            "_________________________________________________________________\n",
            "conv_dw_11_bn (BatchNormaliz (None, 14, 14, 512)       2048      \n",
            "_________________________________________________________________\n",
            "conv_dw_11_relu (ReLU)       (None, 14, 14, 512)       0         \n",
            "_________________________________________________________________\n",
            "conv_pw_11 (Conv2D)          (None, 14, 14, 512)       262144    \n",
            "_________________________________________________________________\n",
            "conv_pw_11_bn (BatchNormaliz (None, 14, 14, 512)       2048      \n",
            "_________________________________________________________________\n",
            "conv_pw_11_relu (ReLU)       (None, 14, 14, 512)       0         \n",
            "_________________________________________________________________\n",
            "conv_pad_12 (ZeroPadding2D)  (None, 15, 15, 512)       0         \n",
            "_________________________________________________________________\n",
            "conv_dw_12 (DepthwiseConv2D) (None, 7, 7, 512)         4608      \n",
            "_________________________________________________________________\n",
            "conv_dw_12_bn (BatchNormaliz (None, 7, 7, 512)         2048      \n",
            "_________________________________________________________________\n",
            "conv_dw_12_relu (ReLU)       (None, 7, 7, 512)         0         \n",
            "_________________________________________________________________\n",
            "conv_pw_12 (Conv2D)          (None, 7, 7, 1024)        524288    \n",
            "_________________________________________________________________\n",
            "conv_pw_12_bn (BatchNormaliz (None, 7, 7, 1024)        4096      \n",
            "_________________________________________________________________\n",
            "conv_pw_12_relu (ReLU)       (None, 7, 7, 1024)        0         \n",
            "_________________________________________________________________\n",
            "conv_dw_13 (DepthwiseConv2D) (None, 7, 7, 1024)        9216      \n",
            "_________________________________________________________________\n",
            "conv_dw_13_bn (BatchNormaliz (None, 7, 7, 1024)        4096      \n",
            "_________________________________________________________________\n",
            "conv_dw_13_relu (ReLU)       (None, 7, 7, 1024)        0         \n",
            "_________________________________________________________________\n",
            "conv_pw_13 (Conv2D)          (None, 7, 7, 1024)        1048576   \n",
            "_________________________________________________________________\n",
            "conv_pw_13_bn (BatchNormaliz (None, 7, 7, 1024)        4096      \n",
            "_________________________________________________________________\n",
            "conv_pw_13_relu (ReLU)       (None, 7, 7, 1024)        0         \n",
            "=================================================================\n",
            "Total params: 3,228,864\n",
            "Trainable params: 3,206,976\n",
            "Non-trainable params: 21,888\n",
            "_________________________________________________________________\n"
          ],
          "name": "stdout"
        }
      ]
    },
    {
      "cell_type": "code",
      "metadata": {
        "id": "kurw0q9ED5NQ",
        "colab_type": "code",
        "colab": {}
      },
      "source": [
        "x=mobile.output\n",
        "x = GlobalAveragePooling2D()(x)\n",
        "x=Dense(512,activation='relu')(x)\n",
        "predictions=Dense(2,activation='sigmoid')(x)\n",
        "\n",
        "model=Model(inputs=mobile.input,outputs=predictions)\n",
        "\n"
      ],
      "execution_count": 0,
      "outputs": []
    },
    {
      "cell_type": "code",
      "metadata": {
        "id": "SEDGwN52EgTh",
        "colab_type": "code",
        "outputId": "9b001118-4d88-4084-cb55-96ed8e27673d",
        "colab": {
          "base_uri": "https://localhost:8080/",
          "height": 1000
        }
      },
      "source": [
        "model.summary()"
      ],
      "execution_count": 0,
      "outputs": [
        {
          "output_type": "stream",
          "text": [
            "Model: \"model_2\"\n",
            "_________________________________________________________________\n",
            "Layer (type)                 Output Shape              Param #   \n",
            "=================================================================\n",
            "input_7 (InputLayer)         (None, 224, 224, 3)       0         \n",
            "_________________________________________________________________\n",
            "conv1_pad (ZeroPadding2D)    (None, 225, 225, 3)       0         \n",
            "_________________________________________________________________\n",
            "conv1 (Conv2D)               (None, 112, 112, 32)      864       \n",
            "_________________________________________________________________\n",
            "conv1_bn (BatchNormalization (None, 112, 112, 32)      128       \n",
            "_________________________________________________________________\n",
            "conv1_relu (ReLU)            (None, 112, 112, 32)      0         \n",
            "_________________________________________________________________\n",
            "conv_dw_1 (DepthwiseConv2D)  (None, 112, 112, 32)      288       \n",
            "_________________________________________________________________\n",
            "conv_dw_1_bn (BatchNormaliza (None, 112, 112, 32)      128       \n",
            "_________________________________________________________________\n",
            "conv_dw_1_relu (ReLU)        (None, 112, 112, 32)      0         \n",
            "_________________________________________________________________\n",
            "conv_pw_1 (Conv2D)           (None, 112, 112, 64)      2048      \n",
            "_________________________________________________________________\n",
            "conv_pw_1_bn (BatchNormaliza (None, 112, 112, 64)      256       \n",
            "_________________________________________________________________\n",
            "conv_pw_1_relu (ReLU)        (None, 112, 112, 64)      0         \n",
            "_________________________________________________________________\n",
            "conv_pad_2 (ZeroPadding2D)   (None, 113, 113, 64)      0         \n",
            "_________________________________________________________________\n",
            "conv_dw_2 (DepthwiseConv2D)  (None, 56, 56, 64)        576       \n",
            "_________________________________________________________________\n",
            "conv_dw_2_bn (BatchNormaliza (None, 56, 56, 64)        256       \n",
            "_________________________________________________________________\n",
            "conv_dw_2_relu (ReLU)        (None, 56, 56, 64)        0         \n",
            "_________________________________________________________________\n",
            "conv_pw_2 (Conv2D)           (None, 56, 56, 128)       8192      \n",
            "_________________________________________________________________\n",
            "conv_pw_2_bn (BatchNormaliza (None, 56, 56, 128)       512       \n",
            "_________________________________________________________________\n",
            "conv_pw_2_relu (ReLU)        (None, 56, 56, 128)       0         \n",
            "_________________________________________________________________\n",
            "conv_dw_3 (DepthwiseConv2D)  (None, 56, 56, 128)       1152      \n",
            "_________________________________________________________________\n",
            "conv_dw_3_bn (BatchNormaliza (None, 56, 56, 128)       512       \n",
            "_________________________________________________________________\n",
            "conv_dw_3_relu (ReLU)        (None, 56, 56, 128)       0         \n",
            "_________________________________________________________________\n",
            "conv_pw_3 (Conv2D)           (None, 56, 56, 128)       16384     \n",
            "_________________________________________________________________\n",
            "conv_pw_3_bn (BatchNormaliza (None, 56, 56, 128)       512       \n",
            "_________________________________________________________________\n",
            "conv_pw_3_relu (ReLU)        (None, 56, 56, 128)       0         \n",
            "_________________________________________________________________\n",
            "conv_pad_4 (ZeroPadding2D)   (None, 57, 57, 128)       0         \n",
            "_________________________________________________________________\n",
            "conv_dw_4 (DepthwiseConv2D)  (None, 28, 28, 128)       1152      \n",
            "_________________________________________________________________\n",
            "conv_dw_4_bn (BatchNormaliza (None, 28, 28, 128)       512       \n",
            "_________________________________________________________________\n",
            "conv_dw_4_relu (ReLU)        (None, 28, 28, 128)       0         \n",
            "_________________________________________________________________\n",
            "conv_pw_4 (Conv2D)           (None, 28, 28, 256)       32768     \n",
            "_________________________________________________________________\n",
            "conv_pw_4_bn (BatchNormaliza (None, 28, 28, 256)       1024      \n",
            "_________________________________________________________________\n",
            "conv_pw_4_relu (ReLU)        (None, 28, 28, 256)       0         \n",
            "_________________________________________________________________\n",
            "conv_dw_5 (DepthwiseConv2D)  (None, 28, 28, 256)       2304      \n",
            "_________________________________________________________________\n",
            "conv_dw_5_bn (BatchNormaliza (None, 28, 28, 256)       1024      \n",
            "_________________________________________________________________\n",
            "conv_dw_5_relu (ReLU)        (None, 28, 28, 256)       0         \n",
            "_________________________________________________________________\n",
            "conv_pw_5 (Conv2D)           (None, 28, 28, 256)       65536     \n",
            "_________________________________________________________________\n",
            "conv_pw_5_bn (BatchNormaliza (None, 28, 28, 256)       1024      \n",
            "_________________________________________________________________\n",
            "conv_pw_5_relu (ReLU)        (None, 28, 28, 256)       0         \n",
            "_________________________________________________________________\n",
            "conv_pad_6 (ZeroPadding2D)   (None, 29, 29, 256)       0         \n",
            "_________________________________________________________________\n",
            "conv_dw_6 (DepthwiseConv2D)  (None, 14, 14, 256)       2304      \n",
            "_________________________________________________________________\n",
            "conv_dw_6_bn (BatchNormaliza (None, 14, 14, 256)       1024      \n",
            "_________________________________________________________________\n",
            "conv_dw_6_relu (ReLU)        (None, 14, 14, 256)       0         \n",
            "_________________________________________________________________\n",
            "conv_pw_6 (Conv2D)           (None, 14, 14, 512)       131072    \n",
            "_________________________________________________________________\n",
            "conv_pw_6_bn (BatchNormaliza (None, 14, 14, 512)       2048      \n",
            "_________________________________________________________________\n",
            "conv_pw_6_relu (ReLU)        (None, 14, 14, 512)       0         \n",
            "_________________________________________________________________\n",
            "conv_dw_7 (DepthwiseConv2D)  (None, 14, 14, 512)       4608      \n",
            "_________________________________________________________________\n",
            "conv_dw_7_bn (BatchNormaliza (None, 14, 14, 512)       2048      \n",
            "_________________________________________________________________\n",
            "conv_dw_7_relu (ReLU)        (None, 14, 14, 512)       0         \n",
            "_________________________________________________________________\n",
            "conv_pw_7 (Conv2D)           (None, 14, 14, 512)       262144    \n",
            "_________________________________________________________________\n",
            "conv_pw_7_bn (BatchNormaliza (None, 14, 14, 512)       2048      \n",
            "_________________________________________________________________\n",
            "conv_pw_7_relu (ReLU)        (None, 14, 14, 512)       0         \n",
            "_________________________________________________________________\n",
            "conv_dw_8 (DepthwiseConv2D)  (None, 14, 14, 512)       4608      \n",
            "_________________________________________________________________\n",
            "conv_dw_8_bn (BatchNormaliza (None, 14, 14, 512)       2048      \n",
            "_________________________________________________________________\n",
            "conv_dw_8_relu (ReLU)        (None, 14, 14, 512)       0         \n",
            "_________________________________________________________________\n",
            "conv_pw_8 (Conv2D)           (None, 14, 14, 512)       262144    \n",
            "_________________________________________________________________\n",
            "conv_pw_8_bn (BatchNormaliza (None, 14, 14, 512)       2048      \n",
            "_________________________________________________________________\n",
            "conv_pw_8_relu (ReLU)        (None, 14, 14, 512)       0         \n",
            "_________________________________________________________________\n",
            "conv_dw_9 (DepthwiseConv2D)  (None, 14, 14, 512)       4608      \n",
            "_________________________________________________________________\n",
            "conv_dw_9_bn (BatchNormaliza (None, 14, 14, 512)       2048      \n",
            "_________________________________________________________________\n",
            "conv_dw_9_relu (ReLU)        (None, 14, 14, 512)       0         \n",
            "_________________________________________________________________\n",
            "conv_pw_9 (Conv2D)           (None, 14, 14, 512)       262144    \n",
            "_________________________________________________________________\n",
            "conv_pw_9_bn (BatchNormaliza (None, 14, 14, 512)       2048      \n",
            "_________________________________________________________________\n",
            "conv_pw_9_relu (ReLU)        (None, 14, 14, 512)       0         \n",
            "_________________________________________________________________\n",
            "conv_dw_10 (DepthwiseConv2D) (None, 14, 14, 512)       4608      \n",
            "_________________________________________________________________\n",
            "conv_dw_10_bn (BatchNormaliz (None, 14, 14, 512)       2048      \n",
            "_________________________________________________________________\n",
            "conv_dw_10_relu (ReLU)       (None, 14, 14, 512)       0         \n",
            "_________________________________________________________________\n",
            "conv_pw_10 (Conv2D)          (None, 14, 14, 512)       262144    \n",
            "_________________________________________________________________\n",
            "conv_pw_10_bn (BatchNormaliz (None, 14, 14, 512)       2048      \n",
            "_________________________________________________________________\n",
            "conv_pw_10_relu (ReLU)       (None, 14, 14, 512)       0         \n",
            "_________________________________________________________________\n",
            "conv_dw_11 (DepthwiseConv2D) (None, 14, 14, 512)       4608      \n",
            "_________________________________________________________________\n",
            "conv_dw_11_bn (BatchNormaliz (None, 14, 14, 512)       2048      \n",
            "_________________________________________________________________\n",
            "conv_dw_11_relu (ReLU)       (None, 14, 14, 512)       0         \n",
            "_________________________________________________________________\n",
            "conv_pw_11 (Conv2D)          (None, 14, 14, 512)       262144    \n",
            "_________________________________________________________________\n",
            "conv_pw_11_bn (BatchNormaliz (None, 14, 14, 512)       2048      \n",
            "_________________________________________________________________\n",
            "conv_pw_11_relu (ReLU)       (None, 14, 14, 512)       0         \n",
            "_________________________________________________________________\n",
            "conv_pad_12 (ZeroPadding2D)  (None, 15, 15, 512)       0         \n",
            "_________________________________________________________________\n",
            "conv_dw_12 (DepthwiseConv2D) (None, 7, 7, 512)         4608      \n",
            "_________________________________________________________________\n",
            "conv_dw_12_bn (BatchNormaliz (None, 7, 7, 512)         2048      \n",
            "_________________________________________________________________\n",
            "conv_dw_12_relu (ReLU)       (None, 7, 7, 512)         0         \n",
            "_________________________________________________________________\n",
            "conv_pw_12 (Conv2D)          (None, 7, 7, 1024)        524288    \n",
            "_________________________________________________________________\n",
            "conv_pw_12_bn (BatchNormaliz (None, 7, 7, 1024)        4096      \n",
            "_________________________________________________________________\n",
            "conv_pw_12_relu (ReLU)       (None, 7, 7, 1024)        0         \n",
            "_________________________________________________________________\n",
            "conv_dw_13 (DepthwiseConv2D) (None, 7, 7, 1024)        9216      \n",
            "_________________________________________________________________\n",
            "conv_dw_13_bn (BatchNormaliz (None, 7, 7, 1024)        4096      \n",
            "_________________________________________________________________\n",
            "conv_dw_13_relu (ReLU)       (None, 7, 7, 1024)        0         \n",
            "_________________________________________________________________\n",
            "conv_pw_13 (Conv2D)          (None, 7, 7, 1024)        1048576   \n",
            "_________________________________________________________________\n",
            "conv_pw_13_bn (BatchNormaliz (None, 7, 7, 1024)        4096      \n",
            "_________________________________________________________________\n",
            "conv_pw_13_relu (ReLU)       (None, 7, 7, 1024)        0         \n",
            "_________________________________________________________________\n",
            "global_average_pooling2d_15  (None, 1024)              0         \n",
            "_________________________________________________________________\n",
            "dense_20 (Dense)             (None, 512)               524800    \n",
            "_________________________________________________________________\n",
            "dense_21 (Dense)             (None, 2)                 1026      \n",
            "=================================================================\n",
            "Total params: 3,754,690\n",
            "Trainable params: 3,732,802\n",
            "Non-trainable params: 21,888\n",
            "_________________________________________________________________\n"
          ],
          "name": "stdout"
        }
      ]
    },
    {
      "cell_type": "code",
      "metadata": {
        "id": "i9wu5Ip_FZm9",
        "colab_type": "code",
        "colab": {}
      },
      "source": [
        "\n",
        "for layer in model.layers:\n",
        "\n",
        "  layer.trainable=True\n"
      ],
      "execution_count": 0,
      "outputs": []
    },
    {
      "cell_type": "code",
      "metadata": {
        "id": "h57GEMg0GJph",
        "colab_type": "code",
        "outputId": "62c6725a-31eb-4660-b8f2-35b77adfecfd",
        "colab": {
          "base_uri": "https://localhost:8080/",
          "height": 1000
        }
      },
      "source": [
        "model.summary()"
      ],
      "execution_count": 0,
      "outputs": [
        {
          "output_type": "stream",
          "text": [
            "Model: \"model_1\"\n",
            "_________________________________________________________________\n",
            "Layer (type)                 Output Shape              Param #   \n",
            "=================================================================\n",
            "input_6 (InputLayer)         (None, 224, 224, 3)       0         \n",
            "_________________________________________________________________\n",
            "conv1_pad (ZeroPadding2D)    (None, 225, 225, 3)       0         \n",
            "_________________________________________________________________\n",
            "conv1 (Conv2D)               (None, 112, 112, 32)      864       \n",
            "_________________________________________________________________\n",
            "conv1_bn (BatchNormalization (None, 112, 112, 32)      128       \n",
            "_________________________________________________________________\n",
            "conv1_relu (ReLU)            (None, 112, 112, 32)      0         \n",
            "_________________________________________________________________\n",
            "conv_dw_1 (DepthwiseConv2D)  (None, 112, 112, 32)      288       \n",
            "_________________________________________________________________\n",
            "conv_dw_1_bn (BatchNormaliza (None, 112, 112, 32)      128       \n",
            "_________________________________________________________________\n",
            "conv_dw_1_relu (ReLU)        (None, 112, 112, 32)      0         \n",
            "_________________________________________________________________\n",
            "conv_pw_1 (Conv2D)           (None, 112, 112, 64)      2048      \n",
            "_________________________________________________________________\n",
            "conv_pw_1_bn (BatchNormaliza (None, 112, 112, 64)      256       \n",
            "_________________________________________________________________\n",
            "conv_pw_1_relu (ReLU)        (None, 112, 112, 64)      0         \n",
            "_________________________________________________________________\n",
            "conv_pad_2 (ZeroPadding2D)   (None, 113, 113, 64)      0         \n",
            "_________________________________________________________________\n",
            "conv_dw_2 (DepthwiseConv2D)  (None, 56, 56, 64)        576       \n",
            "_________________________________________________________________\n",
            "conv_dw_2_bn (BatchNormaliza (None, 56, 56, 64)        256       \n",
            "_________________________________________________________________\n",
            "conv_dw_2_relu (ReLU)        (None, 56, 56, 64)        0         \n",
            "_________________________________________________________________\n",
            "conv_pw_2 (Conv2D)           (None, 56, 56, 128)       8192      \n",
            "_________________________________________________________________\n",
            "conv_pw_2_bn (BatchNormaliza (None, 56, 56, 128)       512       \n",
            "_________________________________________________________________\n",
            "conv_pw_2_relu (ReLU)        (None, 56, 56, 128)       0         \n",
            "_________________________________________________________________\n",
            "conv_dw_3 (DepthwiseConv2D)  (None, 56, 56, 128)       1152      \n",
            "_________________________________________________________________\n",
            "conv_dw_3_bn (BatchNormaliza (None, 56, 56, 128)       512       \n",
            "_________________________________________________________________\n",
            "conv_dw_3_relu (ReLU)        (None, 56, 56, 128)       0         \n",
            "_________________________________________________________________\n",
            "conv_pw_3 (Conv2D)           (None, 56, 56, 128)       16384     \n",
            "_________________________________________________________________\n",
            "conv_pw_3_bn (BatchNormaliza (None, 56, 56, 128)       512       \n",
            "_________________________________________________________________\n",
            "conv_pw_3_relu (ReLU)        (None, 56, 56, 128)       0         \n",
            "_________________________________________________________________\n",
            "conv_pad_4 (ZeroPadding2D)   (None, 57, 57, 128)       0         \n",
            "_________________________________________________________________\n",
            "conv_dw_4 (DepthwiseConv2D)  (None, 28, 28, 128)       1152      \n",
            "_________________________________________________________________\n",
            "conv_dw_4_bn (BatchNormaliza (None, 28, 28, 128)       512       \n",
            "_________________________________________________________________\n",
            "conv_dw_4_relu (ReLU)        (None, 28, 28, 128)       0         \n",
            "_________________________________________________________________\n",
            "conv_pw_4 (Conv2D)           (None, 28, 28, 256)       32768     \n",
            "_________________________________________________________________\n",
            "conv_pw_4_bn (BatchNormaliza (None, 28, 28, 256)       1024      \n",
            "_________________________________________________________________\n",
            "conv_pw_4_relu (ReLU)        (None, 28, 28, 256)       0         \n",
            "_________________________________________________________________\n",
            "conv_dw_5 (DepthwiseConv2D)  (None, 28, 28, 256)       2304      \n",
            "_________________________________________________________________\n",
            "conv_dw_5_bn (BatchNormaliza (None, 28, 28, 256)       1024      \n",
            "_________________________________________________________________\n",
            "conv_dw_5_relu (ReLU)        (None, 28, 28, 256)       0         \n",
            "_________________________________________________________________\n",
            "conv_pw_5 (Conv2D)           (None, 28, 28, 256)       65536     \n",
            "_________________________________________________________________\n",
            "conv_pw_5_bn (BatchNormaliza (None, 28, 28, 256)       1024      \n",
            "_________________________________________________________________\n",
            "conv_pw_5_relu (ReLU)        (None, 28, 28, 256)       0         \n",
            "_________________________________________________________________\n",
            "conv_pad_6 (ZeroPadding2D)   (None, 29, 29, 256)       0         \n",
            "_________________________________________________________________\n",
            "conv_dw_6 (DepthwiseConv2D)  (None, 14, 14, 256)       2304      \n",
            "_________________________________________________________________\n",
            "conv_dw_6_bn (BatchNormaliza (None, 14, 14, 256)       1024      \n",
            "_________________________________________________________________\n",
            "conv_dw_6_relu (ReLU)        (None, 14, 14, 256)       0         \n",
            "_________________________________________________________________\n",
            "conv_pw_6 (Conv2D)           (None, 14, 14, 512)       131072    \n",
            "_________________________________________________________________\n",
            "conv_pw_6_bn (BatchNormaliza (None, 14, 14, 512)       2048      \n",
            "_________________________________________________________________\n",
            "conv_pw_6_relu (ReLU)        (None, 14, 14, 512)       0         \n",
            "_________________________________________________________________\n",
            "conv_dw_7 (DepthwiseConv2D)  (None, 14, 14, 512)       4608      \n",
            "_________________________________________________________________\n",
            "conv_dw_7_bn (BatchNormaliza (None, 14, 14, 512)       2048      \n",
            "_________________________________________________________________\n",
            "conv_dw_7_relu (ReLU)        (None, 14, 14, 512)       0         \n",
            "_________________________________________________________________\n",
            "conv_pw_7 (Conv2D)           (None, 14, 14, 512)       262144    \n",
            "_________________________________________________________________\n",
            "conv_pw_7_bn (BatchNormaliza (None, 14, 14, 512)       2048      \n",
            "_________________________________________________________________\n",
            "conv_pw_7_relu (ReLU)        (None, 14, 14, 512)       0         \n",
            "_________________________________________________________________\n",
            "conv_dw_8 (DepthwiseConv2D)  (None, 14, 14, 512)       4608      \n",
            "_________________________________________________________________\n",
            "conv_dw_8_bn (BatchNormaliza (None, 14, 14, 512)       2048      \n",
            "_________________________________________________________________\n",
            "conv_dw_8_relu (ReLU)        (None, 14, 14, 512)       0         \n",
            "_________________________________________________________________\n",
            "conv_pw_8 (Conv2D)           (None, 14, 14, 512)       262144    \n",
            "_________________________________________________________________\n",
            "conv_pw_8_bn (BatchNormaliza (None, 14, 14, 512)       2048      \n",
            "_________________________________________________________________\n",
            "conv_pw_8_relu (ReLU)        (None, 14, 14, 512)       0         \n",
            "_________________________________________________________________\n",
            "conv_dw_9 (DepthwiseConv2D)  (None, 14, 14, 512)       4608      \n",
            "_________________________________________________________________\n",
            "conv_dw_9_bn (BatchNormaliza (None, 14, 14, 512)       2048      \n",
            "_________________________________________________________________\n",
            "conv_dw_9_relu (ReLU)        (None, 14, 14, 512)       0         \n",
            "_________________________________________________________________\n",
            "conv_pw_9 (Conv2D)           (None, 14, 14, 512)       262144    \n",
            "_________________________________________________________________\n",
            "conv_pw_9_bn (BatchNormaliza (None, 14, 14, 512)       2048      \n",
            "_________________________________________________________________\n",
            "conv_pw_9_relu (ReLU)        (None, 14, 14, 512)       0         \n",
            "_________________________________________________________________\n",
            "conv_dw_10 (DepthwiseConv2D) (None, 14, 14, 512)       4608      \n",
            "_________________________________________________________________\n",
            "conv_dw_10_bn (BatchNormaliz (None, 14, 14, 512)       2048      \n",
            "_________________________________________________________________\n",
            "conv_dw_10_relu (ReLU)       (None, 14, 14, 512)       0         \n",
            "_________________________________________________________________\n",
            "conv_pw_10 (Conv2D)          (None, 14, 14, 512)       262144    \n",
            "_________________________________________________________________\n",
            "conv_pw_10_bn (BatchNormaliz (None, 14, 14, 512)       2048      \n",
            "_________________________________________________________________\n",
            "conv_pw_10_relu (ReLU)       (None, 14, 14, 512)       0         \n",
            "_________________________________________________________________\n",
            "conv_dw_11 (DepthwiseConv2D) (None, 14, 14, 512)       4608      \n",
            "_________________________________________________________________\n",
            "conv_dw_11_bn (BatchNormaliz (None, 14, 14, 512)       2048      \n",
            "_________________________________________________________________\n",
            "conv_dw_11_relu (ReLU)       (None, 14, 14, 512)       0         \n",
            "_________________________________________________________________\n",
            "conv_pw_11 (Conv2D)          (None, 14, 14, 512)       262144    \n",
            "_________________________________________________________________\n",
            "conv_pw_11_bn (BatchNormaliz (None, 14, 14, 512)       2048      \n",
            "_________________________________________________________________\n",
            "conv_pw_11_relu (ReLU)       (None, 14, 14, 512)       0         \n",
            "_________________________________________________________________\n",
            "conv_pad_12 (ZeroPadding2D)  (None, 15, 15, 512)       0         \n",
            "_________________________________________________________________\n",
            "conv_dw_12 (DepthwiseConv2D) (None, 7, 7, 512)         4608      \n",
            "_________________________________________________________________\n",
            "conv_dw_12_bn (BatchNormaliz (None, 7, 7, 512)         2048      \n",
            "_________________________________________________________________\n",
            "conv_dw_12_relu (ReLU)       (None, 7, 7, 512)         0         \n",
            "_________________________________________________________________\n",
            "conv_pw_12 (Conv2D)          (None, 7, 7, 1024)        524288    \n",
            "_________________________________________________________________\n",
            "conv_pw_12_bn (BatchNormaliz (None, 7, 7, 1024)        4096      \n",
            "_________________________________________________________________\n",
            "conv_pw_12_relu (ReLU)       (None, 7, 7, 1024)        0         \n",
            "_________________________________________________________________\n",
            "conv_dw_13 (DepthwiseConv2D) (None, 7, 7, 1024)        9216      \n",
            "_________________________________________________________________\n",
            "conv_dw_13_bn (BatchNormaliz (None, 7, 7, 1024)        4096      \n",
            "_________________________________________________________________\n",
            "conv_dw_13_relu (ReLU)       (None, 7, 7, 1024)        0         \n",
            "_________________________________________________________________\n",
            "conv_pw_13 (Conv2D)          (None, 7, 7, 1024)        1048576   \n",
            "_________________________________________________________________\n",
            "conv_pw_13_bn (BatchNormaliz (None, 7, 7, 1024)        4096      \n",
            "_________________________________________________________________\n",
            "conv_pw_13_relu (ReLU)       (None, 7, 7, 1024)        0         \n",
            "_________________________________________________________________\n",
            "global_average_pooling2d_14  (None, 1024)              0         \n",
            "_________________________________________________________________\n",
            "dense_19 (Dense)             (None, 2)                 2050      \n",
            "=================================================================\n",
            "Total params: 3,230,914\n",
            "Trainable params: 3,209,026\n",
            "Non-trainable params: 21,888\n",
            "_________________________________________________________________\n"
          ],
          "name": "stdout"
        }
      ]
    },
    {
      "cell_type": "code",
      "metadata": {
        "id": "jXDxv0C8GqpW",
        "colab_type": "code",
        "colab": {}
      },
      "source": [
        "import tensorflow as tf\n",
        "model.compile(optimizer=Adam(lr=1e-4),loss='categorical_crossentropy',metrics=['accuracy'])"
      ],
      "execution_count": 0,
      "outputs": []
    },
    {
      "cell_type": "code",
      "metadata": {
        "id": "xBW9YAJ8G-YJ",
        "colab_type": "code",
        "outputId": "22238fc5-d331-4a15-8bc8-19bc31e28352",
        "colab": {
          "base_uri": "https://localhost:8080/",
          "height": 714
        }
      },
      "source": [
        "hist = model.fit(X_train, y_train, batch_size=32, epochs=20, verbose=1, validation_data=(X_valid, y_valid))"
      ],
      "execution_count": 0,
      "outputs": [
        {
          "output_type": "stream",
          "text": [
            "Train on 33128 samples, validate on 3680 samples\n",
            "Epoch 1/20\n",
            "33128/33128 [==============================] - 181s 5ms/step - loss: 0.4985 - acc: 0.7687 - val_loss: 0.4754 - val_acc: 0.7946\n",
            "Epoch 2/20\n",
            "33128/33128 [==============================] - 173s 5ms/step - loss: 0.3991 - acc: 0.8246 - val_loss: 0.4769 - val_acc: 0.7837\n",
            "Epoch 3/20\n",
            "33128/33128 [==============================] - 173s 5ms/step - loss: 0.3188 - acc: 0.8641 - val_loss: 0.6032 - val_acc: 0.7793\n",
            "Epoch 4/20\n",
            "33128/33128 [==============================] - 173s 5ms/step - loss: 0.2330 - acc: 0.9032 - val_loss: 0.5901 - val_acc: 0.7951\n",
            "Epoch 5/20\n",
            "33128/33128 [==============================] - 173s 5ms/step - loss: 0.1555 - acc: 0.9376 - val_loss: 0.7926 - val_acc: 0.7785\n",
            "Epoch 6/20\n",
            "33128/33128 [==============================] - 172s 5ms/step - loss: 0.1129 - acc: 0.9558 - val_loss: 0.6714 - val_acc: 0.7851\n",
            "Epoch 7/20\n",
            "33128/33128 [==============================] - 172s 5ms/step - loss: 0.0859 - acc: 0.9679 - val_loss: 0.7456 - val_acc: 0.7932\n",
            "Epoch 8/20\n",
            "33128/33128 [==============================] - 172s 5ms/step - loss: 0.0743 - acc: 0.9729 - val_loss: 0.7630 - val_acc: 0.7723\n",
            "Epoch 9/20\n",
            "33128/33128 [==============================] - 172s 5ms/step - loss: 0.0672 - acc: 0.9761 - val_loss: 1.1496 - val_acc: 0.7948\n",
            "Epoch 10/20\n",
            "33128/33128 [==============================] - 172s 5ms/step - loss: 0.0561 - acc: 0.9792 - val_loss: 0.8368 - val_acc: 0.7929\n",
            "Epoch 11/20\n",
            "33128/33128 [==============================] - 173s 5ms/step - loss: 0.0545 - acc: 0.9800 - val_loss: 1.4579 - val_acc: 0.7701\n",
            "Epoch 12/20\n",
            "33128/33128 [==============================] - 172s 5ms/step - loss: 0.0505 - acc: 0.9821 - val_loss: 1.0143 - val_acc: 0.7810\n",
            "Epoch 13/20\n",
            "33128/33128 [==============================] - 172s 5ms/step - loss: 0.0507 - acc: 0.9809 - val_loss: 0.7624 - val_acc: 0.8033\n",
            "Epoch 14/20\n",
            "33128/33128 [==============================] - 172s 5ms/step - loss: 0.0454 - acc: 0.9834 - val_loss: 1.0345 - val_acc: 0.7557\n",
            "Epoch 15/20\n",
            "33128/33128 [==============================] - 172s 5ms/step - loss: 0.0447 - acc: 0.9838 - val_loss: 1.0103 - val_acc: 0.8043\n",
            "Epoch 16/20\n",
            "33128/33128 [==============================] - 172s 5ms/step - loss: 0.0430 - acc: 0.9835 - val_loss: 0.9330 - val_acc: 0.8000\n",
            "Epoch 17/20\n",
            "33128/33128 [==============================] - 172s 5ms/step - loss: 0.0429 - acc: 0.9839 - val_loss: 0.9283 - val_acc: 0.7946\n",
            "Epoch 18/20\n",
            "33128/33128 [==============================] - 172s 5ms/step - loss: 0.0368 - acc: 0.9869 - val_loss: 0.9797 - val_acc: 0.7976\n",
            "Epoch 19/20\n",
            "33128/33128 [==============================] - 172s 5ms/step - loss: 0.0382 - acc: 0.9867 - val_loss: 1.0723 - val_acc: 0.7916\n",
            "Epoch 20/20\n",
            "33128/33128 [==============================] - 172s 5ms/step - loss: 0.0369 - acc: 0.9860 - val_loss: 0.9240 - val_acc: 0.7957\n"
          ],
          "name": "stdout"
        }
      ]
    },
    {
      "cell_type": "code",
      "metadata": {
        "id": "oH99VPfqUZ9v",
        "colab_type": "code",
        "outputId": "2c1de7d6-cb18-4878-845c-7d0516238c2f",
        "colab": {
          "base_uri": "https://localhost:8080/",
          "height": 102
        }
      },
      "source": [
        "(loss, accuracy) = model.evaluate(X_test, y_test, batch_size=10, verbose=1)\n",
        "print(\"loss\")\n",
        "print(loss)\n",
        "print(\"accuracy\")\n",
        "print(accuracy)"
      ],
      "execution_count": 0,
      "outputs": [
        {
          "output_type": "stream",
          "text": [
            "3197/3197 [==============================] - 4s 1ms/step\n",
            "loss\n",
            "1.0677852333199487\n",
            "accuracy\n",
            "0.7873005927690387\n"
          ],
          "name": "stdout"
        }
      ]
    },
    {
      "cell_type": "code",
      "metadata": {
        "id": "MWs9R2E6mSiR",
        "colab_type": "code",
        "colab": {}
      },
      "source": [
        "predictionList = model.predict(X_test)\n"
      ],
      "execution_count": 0,
      "outputs": []
    },
    {
      "cell_type": "code",
      "metadata": {
        "colab_type": "code",
        "id": "vv7nZqQt-UyP",
        "colab": {}
      },
      "source": [
        "studyResult = list()\n",
        "temp0 = 0 \n",
        "temp1 = 0\n",
        "j = 0 \n",
        "for i in range(len(testLabelDF)):\n",
        "    while P_test[i] == P_testImage[j] and S_test[i] == S_testImage[j] and j < 3196:\n",
        "      temp0 = temp0 + predictionList[j,0]\n",
        "      temp1 = temp1 + predictionList[j,1]\n",
        "      j = j+1\n",
        "    if temp0 > temp1:\n",
        "      studyResult.append(0)\n",
        "    else:\n",
        "      studyResult.append(1)\n",
        "    temp0 = 0 \n",
        "    temp1 = 0\n"
      ],
      "execution_count": 0,
      "outputs": []
    },
    {
      "cell_type": "code",
      "metadata": {
        "colab_type": "code",
        "id": "xrh3olZy-Uxx",
        "outputId": "3638c272-77c4-4571-cd67-037ac95c6177",
        "colab": {
          "base_uri": "https://localhost:8080/",
          "height": 833
        }
      },
      "source": [
        "from sklearn.metrics import cohen_kappa_score\n",
        "from sklearn.metrics import accuracy_score\n",
        "print(\"overall\")\n",
        "print(\"accuracy\")\n",
        "print(accuracy_score(G_test, studyResult))\n",
        "print(\"kappa\")\n",
        "print(cohen_kappa_score(G_test, studyResult, labels=None, weights=None, sample_weight=None))\n",
        "print(\"----------------------------------------------------------------------------------------------------------------------------------------\")\n",
        "import pandas as pd \n",
        "df = pd.DataFrame(B_test, columns = ['Bone']) \n",
        "df[\"studyResult\"] = studyResult\n",
        "df[\"G_test\"] = G_test\n",
        "\n",
        "elbow = df.loc[df['Bone'] == 'XR_ELBOW'][['studyResult']]\n",
        "elbowG = df.loc[df['Bone'] == 'XR_ELBOW'][['G_test']]\n",
        "print(\"elbow\")\n",
        "print(\"accuracy\")\n",
        "print(accuracy_score(elbowG.values, elbow.values))\n",
        "print(\"kappa\")\n",
        "print(cohen_kappa_score(elbowG.values, elbow.values, labels=None, weights=None, sample_weight=None))\n",
        "print(\"----------------------------------------------------------------------------------------------------------------------------------------\")\n",
        "finger = df.loc[df['Bone'] == 'XR_FINGER'][['studyResult']]\n",
        "fingerG =  df.loc[df['Bone'] == 'XR_FINGER'][['G_test']]\n",
        "print(\"finger\")\n",
        "print(\"accuracy\")\n",
        "print(accuracy_score(fingerG.values, finger.values))\n",
        "print(\"kappa\")\n",
        "print(cohen_kappa_score(fingerG.values, finger.values, labels=None, weights=None, sample_weight=None))\n",
        "print(\"----------------------------------------------------------------------------------------------------------------------------------------\")\n",
        "forearm = df.loc[df['Bone'] == 'XR_FOREARM'][['studyResult']]\n",
        "forearmG = df.loc[df['Bone'] == 'XR_FOREARM'][['G_test']]\n",
        "print(\"forearm\")\n",
        "print(\"accuracy\")\n",
        "print(accuracy_score(forearmG.values, forearm.values))\n",
        "print(\"kappa\")\n",
        "print(cohen_kappa_score(forearmG.values, forearm.values, labels=None, weights=None, sample_weight=None))\n",
        "print(\"----------------------------------------------------------------------------------------------------------------------------------------\")\n",
        "hand = df.loc[df['Bone'] == 'XR_HAND'][['studyResult']]\n",
        "handG = df.loc[df['Bone'] == 'XR_HAND'][['G_test']]\n",
        "print(\"hand\")\n",
        "print(\"accuracy\")\n",
        "print(accuracy_score(handG.values, hand.values))\n",
        "print(\"kappa\")\n",
        "print(cohen_kappa_score(handG.values, hand.values, labels=None, weights=None, sample_weight=None))\n",
        "print(\"----------------------------------------------------------------------------------------------------------------------------------------\")\n",
        "humerus = df.loc[df['Bone'] == 'XR_HUMERUS'][['studyResult']]\n",
        "humerusG = df.loc[df['Bone'] == 'XR_HUMERUS'][['G_test']]\n",
        "print(\"humerus\")\n",
        "print(\"accuracy\")\n",
        "print(accuracy_score(humerusG.values, humerus.values))\n",
        "print(\"kappa\")\n",
        "print(cohen_kappa_score(humerusG.values, humerus.values, labels=None, weights=None, sample_weight=None))\n",
        "print(\"----------------------------------------------------------------------------------------------------------------------------------------\")\n",
        "shoulder = df.loc[df['Bone'] == 'XR_SHOULDER'][['studyResult']]\n",
        "shoulderG = df.loc[df['Bone'] == 'XR_SHOULDER'][['G_test']]\n",
        "print(\"shoulder\")\n",
        "print(\"accuracy\")\n",
        "print(accuracy_score(shoulderG.values, shoulder.values))\n",
        "print(\"kappa\")\n",
        "print(cohen_kappa_score(shoulderG.values, shoulder.values, labels=None, weights=None, sample_weight=None))\n",
        "print(\"----------------------------------------------------------------------------------------------------------------------------------------\")\n",
        "wrist = df.loc[df['Bone'] == 'XR_SHOULDER'][['studyResult']]\n",
        "wristG = df.loc[df['Bone'] == 'XR_SHOULDER'][['G_test']]\n",
        "print(\"wrist\")\n",
        "print(\"accuracy\")\n",
        "print(accuracy_score(wristG.values, wrist.values))\n",
        "print(\"kappa\")\n",
        "print(cohen_kappa_score(wristG.values, wrist.values, labels=None, weights=None, sample_weight=None))\n",
        "print(\"----------------------------------------------------------------------------------------------------------------------------------------\")"
      ],
      "execution_count": 0,
      "outputs": [
        {
          "output_type": "stream",
          "text": [
            "overall\n",
            "accuracy\n",
            "0.8273561301084237\n",
            "kappa\n",
            "0.6476888331812096\n",
            "----------------------------------------------------------------------------------------------------------------------------------------\n",
            "elbow\n",
            "accuracy\n",
            "0.879746835443038\n",
            "kappa\n",
            "0.7468375780064092\n",
            "----------------------------------------------------------------------------------------------------------------------------------------\n",
            "finger\n",
            "accuracy\n",
            "0.8057142857142857\n",
            "kappa\n",
            "0.6062210456651225\n",
            "----------------------------------------------------------------------------------------------------------------------------------------\n",
            "forearm\n",
            "accuracy\n",
            "0.8270676691729323\n",
            "kappa\n",
            "0.6506794564348521\n",
            "----------------------------------------------------------------------------------------------------------------------------------------\n",
            "hand\n",
            "accuracy\n",
            "0.7724550898203593\n",
            "kappa\n",
            "0.5085192069392812\n",
            "----------------------------------------------------------------------------------------------------------------------------------------\n",
            "humerus\n",
            "accuracy\n",
            "0.8666666666666667\n",
            "kappa\n",
            "0.7334357174199211\n",
            "----------------------------------------------------------------------------------------------------------------------------------------\n",
            "shoulder\n",
            "accuracy\n",
            "0.7628865979381443\n",
            "kappa\n",
            "0.5259747158185488\n",
            "----------------------------------------------------------------------------------------------------------------------------------------\n",
            "wrist\n",
            "accuracy\n",
            "0.7628865979381443\n",
            "kappa\n",
            "0.5259747158185488\n",
            "----------------------------------------------------------------------------------------------------------------------------------------\n"
          ],
          "name": "stdout"
        }
      ]
    },
    {
      "cell_type": "code",
      "metadata": {
        "id": "DKeRtKWFiNRk",
        "colab_type": "code",
        "colab": {}
      },
      "source": [
        ""
      ],
      "execution_count": 0,
      "outputs": []
    },
    {
      "cell_type": "markdown",
      "metadata": {
        "id": "J0gsym1FlQZJ",
        "colab_type": "text"
      },
      "source": [
        "# VGG 19"
      ]
    },
    {
      "cell_type": "code",
      "metadata": {
        "id": "DjADn-MWRyJ-",
        "colab_type": "code",
        "colab": {}
      },
      "source": [
        ""
      ],
      "execution_count": 0,
      "outputs": []
    },
    {
      "cell_type": "code",
      "metadata": {
        "colab_type": "code",
        "outputId": "d19d8c3e-365f-4273-8374-8462819f0ef4",
        "id": "pnx8IBlXc6uJ",
        "colab": {
          "base_uri": "https://localhost:8080/",
          "height": 1000
        }
      },
      "source": [
        "net_input = Input(shape=(224,224,3))\n",
        "vgg19 = keras.applications.vgg19.VGG19(include_top= True, weights='imagenet', input_tensor=net_input)\n",
        "vgg19.summary()"
      ],
      "execution_count": 0,
      "outputs": [
        {
          "output_type": "stream",
          "text": [
            "WARNING:tensorflow:From /usr/local/lib/python3.6/dist-packages/keras/backend/tensorflow_backend.py:4267: The name tf.nn.max_pool is deprecated. Please use tf.nn.max_pool2d instead.\n",
            "\n",
            "Downloading data from https://github.com/fchollet/deep-learning-models/releases/download/v0.1/vgg19_weights_tf_dim_ordering_tf_kernels.h5\n",
            "574717952/574710816 [==============================] - 15s 0us/step\n",
            "Model: \"vgg19\"\n",
            "_________________________________________________________________\n",
            "Layer (type)                 Output Shape              Param #   \n",
            "=================================================================\n",
            "input_3 (InputLayer)         (None, 224, 224, 3)       0         \n",
            "_________________________________________________________________\n",
            "block1_conv1 (Conv2D)        (None, 224, 224, 64)      1792      \n",
            "_________________________________________________________________\n",
            "block1_conv2 (Conv2D)        (None, 224, 224, 64)      36928     \n",
            "_________________________________________________________________\n",
            "block1_pool (MaxPooling2D)   (None, 112, 112, 64)      0         \n",
            "_________________________________________________________________\n",
            "block2_conv1 (Conv2D)        (None, 112, 112, 128)     73856     \n",
            "_________________________________________________________________\n",
            "block2_conv2 (Conv2D)        (None, 112, 112, 128)     147584    \n",
            "_________________________________________________________________\n",
            "block2_pool (MaxPooling2D)   (None, 56, 56, 128)       0         \n",
            "_________________________________________________________________\n",
            "block3_conv1 (Conv2D)        (None, 56, 56, 256)       295168    \n",
            "_________________________________________________________________\n",
            "block3_conv2 (Conv2D)        (None, 56, 56, 256)       590080    \n",
            "_________________________________________________________________\n",
            "block3_conv3 (Conv2D)        (None, 56, 56, 256)       590080    \n",
            "_________________________________________________________________\n",
            "block3_conv4 (Conv2D)        (None, 56, 56, 256)       590080    \n",
            "_________________________________________________________________\n",
            "block3_pool (MaxPooling2D)   (None, 28, 28, 256)       0         \n",
            "_________________________________________________________________\n",
            "block4_conv1 (Conv2D)        (None, 28, 28, 512)       1180160   \n",
            "_________________________________________________________________\n",
            "block4_conv2 (Conv2D)        (None, 28, 28, 512)       2359808   \n",
            "_________________________________________________________________\n",
            "block4_conv3 (Conv2D)        (None, 28, 28, 512)       2359808   \n",
            "_________________________________________________________________\n",
            "block4_conv4 (Conv2D)        (None, 28, 28, 512)       2359808   \n",
            "_________________________________________________________________\n",
            "block4_pool (MaxPooling2D)   (None, 14, 14, 512)       0         \n",
            "_________________________________________________________________\n",
            "block5_conv1 (Conv2D)        (None, 14, 14, 512)       2359808   \n",
            "_________________________________________________________________\n",
            "block5_conv2 (Conv2D)        (None, 14, 14, 512)       2359808   \n",
            "_________________________________________________________________\n",
            "block5_conv3 (Conv2D)        (None, 14, 14, 512)       2359808   \n",
            "_________________________________________________________________\n",
            "block5_conv4 (Conv2D)        (None, 14, 14, 512)       2359808   \n",
            "_________________________________________________________________\n",
            "block5_pool (MaxPooling2D)   (None, 7, 7, 512)         0         \n",
            "_________________________________________________________________\n",
            "flatten (Flatten)            (None, 25088)             0         \n",
            "_________________________________________________________________\n",
            "fc1 (Dense)                  (None, 4096)              102764544 \n",
            "_________________________________________________________________\n",
            "fc2 (Dense)                  (None, 4096)              16781312  \n",
            "_________________________________________________________________\n",
            "predictions (Dense)          (None, 1000)              4097000   \n",
            "=================================================================\n",
            "Total params: 143,667,240\n",
            "Trainable params: 143,667,240\n",
            "Non-trainable params: 0\n",
            "_________________________________________________________________\n"
          ],
          "name": "stdout"
        }
      ]
    },
    {
      "cell_type": "code",
      "metadata": {
        "colab_type": "code",
        "outputId": "e07b54c3-27ea-4992-9d86-6224c2ec43fe",
        "id": "VWLsKPVxc6uN",
        "colab": {
          "base_uri": "https://localhost:8080/",
          "height": 1000
        }
      },
      "source": [
        "last_layer = vgg19.get_layer('fc2').output\n",
        "out = Dense(2, activation='softmax', name='output')(last_layer)\n",
        "custom_vgg_model1 = Model(net_input, out)\n",
        "custom_vgg_model1.summary()\n"
      ],
      "execution_count": 0,
      "outputs": [
        {
          "output_type": "stream",
          "text": [
            "Model: \"model_2\"\n",
            "_________________________________________________________________\n",
            "Layer (type)                 Output Shape              Param #   \n",
            "=================================================================\n",
            "input_3 (InputLayer)         (None, 224, 224, 3)       0         \n",
            "_________________________________________________________________\n",
            "block1_conv1 (Conv2D)        (None, 224, 224, 64)      1792      \n",
            "_________________________________________________________________\n",
            "block1_conv2 (Conv2D)        (None, 224, 224, 64)      36928     \n",
            "_________________________________________________________________\n",
            "block1_pool (MaxPooling2D)   (None, 112, 112, 64)      0         \n",
            "_________________________________________________________________\n",
            "block2_conv1 (Conv2D)        (None, 112, 112, 128)     73856     \n",
            "_________________________________________________________________\n",
            "block2_conv2 (Conv2D)        (None, 112, 112, 128)     147584    \n",
            "_________________________________________________________________\n",
            "block2_pool (MaxPooling2D)   (None, 56, 56, 128)       0         \n",
            "_________________________________________________________________\n",
            "block3_conv1 (Conv2D)        (None, 56, 56, 256)       295168    \n",
            "_________________________________________________________________\n",
            "block3_conv2 (Conv2D)        (None, 56, 56, 256)       590080    \n",
            "_________________________________________________________________\n",
            "block3_conv3 (Conv2D)        (None, 56, 56, 256)       590080    \n",
            "_________________________________________________________________\n",
            "block3_conv4 (Conv2D)        (None, 56, 56, 256)       590080    \n",
            "_________________________________________________________________\n",
            "block3_pool (MaxPooling2D)   (None, 28, 28, 256)       0         \n",
            "_________________________________________________________________\n",
            "block4_conv1 (Conv2D)        (None, 28, 28, 512)       1180160   \n",
            "_________________________________________________________________\n",
            "block4_conv2 (Conv2D)        (None, 28, 28, 512)       2359808   \n",
            "_________________________________________________________________\n",
            "block4_conv3 (Conv2D)        (None, 28, 28, 512)       2359808   \n",
            "_________________________________________________________________\n",
            "block4_conv4 (Conv2D)        (None, 28, 28, 512)       2359808   \n",
            "_________________________________________________________________\n",
            "block4_pool (MaxPooling2D)   (None, 14, 14, 512)       0         \n",
            "_________________________________________________________________\n",
            "block5_conv1 (Conv2D)        (None, 14, 14, 512)       2359808   \n",
            "_________________________________________________________________\n",
            "block5_conv2 (Conv2D)        (None, 14, 14, 512)       2359808   \n",
            "_________________________________________________________________\n",
            "block5_conv3 (Conv2D)        (None, 14, 14, 512)       2359808   \n",
            "_________________________________________________________________\n",
            "block5_conv4 (Conv2D)        (None, 14, 14, 512)       2359808   \n",
            "_________________________________________________________________\n",
            "block5_pool (MaxPooling2D)   (None, 7, 7, 512)         0         \n",
            "_________________________________________________________________\n",
            "flatten (Flatten)            (None, 25088)             0         \n",
            "_________________________________________________________________\n",
            "fc1 (Dense)                  (None, 4096)              102764544 \n",
            "_________________________________________________________________\n",
            "fc2 (Dense)                  (None, 4096)              16781312  \n",
            "_________________________________________________________________\n",
            "output (Dense)               (None, 2)                 8194      \n",
            "=================================================================\n",
            "Total params: 139,578,434\n",
            "Trainable params: 139,578,434\n",
            "Non-trainable params: 0\n",
            "_________________________________________________________________\n"
          ],
          "name": "stdout"
        }
      ]
    },
    {
      "cell_type": "code",
      "metadata": {
        "colab_type": "code",
        "outputId": "70a87685-1e6c-4384-f0d5-ff8c11c3ad58",
        "id": "MYJAOV4gc6uP",
        "colab": {
          "base_uri": "https://localhost:8080/",
          "height": 1000
        }
      },
      "source": [
        "for layer in custom_vgg_model1.layers[:-1]:\n",
        "      layer.trainable = False \n",
        "custom_vgg_model1.summary()"
      ],
      "execution_count": 0,
      "outputs": [
        {
          "output_type": "stream",
          "text": [
            "Model: \"model_2\"\n",
            "_________________________________________________________________\n",
            "Layer (type)                 Output Shape              Param #   \n",
            "=================================================================\n",
            "input_3 (InputLayer)         (None, 224, 224, 3)       0         \n",
            "_________________________________________________________________\n",
            "block1_conv1 (Conv2D)        (None, 224, 224, 64)      1792      \n",
            "_________________________________________________________________\n",
            "block1_conv2 (Conv2D)        (None, 224, 224, 64)      36928     \n",
            "_________________________________________________________________\n",
            "block1_pool (MaxPooling2D)   (None, 112, 112, 64)      0         \n",
            "_________________________________________________________________\n",
            "block2_conv1 (Conv2D)        (None, 112, 112, 128)     73856     \n",
            "_________________________________________________________________\n",
            "block2_conv2 (Conv2D)        (None, 112, 112, 128)     147584    \n",
            "_________________________________________________________________\n",
            "block2_pool (MaxPooling2D)   (None, 56, 56, 128)       0         \n",
            "_________________________________________________________________\n",
            "block3_conv1 (Conv2D)        (None, 56, 56, 256)       295168    \n",
            "_________________________________________________________________\n",
            "block3_conv2 (Conv2D)        (None, 56, 56, 256)       590080    \n",
            "_________________________________________________________________\n",
            "block3_conv3 (Conv2D)        (None, 56, 56, 256)       590080    \n",
            "_________________________________________________________________\n",
            "block3_conv4 (Conv2D)        (None, 56, 56, 256)       590080    \n",
            "_________________________________________________________________\n",
            "block3_pool (MaxPooling2D)   (None, 28, 28, 256)       0         \n",
            "_________________________________________________________________\n",
            "block4_conv1 (Conv2D)        (None, 28, 28, 512)       1180160   \n",
            "_________________________________________________________________\n",
            "block4_conv2 (Conv2D)        (None, 28, 28, 512)       2359808   \n",
            "_________________________________________________________________\n",
            "block4_conv3 (Conv2D)        (None, 28, 28, 512)       2359808   \n",
            "_________________________________________________________________\n",
            "block4_conv4 (Conv2D)        (None, 28, 28, 512)       2359808   \n",
            "_________________________________________________________________\n",
            "block4_pool (MaxPooling2D)   (None, 14, 14, 512)       0         \n",
            "_________________________________________________________________\n",
            "block5_conv1 (Conv2D)        (None, 14, 14, 512)       2359808   \n",
            "_________________________________________________________________\n",
            "block5_conv2 (Conv2D)        (None, 14, 14, 512)       2359808   \n",
            "_________________________________________________________________\n",
            "block5_conv3 (Conv2D)        (None, 14, 14, 512)       2359808   \n",
            "_________________________________________________________________\n",
            "block5_conv4 (Conv2D)        (None, 14, 14, 512)       2359808   \n",
            "_________________________________________________________________\n",
            "block5_pool (MaxPooling2D)   (None, 7, 7, 512)         0         \n",
            "_________________________________________________________________\n",
            "flatten (Flatten)            (None, 25088)             0         \n",
            "_________________________________________________________________\n",
            "fc1 (Dense)                  (None, 4096)              102764544 \n",
            "_________________________________________________________________\n",
            "fc2 (Dense)                  (None, 4096)              16781312  \n",
            "_________________________________________________________________\n",
            "output (Dense)               (None, 2)                 8194      \n",
            "=================================================================\n",
            "Total params: 139,578,434\n",
            "Trainable params: 8,194\n",
            "Non-trainable params: 139,570,240\n",
            "_________________________________________________________________\n"
          ],
          "name": "stdout"
        }
      ]
    },
    {
      "cell_type": "code",
      "metadata": {
        "colab_type": "code",
        "id": "xJulraH0c6uT",
        "colab": {}
      },
      "source": [
        "custom_vgg_model1.compile(loss='binary_crossentropy',optimizer= 'rmsprop' ,metrics=['accuracy'])"
      ],
      "execution_count": 0,
      "outputs": []
    },
    {
      "cell_type": "code",
      "metadata": {
        "colab_type": "code",
        "outputId": "3843cf0f-a29d-478a-be3b-1f102c6a43e9",
        "id": "MB2yDUaOc6uV",
        "colab": {
          "base_uri": "https://localhost:8080/",
          "height": 68
        }
      },
      "source": [
        "hist = custom_vgg_model1.fit(X_train, y_train, batch_size=32, epochs=1, verbose=1, validation_data=(X_valid, y_valid))\n"
      ],
      "execution_count": 0,
      "outputs": [
        {
          "output_type": "stream",
          "text": [
            "Train on 33128 samples, validate on 3680 samples\n",
            "Epoch 1/1\n",
            "33128/33128 [==============================] - 111s 3ms/step - loss: 0.7469 - acc: 0.6984 - val_loss: 1.0412 - val_acc: 0.6554\n"
          ],
          "name": "stdout"
        }
      ]
    },
    {
      "cell_type": "code",
      "metadata": {
        "colab_type": "code",
        "outputId": "93c20806-b59f-4d3e-e13a-b204aab58eb6",
        "id": "cBgc-qeoc6uW",
        "colab": {
          "base_uri": "https://localhost:8080/",
          "height": 102
        }
      },
      "source": [
        "(loss, accuracy) = custom_vgg_model1.evaluate(X_test, y_test, batch_size=10, verbose=1)\n",
        "print(\"loss\")\n",
        "print(loss)\n",
        "print(\"accuracy\")\n",
        "print(accuracy)"
      ],
      "execution_count": 0,
      "outputs": [
        {
          "output_type": "stream",
          "text": [
            "3197/3197 [==============================] - 13s 4ms/step\n",
            "loss\n",
            "1.2031035472803933\n",
            "accuracy\n",
            "0.6080700666747094\n"
          ],
          "name": "stdout"
        }
      ]
    },
    {
      "cell_type": "code",
      "metadata": {
        "colab_type": "code",
        "id": "IpU5scs5c6uZ",
        "colab": {}
      },
      "source": [
        "predictionList = custom_vgg_model1.predict(X_test)"
      ],
      "execution_count": 0,
      "outputs": []
    },
    {
      "cell_type": "code",
      "metadata": {
        "colab_type": "code",
        "outputId": "b78a0ce0-6548-4076-a237-d9c5030f1b91",
        "id": "2nMz37uZc6ua",
        "colab": {
          "base_uri": "https://localhost:8080/",
          "height": 34
        }
      },
      "source": [
        "print(np.shape(S_testImage))"
      ],
      "execution_count": 0,
      "outputs": [
        {
          "output_type": "stream",
          "text": [
            "(3197, 1)\n"
          ],
          "name": "stdout"
        }
      ]
    },
    {
      "cell_type": "code",
      "metadata": {
        "colab_type": "code",
        "id": "30Y_EA1Ec6uc",
        "colab": {}
      },
      "source": [
        "studyResult = list()\n",
        "temp0 = 0 \n",
        "temp1 = 0\n",
        "j = 0 \n",
        "for i in range(len(testLabelDF)):\n",
        "    while P_test[i] == P_testImage[j] and S_test[i] == S_testImage[j] and j < 3196:\n",
        "      temp0 = temp0 + predictionList[j,0]\n",
        "      #print(\"temp0 \",temp0)\n",
        "      temp1 = temp1 + predictionList[j,1]\n",
        "      #print(\"temp1 \",temp1)\n",
        "      j = j+1\n",
        "    if temp0 > temp1:\n",
        "      studyResult.append(0)\n",
        "    else:\n",
        "      studyResult.append(1)\n",
        "    temp0 = 0 \n",
        "    temp1 = 0\n",
        "\n",
        "\n"
      ],
      "execution_count": 0,
      "outputs": []
    },
    {
      "cell_type": "code",
      "metadata": {
        "colab_type": "code",
        "outputId": "b864baf2-6658-4048-f8ac-c7645a1a6a66",
        "id": "rf2jh0oMc6ud",
        "colab": {
          "base_uri": "https://localhost:8080/",
          "height": 833
        }
      },
      "source": [
        "from sklearn.metrics import cohen_kappa_score\n",
        "from sklearn.metrics import accuracy_score\n",
        "print(\"overall\")\n",
        "print(\"accuracy\")\n",
        "print(accuracy_score(G_test, studyResult))\n",
        "print(\"kappa\")\n",
        "print(cohen_kappa_score(G_test, studyResult, labels=None, weights=None, sample_weight=None))\n",
        "print(\"----------------------------------------------------------------------------------------------------------------------------------------\")\n",
        "import pandas as pd \n",
        "df = pd.DataFrame(B_test, columns = ['Bone']) \n",
        "df[\"studyResult\"] = studyResult\n",
        "df[\"G_test\"] = G_test\n",
        "\n",
        "elbow = df.loc[df['Bone'] == 'XR_ELBOW'][['studyResult']]\n",
        "elbowG = df.loc[df['Bone'] == 'XR_ELBOW'][['G_test']]\n",
        "print(\"elbow\")\n",
        "print(\"accuracy\")\n",
        "print(accuracy_score(elbowG.values, elbow.values))\n",
        "print(\"kappa\")\n",
        "print(cohen_kappa_score(elbowG.values, elbow.values, labels=None, weights=None, sample_weight=None))\n",
        "print(\"----------------------------------------------------------------------------------------------------------------------------------------\")\n",
        "finger = df.loc[df['Bone'] == 'XR_FINGER'][['studyResult']]\n",
        "fingerG =  df.loc[df['Bone'] == 'XR_FINGER'][['G_test']]\n",
        "print(\"finger\")\n",
        "print(\"accuracy\")\n",
        "print(accuracy_score(fingerG.values, finger.values))\n",
        "print(\"kappa\")\n",
        "print(cohen_kappa_score(fingerG.values, finger.values, labels=None, weights=None, sample_weight=None))\n",
        "print(\"----------------------------------------------------------------------------------------------------------------------------------------\")\n",
        "forearm = df.loc[df['Bone'] == 'XR_FOREARM'][['studyResult']]\n",
        "forearmG = df.loc[df['Bone'] == 'XR_FOREARM'][['G_test']]\n",
        "print(\"forearm\")\n",
        "print(\"accuracy\")\n",
        "print(accuracy_score(forearmG.values, forearm.values))\n",
        "print(\"kappa\")\n",
        "print(cohen_kappa_score(forearmG.values, forearm.values, labels=None, weights=None, sample_weight=None))\n",
        "print(\"----------------------------------------------------------------------------------------------------------------------------------------\")\n",
        "hand = df.loc[df['Bone'] == 'XR_HAND'][['studyResult']]\n",
        "handG = df.loc[df['Bone'] == 'XR_HAND'][['G_test']]\n",
        "print(\"hand\")\n",
        "print(\"accuracy\")\n",
        "print(accuracy_score(handG.values, hand.values))\n",
        "print(\"kappa\")\n",
        "print(cohen_kappa_score(handG.values, hand.values, labels=None, weights=None, sample_weight=None))\n",
        "print(\"----------------------------------------------------------------------------------------------------------------------------------------\")\n",
        "humerus = df.loc[df['Bone'] == 'XR_HUMERUS'][['studyResult']]\n",
        "humerusG = df.loc[df['Bone'] == 'XR_HUMERUS'][['G_test']]\n",
        "print(\"humerus\")\n",
        "print(\"accuracy\")\n",
        "print(accuracy_score(humerusG.values, humerus.values))\n",
        "print(\"kappa\")\n",
        "print(cohen_kappa_score(humerusG.values, humerus.values, labels=None, weights=None, sample_weight=None))\n",
        "print(\"----------------------------------------------------------------------------------------------------------------------------------------\")\n",
        "shoulder = df.loc[df['Bone'] == 'XR_SHOULDER'][['studyResult']]\n",
        "shoulderG = df.loc[df['Bone'] == 'XR_SHOULDER'][['G_test']]\n",
        "print(\"shoulder\")\n",
        "print(\"accuracy\")\n",
        "print(accuracy_score(shoulderG.values, shoulder.values))\n",
        "print(\"kappa\")\n",
        "print(cohen_kappa_score(shoulderG.values, shoulder.values, labels=None, weights=None, sample_weight=None))\n",
        "print(\"----------------------------------------------------------------------------------------------------------------------------------------\")\n",
        "wrist = df.loc[df['Bone'] == 'XR_SHOULDER'][['studyResult']]\n",
        "wristG = df.loc[df['Bone'] == 'XR_SHOULDER'][['G_test']]\n",
        "print(\"wrist\")\n",
        "print(\"accuracy\")\n",
        "print(accuracy_score(wristG.values, wrist.values))\n",
        "print(\"kappa\")\n",
        "print(cohen_kappa_score(wristG.values, wrist.values, labels=None, weights=None, sample_weight=None))\n",
        "print(\"----------------------------------------------------------------------------------------------------------------------------------------\")"
      ],
      "execution_count": 0,
      "outputs": [
        {
          "output_type": "stream",
          "text": [
            "overall\n",
            "accuracy\n",
            "0.6146788990825688\n",
            "kappa\n",
            "0.15511866268073948\n",
            "----------------------------------------------------------------------------------------------------------------------------------------\n",
            "elbow\n",
            "accuracy\n",
            "0.6518987341772152\n",
            "kappa\n",
            "0.18891170431211501\n",
            "----------------------------------------------------------------------------------------------------------------------------------------\n",
            "finger\n",
            "accuracy\n",
            "0.6057142857142858\n",
            "kappa\n",
            "0.17582417582417587\n",
            "----------------------------------------------------------------------------------------------------------------------------------------\n",
            "forearm\n",
            "accuracy\n",
            "0.5263157894736842\n",
            "kappa\n",
            "0.01620288834096506\n",
            "----------------------------------------------------------------------------------------------------------------------------------------\n",
            "hand\n",
            "accuracy\n",
            "0.6107784431137725\n",
            "kappa\n",
            "0.024445043587669746\n",
            "----------------------------------------------------------------------------------------------------------------------------------------\n",
            "humerus\n",
            "accuracy\n",
            "0.6074074074074074\n",
            "kappa\n",
            "0.2101777238105751\n",
            "----------------------------------------------------------------------------------------------------------------------------------------\n",
            "shoulder\n",
            "accuracy\n",
            "0.6082474226804123\n",
            "kappa\n",
            "0.20466069694681188\n",
            "----------------------------------------------------------------------------------------------------------------------------------------\n",
            "wrist\n",
            "accuracy\n",
            "0.6082474226804123\n",
            "kappa\n",
            "0.20466069694681188\n",
            "----------------------------------------------------------------------------------------------------------------------------------------\n"
          ],
          "name": "stdout"
        }
      ]
    },
    {
      "cell_type": "code",
      "metadata": {
        "colab_type": "code",
        "outputId": "b7947811-c59b-412b-e478-cfd062f6c4c7",
        "id": "p3JnO4bkTjrQ",
        "colab": {
          "base_uri": "https://localhost:8080/",
          "height": 200
        }
      },
      "source": [
        "net_input = Input(shape=(224,224,3))\n",
        "vgg19 = keras.applications.vgg19.VGG19(include_top= True, weights='imagenet', input_tensor=net_input)\n",
        "vgg19.summary()"
      ],
      "execution_count": 0,
      "outputs": [
        {
          "output_type": "error",
          "ename": "NameError",
          "evalue": "ignored",
          "traceback": [
            "\u001b[0;31m---------------------------------------------------------------------------\u001b[0m",
            "\u001b[0;31mNameError\u001b[0m                                 Traceback (most recent call last)",
            "\u001b[0;32m<ipython-input-1-6b35ca6bc60a>\u001b[0m in \u001b[0;36m<module>\u001b[0;34m()\u001b[0m\n\u001b[0;32m----> 1\u001b[0;31m \u001b[0mnet_input\u001b[0m \u001b[0;34m=\u001b[0m \u001b[0mInput\u001b[0m\u001b[0;34m(\u001b[0m\u001b[0mshape\u001b[0m\u001b[0;34m=\u001b[0m\u001b[0;34m(\u001b[0m\u001b[0;36m224\u001b[0m\u001b[0;34m,\u001b[0m\u001b[0;36m224\u001b[0m\u001b[0;34m,\u001b[0m\u001b[0;36m3\u001b[0m\u001b[0;34m)\u001b[0m\u001b[0;34m)\u001b[0m\u001b[0;34m\u001b[0m\u001b[0;34m\u001b[0m\u001b[0m\n\u001b[0m\u001b[1;32m      2\u001b[0m \u001b[0mvgg19\u001b[0m \u001b[0;34m=\u001b[0m \u001b[0mkeras\u001b[0m\u001b[0;34m.\u001b[0m\u001b[0mapplications\u001b[0m\u001b[0;34m.\u001b[0m\u001b[0mvgg19\u001b[0m\u001b[0;34m.\u001b[0m\u001b[0mVGG19\u001b[0m\u001b[0;34m(\u001b[0m\u001b[0minclude_top\u001b[0m\u001b[0;34m=\u001b[0m \u001b[0;32mTrue\u001b[0m\u001b[0;34m,\u001b[0m \u001b[0mweights\u001b[0m\u001b[0;34m=\u001b[0m\u001b[0;34m'imagenet'\u001b[0m\u001b[0;34m,\u001b[0m \u001b[0minput_tensor\u001b[0m\u001b[0;34m=\u001b[0m\u001b[0mnet_input\u001b[0m\u001b[0;34m)\u001b[0m\u001b[0;34m\u001b[0m\u001b[0;34m\u001b[0m\u001b[0m\n\u001b[1;32m      3\u001b[0m \u001b[0mvgg19\u001b[0m\u001b[0;34m.\u001b[0m\u001b[0msummary\u001b[0m\u001b[0;34m(\u001b[0m\u001b[0;34m)\u001b[0m\u001b[0;34m\u001b[0m\u001b[0;34m\u001b[0m\u001b[0m\n",
            "\u001b[0;31mNameError\u001b[0m: name 'Input' is not defined"
          ]
        }
      ]
    },
    {
      "cell_type": "markdown",
      "metadata": {
        "colab_type": "text",
        "id": "lFv1KUlZc6uN"
      },
      "source": [
        "change number of classes from 1000 to 2"
      ]
    },
    {
      "cell_type": "code",
      "metadata": {
        "colab_type": "code",
        "outputId": "3245064b-9581-4615-c369-619fede42337",
        "id": "RvBe-dY8Tjro",
        "colab": {
          "base_uri": "https://localhost:8080/",
          "height": 1000
        }
      },
      "source": [
        "last_layer = vgg19.get_layer('fc2').output\n",
        "out = Dense(2, activation='softmax', name='output')(last_layer)\n",
        "custom_vgg_model1 = Model(net_input, out)\n",
        "custom_vgg_model1.summary()\n"
      ],
      "execution_count": 0,
      "outputs": [
        {
          "output_type": "stream",
          "text": [
            "Model: \"model_2\"\n",
            "_________________________________________________________________\n",
            "Layer (type)                 Output Shape              Param #   \n",
            "=================================================================\n",
            "input_1 (InputLayer)         (None, 224, 224, 3)       0         \n",
            "_________________________________________________________________\n",
            "block1_conv1 (Conv2D)        (None, 224, 224, 64)      1792      \n",
            "_________________________________________________________________\n",
            "block1_conv2 (Conv2D)        (None, 224, 224, 64)      36928     \n",
            "_________________________________________________________________\n",
            "block1_pool (MaxPooling2D)   (None, 112, 112, 64)      0         \n",
            "_________________________________________________________________\n",
            "block2_conv1 (Conv2D)        (None, 112, 112, 128)     73856     \n",
            "_________________________________________________________________\n",
            "block2_conv2 (Conv2D)        (None, 112, 112, 128)     147584    \n",
            "_________________________________________________________________\n",
            "block2_pool (MaxPooling2D)   (None, 56, 56, 128)       0         \n",
            "_________________________________________________________________\n",
            "block3_conv1 (Conv2D)        (None, 56, 56, 256)       295168    \n",
            "_________________________________________________________________\n",
            "block3_conv2 (Conv2D)        (None, 56, 56, 256)       590080    \n",
            "_________________________________________________________________\n",
            "block3_conv3 (Conv2D)        (None, 56, 56, 256)       590080    \n",
            "_________________________________________________________________\n",
            "block3_conv4 (Conv2D)        (None, 56, 56, 256)       590080    \n",
            "_________________________________________________________________\n",
            "block3_pool (MaxPooling2D)   (None, 28, 28, 256)       0         \n",
            "_________________________________________________________________\n",
            "block4_conv1 (Conv2D)        (None, 28, 28, 512)       1180160   \n",
            "_________________________________________________________________\n",
            "block4_conv2 (Conv2D)        (None, 28, 28, 512)       2359808   \n",
            "_________________________________________________________________\n",
            "block4_conv3 (Conv2D)        (None, 28, 28, 512)       2359808   \n",
            "_________________________________________________________________\n",
            "block4_conv4 (Conv2D)        (None, 28, 28, 512)       2359808   \n",
            "_________________________________________________________________\n",
            "block4_pool (MaxPooling2D)   (None, 14, 14, 512)       0         \n",
            "_________________________________________________________________\n",
            "block5_conv1 (Conv2D)        (None, 14, 14, 512)       2359808   \n",
            "_________________________________________________________________\n",
            "block5_conv2 (Conv2D)        (None, 14, 14, 512)       2359808   \n",
            "_________________________________________________________________\n",
            "block5_conv3 (Conv2D)        (None, 14, 14, 512)       2359808   \n",
            "_________________________________________________________________\n",
            "block5_conv4 (Conv2D)        (None, 14, 14, 512)       2359808   \n",
            "_________________________________________________________________\n",
            "block5_pool (MaxPooling2D)   (None, 7, 7, 512)         0         \n",
            "_________________________________________________________________\n",
            "flatten (Flatten)            (None, 25088)             0         \n",
            "_________________________________________________________________\n",
            "fc1 (Dense)                  (None, 4096)              102764544 \n",
            "_________________________________________________________________\n",
            "fc2 (Dense)                  (None, 4096)              16781312  \n",
            "_________________________________________________________________\n",
            "output (Dense)               (None, 2)                 8194      \n",
            "=================================================================\n",
            "Total params: 139,578,434\n",
            "Trainable params: 8,194\n",
            "Non-trainable params: 139,570,240\n",
            "_________________________________________________________________\n"
          ],
          "name": "stdout"
        }
      ]
    },
    {
      "cell_type": "markdown",
      "metadata": {
        "colab_type": "text",
        "id": "FyajQpYNc6uP"
      },
      "source": [
        "### freeze layers "
      ]
    },
    {
      "cell_type": "code",
      "metadata": {
        "colab_type": "code",
        "outputId": "312a9fa9-2f74-40ab-f982-dcb118867f78",
        "id": "NJPVoSxNTjrs",
        "colab": {
          "base_uri": "https://localhost:8080/",
          "height": 1000
        }
      },
      "source": [
        "for layer in custom_vgg_model1.layers[:-1]:\n",
        "      layer.trainable = False \n",
        "custom_vgg_model1.summary()"
      ],
      "execution_count": 0,
      "outputs": [
        {
          "output_type": "stream",
          "text": [
            "Model: \"model_2\"\n",
            "_________________________________________________________________\n",
            "Layer (type)                 Output Shape              Param #   \n",
            "=================================================================\n",
            "input_1 (InputLayer)         (None, 224, 224, 3)       0         \n",
            "_________________________________________________________________\n",
            "block1_conv1 (Conv2D)        (None, 224, 224, 64)      1792      \n",
            "_________________________________________________________________\n",
            "block1_conv2 (Conv2D)        (None, 224, 224, 64)      36928     \n",
            "_________________________________________________________________\n",
            "block1_pool (MaxPooling2D)   (None, 112, 112, 64)      0         \n",
            "_________________________________________________________________\n",
            "block2_conv1 (Conv2D)        (None, 112, 112, 128)     73856     \n",
            "_________________________________________________________________\n",
            "block2_conv2 (Conv2D)        (None, 112, 112, 128)     147584    \n",
            "_________________________________________________________________\n",
            "block2_pool (MaxPooling2D)   (None, 56, 56, 128)       0         \n",
            "_________________________________________________________________\n",
            "block3_conv1 (Conv2D)        (None, 56, 56, 256)       295168    \n",
            "_________________________________________________________________\n",
            "block3_conv2 (Conv2D)        (None, 56, 56, 256)       590080    \n",
            "_________________________________________________________________\n",
            "block3_conv3 (Conv2D)        (None, 56, 56, 256)       590080    \n",
            "_________________________________________________________________\n",
            "block3_conv4 (Conv2D)        (None, 56, 56, 256)       590080    \n",
            "_________________________________________________________________\n",
            "block3_pool (MaxPooling2D)   (None, 28, 28, 256)       0         \n",
            "_________________________________________________________________\n",
            "block4_conv1 (Conv2D)        (None, 28, 28, 512)       1180160   \n",
            "_________________________________________________________________\n",
            "block4_conv2 (Conv2D)        (None, 28, 28, 512)       2359808   \n",
            "_________________________________________________________________\n",
            "block4_conv3 (Conv2D)        (None, 28, 28, 512)       2359808   \n",
            "_________________________________________________________________\n",
            "block4_conv4 (Conv2D)        (None, 28, 28, 512)       2359808   \n",
            "_________________________________________________________________\n",
            "block4_pool (MaxPooling2D)   (None, 14, 14, 512)       0         \n",
            "_________________________________________________________________\n",
            "block5_conv1 (Conv2D)        (None, 14, 14, 512)       2359808   \n",
            "_________________________________________________________________\n",
            "block5_conv2 (Conv2D)        (None, 14, 14, 512)       2359808   \n",
            "_________________________________________________________________\n",
            "block5_conv3 (Conv2D)        (None, 14, 14, 512)       2359808   \n",
            "_________________________________________________________________\n",
            "block5_conv4 (Conv2D)        (None, 14, 14, 512)       2359808   \n",
            "_________________________________________________________________\n",
            "block5_pool (MaxPooling2D)   (None, 7, 7, 512)         0         \n",
            "_________________________________________________________________\n",
            "flatten (Flatten)            (None, 25088)             0         \n",
            "_________________________________________________________________\n",
            "fc1 (Dense)                  (None, 4096)              102764544 \n",
            "_________________________________________________________________\n",
            "fc2 (Dense)                  (None, 4096)              16781312  \n",
            "_________________________________________________________________\n",
            "output (Dense)               (None, 2)                 8194      \n",
            "=================================================================\n",
            "Total params: 139,578,434\n",
            "Trainable params: 8,194\n",
            "Non-trainable params: 139,570,240\n",
            "_________________________________________________________________\n"
          ],
          "name": "stdout"
        }
      ]
    },
    {
      "cell_type": "code",
      "metadata": {
        "colab_type": "code",
        "outputId": "9a9759e0-8813-4277-d08f-03bbe134d5a8",
        "id": "WE_HxiffTjrw",
        "colab": {
          "base_uri": "https://localhost:8080/",
          "height": 68
        }
      },
      "source": [
        "hist = custom_vgg_model1.fit(X_train, y_train, batch_size=32, epochs=1, verbose=1, validation_data=(X_valid, y_valid))\n"
      ],
      "execution_count": 0,
      "outputs": [
        {
          "output_type": "stream",
          "text": [
            "Train on 33128 samples, validate on 3680 samples\n",
            "Epoch 1/1\n",
            "33128/33128 [==============================] - 111s 3ms/step - loss: 0.7186 - acc: 0.7098 - val_loss: 0.9218 - val_acc: 0.6935\n"
          ],
          "name": "stdout"
        }
      ]
    },
    {
      "cell_type": "code",
      "metadata": {
        "colab_type": "code",
        "outputId": "8d18b9ae-6980-4592-a535-0f0f71e471af",
        "id": "O7N4KlO1Tjr1",
        "colab": {
          "base_uri": "https://localhost:8080/",
          "height": 102
        }
      },
      "source": [
        "(loss, accuracy) = custom_vgg_model1.evaluate(X_test, y_test, batch_size=10, verbose=1)\n",
        "print(\"loss\")\n",
        "print(loss)\n",
        "print(\"accuracy\")\n",
        "print(accuracy)"
      ],
      "execution_count": 0,
      "outputs": [
        {
          "output_type": "stream",
          "text": [
            "3197/3197 [==============================] - 13s 4ms/step\n",
            "loss\n",
            "1.124621918776577\n",
            "accuracy\n",
            "0.6330935255387518\n"
          ],
          "name": "stdout"
        }
      ]
    },
    {
      "cell_type": "code",
      "metadata": {
        "colab_type": "code",
        "id": "vbIgAF56Tjr4",
        "colab": {}
      },
      "source": [
        "predictionList = custom_vgg_model1.predict(X_test)"
      ],
      "execution_count": 0,
      "outputs": []
    },
    {
      "cell_type": "code",
      "metadata": {
        "colab_type": "code",
        "outputId": "3e123bf7-d2b1-41e2-ce62-fd5cb9e5cb33",
        "id": "rGTJqjJSTjr6",
        "colab": {
          "base_uri": "https://localhost:8080/",
          "height": 34
        }
      },
      "source": [
        "print(np.shape(S_testImage))"
      ],
      "execution_count": 0,
      "outputs": [
        {
          "output_type": "stream",
          "text": [
            "(3197, 1)\n"
          ],
          "name": "stdout"
        }
      ]
    },
    {
      "cell_type": "code",
      "metadata": {
        "colab_type": "code",
        "id": "k3d-EfOSTjr-",
        "colab": {}
      },
      "source": [
        "studyResult = list()\n",
        "temp0 = 0 \n",
        "temp1 = 0\n",
        "j = 0 \n",
        "for i in range(len(testLabelDF)):\n",
        "    while P_test[i] == P_testImage[j] and S_test[i] == S_testImage[j] and j < 3196:\n",
        "      temp0 = temp0 + predictionList[j,0]\n",
        "      #print(\"temp0 \",temp0)\n",
        "      temp1 = temp1 + predictionList[j,1]\n",
        "      #print(\"temp1 \",temp1)\n",
        "      j = j+1\n",
        "    if temp0 > temp1:\n",
        "      studyResult.append(0)\n",
        "    else:\n",
        "      studyResult.append(1)\n",
        "    temp0 = 0 \n",
        "    temp1 = 0\n",
        "\n",
        "\n"
      ],
      "execution_count": 0,
      "outputs": []
    },
    {
      "cell_type": "code",
      "metadata": {
        "colab_type": "code",
        "outputId": "465c3329-6206-4198-f22b-a8cf8d2e726d",
        "id": "oOK2QpFOTjsC",
        "colab": {
          "base_uri": "https://localhost:8080/",
          "height": 833
        }
      },
      "source": [
        "from sklearn.metrics import cohen_kappa_score\n",
        "from sklearn.metrics import accuracy_score\n",
        "print(\"overall\")\n",
        "print(\"accuracy\")\n",
        "print(accuracy_score(G_test, studyResult))\n",
        "print(\"kappa\")\n",
        "print(cohen_kappa_score(G_test, studyResult, labels=None, weights=None, sample_weight=None))\n",
        "print(\"----------------------------------------------------------------------------------------------------------------------------------------\")\n",
        "import pandas as pd \n",
        "df = pd.DataFrame(B_test, columns = ['Bone']) \n",
        "df[\"studyResult\"] = studyResult\n",
        "df[\"G_test\"] = G_test\n",
        "\n",
        "elbow = df.loc[df['Bone'] == 'XR_ELBOW'][['studyResult']]\n",
        "elbowG = df.loc[df['Bone'] == 'XR_ELBOW'][['G_test']]\n",
        "print(\"elbow\")\n",
        "print(\"accuracy\")\n",
        "print(accuracy_score(elbowG.values, elbow.values))\n",
        "print(\"kappa\")\n",
        "print(cohen_kappa_score(elbowG.values, elbow.values, labels=None, weights=None, sample_weight=None))\n",
        "print(\"----------------------------------------------------------------------------------------------------------------------------------------\")\n",
        "finger = df.loc[df['Bone'] == 'XR_FINGER'][['studyResult']]\n",
        "fingerG =  df.loc[df['Bone'] == 'XR_FINGER'][['G_test']]\n",
        "print(\"finger\")\n",
        "print(\"accuracy\")\n",
        "print(accuracy_score(fingerG.values, finger.values))\n",
        "print(\"kappa\")\n",
        "print(cohen_kappa_score(fingerG.values, finger.values, labels=None, weights=None, sample_weight=None))\n",
        "print(\"----------------------------------------------------------------------------------------------------------------------------------------\")\n",
        "forearm = df.loc[df['Bone'] == 'XR_FOREARM'][['studyResult']]\n",
        "forearmG = df.loc[df['Bone'] == 'XR_FOREARM'][['G_test']]\n",
        "print(\"forearm\")\n",
        "print(\"accuracy\")\n",
        "print(accuracy_score(forearmG.values, forearm.values))\n",
        "print(\"kappa\")\n",
        "print(cohen_kappa_score(forearmG.values, forearm.values, labels=None, weights=None, sample_weight=None))\n",
        "print(\"----------------------------------------------------------------------------------------------------------------------------------------\")\n",
        "hand = df.loc[df['Bone'] == 'XR_HAND'][['studyResult']]\n",
        "handG = df.loc[df['Bone'] == 'XR_HAND'][['G_test']]\n",
        "print(\"hand\")\n",
        "print(\"accuracy\")\n",
        "print(accuracy_score(handG.values, hand.values))\n",
        "print(\"kappa\")\n",
        "print(cohen_kappa_score(handG.values, hand.values, labels=None, weights=None, sample_weight=None))\n",
        "print(\"----------------------------------------------------------------------------------------------------------------------------------------\")\n",
        "humerus = df.loc[df['Bone'] == 'XR_HUMERUS'][['studyResult']]\n",
        "humerusG = df.loc[df['Bone'] == 'XR_HUMERUS'][['G_test']]\n",
        "print(\"humerus\")\n",
        "print(\"accuracy\")\n",
        "print(accuracy_score(humerusG.values, humerus.values))\n",
        "print(\"kappa\")\n",
        "print(cohen_kappa_score(humerusG.values, humerus.values, labels=None, weights=None, sample_weight=None))\n",
        "print(\"----------------------------------------------------------------------------------------------------------------------------------------\")\n",
        "shoulder = df.loc[df['Bone'] == 'XR_SHOULDER'][['studyResult']]\n",
        "shoulderG = df.loc[df['Bone'] == 'XR_SHOULDER'][['G_test']]\n",
        "print(\"shoulder\")\n",
        "print(\"accuracy\")\n",
        "print(accuracy_score(shoulderG.values, shoulder.values))\n",
        "print(\"kappa\")\n",
        "print(cohen_kappa_score(shoulderG.values, shoulder.values, labels=None, weights=None, sample_weight=None))\n",
        "print(\"----------------------------------------------------------------------------------------------------------------------------------------\")\n",
        "wrist = df.loc[df['Bone'] == 'XR_WRIST'][['studyResult']]\n",
        "wristG = df.loc[df['Bone'] == 'XR_WRIST'][['G_test']]\n",
        "print(\"wrist\")\n",
        "print(\"accuracy\")\n",
        "print(accuracy_score(wristG.values, wrist.values))\n",
        "print(\"kappa\")\n",
        "print(cohen_kappa_score(wristG.values, wrist.values, labels=None, weights=None, sample_weight=None))\n",
        "print(\"----------------------------------------------------------------------------------------------------------------------------------------\")"
      ],
      "execution_count": 0,
      "outputs": [
        {
          "output_type": "stream",
          "text": [
            "overall\n",
            "accuracy\n",
            "0.6447039199332777\n",
            "kappa\n",
            "0.2290529607805255\n",
            "----------------------------------------------------------------------------------------------------------------------------------------\n",
            "elbow\n",
            "accuracy\n",
            "0.6835443037974683\n",
            "kappa\n",
            "0.27496328928046987\n",
            "----------------------------------------------------------------------------------------------------------------------------------------\n",
            "finger\n",
            "accuracy\n",
            "0.6\n",
            "kappa\n",
            "0.16439290586630284\n",
            "----------------------------------------------------------------------------------------------------------------------------------------\n",
            "forearm\n",
            "accuracy\n",
            "0.5714285714285714\n",
            "kappa\n",
            "0.11405866542012377\n",
            "----------------------------------------------------------------------------------------------------------------------------------------\n",
            "hand\n",
            "accuracy\n",
            "0.6287425149700598\n",
            "kappa\n",
            "0.07816951566951558\n",
            "----------------------------------------------------------------------------------------------------------------------------------------\n",
            "humerus\n",
            "accuracy\n",
            "0.6296296296296297\n",
            "kappa\n",
            "0.2554599602911979\n",
            "----------------------------------------------------------------------------------------------------------------------------------------\n",
            "shoulder\n",
            "accuracy\n",
            "0.6443298969072165\n",
            "kappa\n",
            "0.27962544397804334\n",
            "----------------------------------------------------------------------------------------------------------------------------------------\n",
            "wrist\n",
            "accuracy\n",
            "0.7130801687763713\n",
            "kappa\n",
            "0.3420429492937046\n",
            "----------------------------------------------------------------------------------------------------------------------------------------\n"
          ],
          "name": "stdout"
        }
      ]
    },
    {
      "cell_type": "code",
      "metadata": {
        "id": "NXSwuAwAKjNZ",
        "colab_type": "code",
        "colab": {}
      },
      "source": [
        "def ensemble (models,model_input,modelName):\n",
        "  outputs=[model.outputs[0] for model in models]\n",
        "  y=Average(name='average_preidictions')(outputs)\n",
        "  model=Model(model_input,y,name=modelName)\n",
        "  return model\n",
        "  \n"
      ],
      "execution_count": 0,
      "outputs": []
    },
    {
      "cell_type": "code",
      "metadata": {
        "id": "sc6MTkeoL-hg",
        "colab_type": "code",
        "colab": {}
      },
      "source": [
        "modelensmbleA=[custom_vgg_model1,model]"
      ],
      "execution_count": 0,
      "outputs": []
    }
  ]
}